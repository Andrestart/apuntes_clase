{
 "cells": [
  {
   "cell_type": "markdown",
   "id": "mighty-crowd",
   "metadata": {},
   "source": [
    "# MongoDB"
   ]
  },
  {
   "cell_type": "markdown",
   "id": "incoming-mortgage",
   "metadata": {},
   "source": [
    "![memesmongo](../images/mongo.png)"
   ]
  },
  {
   "cell_type": "markdown",
   "id": "greatest-neighborhood",
   "metadata": {
    "toc": true
   },
   "source": [
    "<h1>Table of Contents<span class=\"tocSkip\"></span></h1>\n",
    "<div class=\"toc\"><ul class=\"toc-item\"><li><span><a href=\"#¿Qué-es-MongoDB?\" data-toc-modified-id=\"¿Qué-es-MongoDB?-1\"><span class=\"toc-item-num\">1&nbsp;&nbsp;</span>¿Qué es MongoDB?</a></span></li><li><span><a href=\"#¿Qué-es-la-base-de-datos-MongoDB?\" data-toc-modified-id=\"¿Qué-es-la-base-de-datos-MongoDB?-2\"><span class=\"toc-item-num\">2&nbsp;&nbsp;</span>¿Qué es la base de datos MongoDB?</a></span><ul class=\"toc-item\"><li><span><a href=\"#Pequeña-explicación-animada-🤔\" data-toc-modified-id=\"Pequeña-explicación-animada-🤔-2.1\"><span class=\"toc-item-num\">2.1&nbsp;&nbsp;</span>Pequeña explicación animada 🤔</a></span></li></ul></li><li><span><a href=\"#Instalaciones\" data-toc-modified-id=\"Instalaciones-3\"><span class=\"toc-item-num\">3&nbsp;&nbsp;</span>Instalaciones</a></span></li><li><span><a href=\"#Creación-de-bases-de-datos\" data-toc-modified-id=\"Creación-de-bases-de-datos-4\"><span class=\"toc-item-num\">4&nbsp;&nbsp;</span>Creación de bases de datos</a></span></li><li><span><a href=\"#Conexión-con-Python\" data-toc-modified-id=\"Conexión-con-Python-5\"><span class=\"toc-item-num\">5&nbsp;&nbsp;</span>Conexión con Python</a></span><ul class=\"toc-item\"><li><span><a href=\"#Nos-conectamos-al-servidor\" data-toc-modified-id=\"Nos-conectamos-al-servidor-5.1\"><span class=\"toc-item-num\">5.1&nbsp;&nbsp;</span>Nos conectamos al servidor</a></span></li><li><span><a href=\"#Nos-conectamos-con-la-base-de-datos\" data-toc-modified-id=\"Nos-conectamos-con-la-base-de-datos-5.2\"><span class=\"toc-item-num\">5.2&nbsp;&nbsp;</span>Nos conectamos con la base de datos</a></span></li></ul></li><li><span><a href=\"#Operaciones-básicas-de-gestión-de-bases-de-datos\" data-toc-modified-id=\"Operaciones-básicas-de-gestión-de-bases-de-datos-6\"><span class=\"toc-item-num\">6&nbsp;&nbsp;</span>Operaciones básicas de gestión de bases de datos</a></span><ul class=\"toc-item\"><li><span><a href=\"#Creamos-y-borramos-colecciones-desde-python\" data-toc-modified-id=\"Creamos-y-borramos-colecciones-desde-python-6.1\"><span class=\"toc-item-num\">6.1&nbsp;&nbsp;</span>Creamos y borramos colecciones desde python</a></span></li><li><span><a href=\"#Nos-conectamos-a-una-colección-en-concreto-para-hacer-las-consultas\" data-toc-modified-id=\"Nos-conectamos-a-una-colección-en-concreto-para-hacer-las-consultas-6.2\"><span class=\"toc-item-num\">6.2&nbsp;&nbsp;</span>Nos conectamos a una colección en concreto para hacer las consultas</a></span></li></ul></li><li><span><a href=\"#Consultas-en-Mongo\" data-toc-modified-id=\"Consultas-en-Mongo-7\"><span class=\"toc-item-num\">7&nbsp;&nbsp;</span>Consultas en Mongo</a></span><ul class=\"toc-item\"><li><span><a href=\"#Método-find_one\" data-toc-modified-id=\"Método-find_one-7.1\"><span class=\"toc-item-num\">7.1&nbsp;&nbsp;</span>Método <code>find_one</code></a></span></li><li><span><a href=\"#Método-find\" data-toc-modified-id=\"Método-find-7.2\"><span class=\"toc-item-num\">7.2&nbsp;&nbsp;</span>Método <code>find</code></a></span></li></ul></li><li><span><a href=\"#Proyección\" data-toc-modified-id=\"Proyección-8\"><span class=\"toc-item-num\">8&nbsp;&nbsp;</span>Proyección</a></span></li><li><span><a href=\"#Otros-métodos\" data-toc-modified-id=\"Otros-métodos-9\"><span class=\"toc-item-num\">9&nbsp;&nbsp;</span>Otros métodos</a></span><ul class=\"toc-item\"><li><span><a href=\"#distinct\" data-toc-modified-id=\"distinct-9.1\"><span class=\"toc-item-num\">9.1&nbsp;&nbsp;</span><code>distinct</code></a></span></li><li><span><a href=\"#count\" data-toc-modified-id=\"count-9.2\"><span class=\"toc-item-num\">9.2&nbsp;&nbsp;</span><code>count</code></a></span></li><li><span><a href=\"#sort\" data-toc-modified-id=\"sort-9.3\"><span class=\"toc-item-num\">9.3&nbsp;&nbsp;</span><code>sort</code></a></span></li><li><span><a href=\"#limit\" data-toc-modified-id=\"limit-9.4\"><span class=\"toc-item-num\">9.4&nbsp;&nbsp;</span><code>limit</code></a></span></li><li><span><a href=\"#skip\" data-toc-modified-id=\"skip-9.5\"><span class=\"toc-item-num\">9.5&nbsp;&nbsp;</span><code>skip</code></a></span></li></ul></li><li><span><a href=\"#Operadores-de-consulta-típicos\" data-toc-modified-id=\"Operadores-de-consulta-típicos-10\"><span class=\"toc-item-num\">10&nbsp;&nbsp;</span>Operadores de consulta típicos</a></span><ul class=\"toc-item\"><li><span><a href=\"#Mayor-que-/-Menor-que\" data-toc-modified-id=\"Mayor-que-/-Menor-que-10.1\"><span class=\"toc-item-num\">10.1&nbsp;&nbsp;</span>Mayor que / Menor que</a></span></li><li><span><a href=\"#exists\" data-toc-modified-id=\"exists-10.2\"><span class=\"toc-item-num\">10.2&nbsp;&nbsp;</span><code>exists</code></a></span></li><li><span><a href=\"#regex\" data-toc-modified-id=\"regex-10.3\"><span class=\"toc-item-num\">10.3&nbsp;&nbsp;</span><code>regex</code></a></span></li><li><span><a href=\"#and\" data-toc-modified-id=\"and-10.4\"><span class=\"toc-item-num\">10.4&nbsp;&nbsp;</span><code>and</code></a></span></li><li><span><a href=\"#or\" data-toc-modified-id=\"or-10.5\"><span class=\"toc-item-num\">10.5&nbsp;&nbsp;</span><code>or</code></a></span></li><li><span><a href=\"#ne\" data-toc-modified-id=\"ne-10.6\"><span class=\"toc-item-num\">10.6&nbsp;&nbsp;</span><code>ne</code></a></span></li><li><span><a href=\"#in\" data-toc-modified-id=\"in-10.7\"><span class=\"toc-item-num\">10.7&nbsp;&nbsp;</span><code>in</code></a></span></li><li><span><a href=\"#nin\" data-toc-modified-id=\"nin-10.8\"><span class=\"toc-item-num\">10.8&nbsp;&nbsp;</span><code>nin</code></a></span></li></ul></li><li><span><a href=\"#Update\" data-toc-modified-id=\"Update-11\"><span class=\"toc-item-num\">11&nbsp;&nbsp;</span>Update</a></span></li><li><span><a href=\"#Delete\" data-toc-modified-id=\"Delete-12\"><span class=\"toc-item-num\">12&nbsp;&nbsp;</span>Delete</a></span></li><li><span><a href=\"#Insert\" data-toc-modified-id=\"Insert-13\"><span class=\"toc-item-num\">13&nbsp;&nbsp;</span>Insert</a></span></li><li><span><a href=\"#Info-extra\" data-toc-modified-id=\"Info-extra-14\"><span class=\"toc-item-num\">14&nbsp;&nbsp;</span>Info extra</a></span></li><li><span><a href=\"#Resumen\" data-toc-modified-id=\"Resumen-15\"><span class=\"toc-item-num\">15&nbsp;&nbsp;</span>Resumen</a></span></li><li><span><a href=\"#Further-Materials\" data-toc-modified-id=\"Further-Materials-16\"><span class=\"toc-item-num\">16&nbsp;&nbsp;</span>Further Materials</a></span></li></ul></div>"
   ]
  },
  {
   "cell_type": "markdown",
   "id": "logical-pattern",
   "metadata": {},
   "source": [
    "## ¿Qué es MongoDB?    \n",
    "   \n",
    "MongoDB (del inglés humongous, \"enorme\") es un sistema de base de datos NoSQL, orientado a documentos y de código abierto.\n",
    "En lugar de guardar los datos en tablas, tal y como se hace en las bases de datos relacionales, MongoDB guarda estructuras de datos BSON (una especificación similar a JSON) con un esquema dinámico, haciendo que la integración de los datos en ciertas aplicaciones sea más fácil y rápida.\n",
    "MongoDB es una base de datos adecuada para su uso en producción y con múltiples funcionalidades. Esta base de datos se utiliza mucho en la industria, contando con implantaciones en empresas como MTV Network,  Craiglist, Foursquare.       \n",
    "El código fuente está disponible para los sistemas operativos --> Windows, GNU/Linux, OS X y Solaris."
   ]
  },
  {
   "cell_type": "markdown",
   "id": "classified-answer",
   "metadata": {},
   "source": [
    "## ¿Qué es la base de datos MongoDB?\n",
    "\n",
    "Una base de datos, es decir, una forma estructurada de almacenar y acceder a los datos, más específicamente, es una base de datos NoSQL.\n",
    "NoSQL es un término muy genérico que se utiliza para describir cualquier almacén de datos que no utiliza el enfoque heredado de tablas de datos relacionadas.\n",
    "Esto significa que está almacenando sus datos de una manera organizada, pero no en filas y columnas Un ejemplo de bases de datos NoSQL puede ser cualquier cosa, desde un catálogo de tarjetas de biblioteca, a un almacén de datos más sofisticado como MongoDB.\n",
    "Dado que el rango de lo que significa NoSQL es tan amplio, debemos acotar más nuestra definición.\n",
    "MongoDB es una base de datos de documentos NoSQL.\n",
    "Esto significa que los datos en MongoDB se almacenan como documentos, estos documentos se almacenan a su vez en lo que llamamos colecciones de documentos, Por eso MongoDB se clasifica como una base de datos de documentos NoSQL.\n",
    "\n",
    "En conclusión, la base de datos MongoDB es una base de datos de documentos NoSQL."
   ]
  },
  {
   "cell_type": "markdown",
   "id": "checked-sigma",
   "metadata": {},
   "source": [
    "### Pequeña explicación animada 🤔\n",
    "Veamos juntas [este](https://www.youtube.com/watch?v=DM4gD6Z5zFU) vídeo"
   ]
  },
  {
   "cell_type": "markdown",
   "id": "dominican-proposal",
   "metadata": {},
   "source": [
    "## Instalaciones\n",
    "Encontrarás todo lo referente a las instalaciones [AQUÍ](https://github.com/Ironhack-Data-Madrid-Agosto-2021/classroom-materials/blob/main/week_04/00-mongoDB-installation.ipynb)"
   ]
  },
  {
   "cell_type": "markdown",
   "id": "surgical-graduation",
   "metadata": {},
   "source": [
    "## Creación de bases de datos\n",
    "Hemos visto que a través de MongoDB compass podíamos crear una base de datos, una colección e importar los datos en formato JSON de manera sencilla. \n",
    "También podemos hacerlo mediante la interfaz de comandos o CLI de mongo."
   ]
  },
  {
   "cell_type": "code",
   "execution_count": null,
   "id": "emotional-pharmacy",
   "metadata": {},
   "outputs": [],
   "source": [
    "#$ mongoimport --db nombredelabasededatos --collection nombredelacolección --file archivo.json"
   ]
  },
  {
   "cell_type": "markdown",
   "id": "electronic-inclusion",
   "metadata": {},
   "source": [
    "Nos ubicamos en la terminal en la carpeta donde hayamos descargado el json de \"companies\". El comando lo que hace es importar a la base de daatos de ironhack, dentro de la colección companies, ese json. Si introducimos un nombre de base de datos que no existe o de colección que no existe, MongoDB lo crea por nosotras automáticamente. "
   ]
  },
  {
   "cell_type": "markdown",
   "id": "another-neutral",
   "metadata": {},
   "source": [
    "## Conexión con Python"
   ]
  },
  {
   "cell_type": "markdown",
   "id": "tired-portal",
   "metadata": {},
   "source": [
    "Lo primero que vamos a necesitar para conectar python con el servidor de bases de datos de MongoDB es instalar la siguiente librería\n",
    "```python\n",
    "#!pip install pymongo\n",
    "```\n",
    "Y recuerda: Tienes que [leer la documentación](https://pymongo.readthedocs.io/en/stable/)"
   ]
  },
  {
   "cell_type": "code",
   "execution_count": 1,
   "id": "medieval-venue",
   "metadata": {},
   "outputs": [],
   "source": [
    "from pymongo import MongoClient"
   ]
  },
  {
   "cell_type": "markdown",
   "id": "solved-crisis",
   "metadata": {},
   "source": [
    "### Nos conectamos al servidor\n",
    "El servidor de Mongo tiene que estar activo y normalmente está corriendo en el puerto 27017, siempre se conecta a este puerto por defecto"
   ]
  },
  {
   "cell_type": "code",
   "execution_count": 2,
   "id": "material-mexican",
   "metadata": {},
   "outputs": [],
   "source": [
    "# Con el comando MongoClient establecemos conexión con el servidor\n",
    "client = MongoClient(\"localhost:27017\")"
   ]
  },
  {
   "cell_type": "code",
   "execution_count": 3,
   "id": "electrical-shopper",
   "metadata": {},
   "outputs": [
    {
     "data": {
      "text/plain": [
       "MongoClient(host=['localhost:27017'], document_class=dict, tz_aware=False, connect=True)"
      ]
     },
     "execution_count": 3,
     "metadata": {},
     "output_type": "execute_result"
    }
   ],
   "source": [
    "client"
   ]
  },
  {
   "cell_type": "code",
   "execution_count": null,
   "id": "linear-latin",
   "metadata": {},
   "outputs": [],
   "source": [
    "# Mostrar los nombres de las bases de datos existentes"
   ]
  },
  {
   "cell_type": "code",
   "execution_count": 5,
   "id": "equivalent-privacy",
   "metadata": {},
   "outputs": [
    {
     "data": {
      "text/plain": [
       "['HP', 'admin', 'config', 'ironhack', 'local', 'spotify']"
      ]
     },
     "execution_count": 5,
     "metadata": {},
     "output_type": "execute_result"
    }
   ],
   "source": [
    "client.list_database_names()"
   ]
  },
  {
   "cell_type": "markdown",
   "id": "exterior-ecuador",
   "metadata": {},
   "source": [
    "### Nos conectamos con la base de datos"
   ]
  },
  {
   "cell_type": "code",
   "execution_count": 6,
   "id": "civilian-bankruptcy",
   "metadata": {},
   "outputs": [],
   "source": [
    "# Para crear una conexión con la base de datos en la que vayamos a trabajar\n",
    "db = client.get_database(\"ironhack\")"
   ]
  },
  {
   "cell_type": "code",
   "execution_count": 8,
   "id": "living-commons",
   "metadata": {},
   "outputs": [],
   "source": [
    "harry = client.get_database(\"HP\")"
   ]
  },
  {
   "cell_type": "code",
   "execution_count": 11,
   "id": "entitled-glossary",
   "metadata": {},
   "outputs": [
    {
     "data": {
      "text/plain": [
       "Database(MongoClient(host=['localhost:27017'], document_class=dict, tz_aware=False, connect=True), 'HP')"
      ]
     },
     "execution_count": 11,
     "metadata": {},
     "output_type": "execute_result"
    }
   ],
   "source": [
    "harry"
   ]
  },
  {
   "cell_type": "markdown",
   "id": "consolidated-marking",
   "metadata": {},
   "source": [
    "Realmente voy a poder hacer queries con la conexión a la base de datos directamente sin conectarme a la colección, pero a mí me resulta más cómodo guardarme las colecciones en variables para acceder más rápido a ellas."
   ]
  },
  {
   "cell_type": "code",
   "execution_count": 13,
   "id": "empirical-manufacturer",
   "metadata": {},
   "outputs": [
    {
     "data": {
      "text/plain": [
       "{'_id': ObjectId('60e6c9095c6cf27ca52647ac'),\n",
       " 'scene': 1,\n",
       " 'character_name': 'Minerva McGonagall',\n",
       " 'dialogue': 'And the boy?'}"
      ]
     },
     "execution_count": 13,
     "metadata": {},
     "output_type": "execute_result"
    }
   ],
   "source": [
    "harry[\"frases\"].find_one()"
   ]
  },
  {
   "cell_type": "code",
   "execution_count": 7,
   "id": "level-fantasy",
   "metadata": {},
   "outputs": [
    {
     "data": {
      "text/plain": [
       "['restaurants']"
      ]
     },
     "execution_count": 7,
     "metadata": {},
     "output_type": "execute_result"
    }
   ],
   "source": [
    "db.list_collection_names()"
   ]
  },
  {
   "cell_type": "code",
   "execution_count": 9,
   "id": "promotional-pixel",
   "metadata": {},
   "outputs": [],
   "source": [
    "c = db.get_collection(\"restaurants\")"
   ]
  },
  {
   "cell_type": "code",
   "execution_count": 10,
   "id": "novel-server",
   "metadata": {},
   "outputs": [
    {
     "data": {
      "text/plain": [
       "Collection(Database(MongoClient(host=['localhost:27017'], document_class=dict, tz_aware=False, connect=True), 'ironhack'), 'restaurants')"
      ]
     },
     "execution_count": 10,
     "metadata": {},
     "output_type": "execute_result"
    }
   ],
   "source": [
    "c"
   ]
  },
  {
   "cell_type": "markdown",
   "id": "primary-vertical",
   "metadata": {},
   "source": [
    "## Operaciones básicas de gestión de bases de datos"
   ]
  },
  {
   "cell_type": "markdown",
   "id": "monetary-patch",
   "metadata": {},
   "source": [
    "### Creamos y borramos colecciones desde python"
   ]
  },
  {
   "cell_type": "code",
   "execution_count": 16,
   "id": "temporal-arcade",
   "metadata": {},
   "outputs": [
    {
     "data": {
      "text/plain": [
       "Collection(Database(MongoClient(host=['localhost:27017'], document_class=dict, tz_aware=False, connect=True), 'ironhack'), 'PRUEBA')"
      ]
     },
     "execution_count": 16,
     "metadata": {},
     "output_type": "execute_result"
    }
   ],
   "source": [
    "# Podemos crear colecciones como hemos visto antes con la GUI de MongoDB (Mongo Compass) o desde aquí mismo\n",
    "# Creamos la colección\n",
    "db.create_collection(\"PRUEBA\")"
   ]
  },
  {
   "cell_type": "code",
   "execution_count": 17,
   "id": "proud-undergraduate",
   "metadata": {},
   "outputs": [
    {
     "data": {
      "text/plain": [
       "['restaurants', 'PRUEBA']"
      ]
     },
     "execution_count": 17,
     "metadata": {},
     "output_type": "execute_result"
    }
   ],
   "source": [
    "# Listamos las colecciones y vemos si se ha creado la colección\n",
    "db.list_collection_names()"
   ]
  },
  {
   "cell_type": "code",
   "execution_count": 18,
   "id": "superb-harassment",
   "metadata": {},
   "outputs": [
    {
     "data": {
      "text/plain": [
       "{'nIndexesWas': 1, 'ns': 'ironhack.PRUEBA', 'ok': 1.0}"
      ]
     },
     "execution_count": 18,
     "metadata": {},
     "output_type": "execute_result"
    }
   ],
   "source": [
    "# Borramos la colección que acabamos de crear\n",
    "db.drop_collection(\"PRUEBA\")"
   ]
  },
  {
   "cell_type": "code",
   "execution_count": 19,
   "id": "critical-fruit",
   "metadata": {},
   "outputs": [
    {
     "data": {
      "text/plain": [
       "['restaurants']"
      ]
     },
     "execution_count": 19,
     "metadata": {},
     "output_type": "execute_result"
    }
   ],
   "source": [
    "# Comprobamos de nuevo\n",
    "db.list_collection_names()"
   ]
  },
  {
   "cell_type": "markdown",
   "id": "beginning-mechanics",
   "metadata": {},
   "source": [
    "### Nos conectamos a una colección en concreto para hacer las consultas"
   ]
  },
  {
   "cell_type": "code",
   "execution_count": 20,
   "id": "turkish-advantage",
   "metadata": {},
   "outputs": [],
   "source": [
    "# Elegimos la colección con la que vamos a trabajar\n",
    "c = db.get_collection(\"restaurants\")"
   ]
  },
  {
   "cell_type": "code",
   "execution_count": 21,
   "id": "dress-running",
   "metadata": {},
   "outputs": [
    {
     "data": {
      "text/plain": [
       "Collection(Database(MongoClient(host=['localhost:27017'], document_class=dict, tz_aware=False, connect=True), 'ironhack'), 'restaurants')"
      ]
     },
     "execution_count": 21,
     "metadata": {},
     "output_type": "execute_result"
    }
   ],
   "source": [
    "c"
   ]
  },
  {
   "cell_type": "markdown",
   "id": "deadly-aurora",
   "metadata": {},
   "source": [
    "## Consultas en Mongo"
   ]
  },
  {
   "cell_type": "markdown",
   "id": "generous-being",
   "metadata": {},
   "source": [
    "Para explorar cómo son los documentos en mi colección, qué forma y qué campos tienen, puedo irme a Mongo Compass y explorar la colección, o puedo elegir un documento sin filtrar. "
   ]
  },
  {
   "cell_type": "markdown",
   "id": "metric-information",
   "metadata": {},
   "source": [
    "![undocumento](../images/compass1.png)"
   ]
  },
  {
   "cell_type": "code",
   "execution_count": null,
   "id": "satisfied-syntax",
   "metadata": {},
   "outputs": [],
   "source": [
    "## Hagámoslo en Python"
   ]
  },
  {
   "cell_type": "markdown",
   "id": "dietary-musician",
   "metadata": {},
   "source": [
    "### Método `find_one` \n",
    "`collection.find_one(filter)`"
   ]
  },
  {
   "cell_type": "code",
   "execution_count": 22,
   "id": "double-gabriel",
   "metadata": {
    "scrolled": true
   },
   "outputs": [
    {
     "data": {
      "text/plain": [
       "{'_id': ObjectId('55f14312c7447c3da7051b26'),\n",
       " 'URL': 'http://www.just-eat.co.uk/restaurants-cn-chinese-cardiff/menu',\n",
       " 'address': '228 City Road',\n",
       " 'address line 2': 'Cardiff',\n",
       " 'name': '.CN Chinese',\n",
       " 'outcode': 'CF24',\n",
       " 'postcode': '3JH',\n",
       " 'rating': 5,\n",
       " 'type_of_food': 'Chinese'}"
      ]
     },
     "execution_count": 22,
     "metadata": {},
     "output_type": "execute_result"
    }
   ],
   "source": [
    "# Si no pongo ningún filtro, me dará el primer documento\n",
    "c.find_one()"
   ]
  },
  {
   "cell_type": "code",
   "execution_count": 23,
   "id": "copyrighted-genome",
   "metadata": {},
   "outputs": [],
   "source": [
    "primer_documento = c.find_one()"
   ]
  },
  {
   "cell_type": "code",
   "execution_count": 24,
   "id": "constant-member",
   "metadata": {},
   "outputs": [
    {
     "data": {
      "text/plain": [
       "dict"
      ]
     },
     "execution_count": 24,
     "metadata": {},
     "output_type": "execute_result"
    }
   ],
   "source": [
    "type(primer_documento)"
   ]
  },
  {
   "cell_type": "code",
   "execution_count": 25,
   "id": "competent-senate",
   "metadata": {},
   "outputs": [
    {
     "data": {
      "text/plain": [
       "{'_id': ObjectId('55f14312c7447c3da7051b26'),\n",
       " 'URL': 'http://www.just-eat.co.uk/restaurants-cn-chinese-cardiff/menu',\n",
       " 'address': '228 City Road',\n",
       " 'address line 2': 'Cardiff',\n",
       " 'name': '.CN Chinese',\n",
       " 'outcode': 'CF24',\n",
       " 'postcode': '3JH',\n",
       " 'rating': 5,\n",
       " 'type_of_food': 'Chinese'}"
      ]
     },
     "execution_count": 25,
     "metadata": {},
     "output_type": "execute_result"
    }
   ],
   "source": [
    "primer_documento"
   ]
  },
  {
   "cell_type": "code",
   "execution_count": 26,
   "id": "worldwide-spectacular",
   "metadata": {},
   "outputs": [
    {
     "data": {
      "text/plain": [
       "dict_keys(['_id', 'URL', 'address', 'address line 2', 'name', 'outcode', 'postcode', 'rating', 'type_of_food'])"
      ]
     },
     "execution_count": 26,
     "metadata": {},
     "output_type": "execute_result"
    }
   ],
   "source": [
    "# Ojo, porque no todos los documentos tienen por qué tener las mismas keys, Mongo es flexible para esto\n",
    "c.find_one().keys()"
   ]
  },
  {
   "cell_type": "markdown",
   "id": "brown-nitrogen",
   "metadata": {},
   "source": [
    "# Queremos buscar los restaurantes tailandeses\n",
    "Este sería el filtro 👇🏻\n",
    "```python\n",
    "{\"type_of_food\": \"Thai\"}\n",
    "```"
   ]
  },
  {
   "cell_type": "markdown",
   "id": "interstate-queue",
   "metadata": {},
   "source": [
    "SELECT *\n",
    "WHERE \"type_of_food\" = \"Thai\""
   ]
  },
  {
   "cell_type": "code",
   "execution_count": 27,
   "id": "relevant-strike",
   "metadata": {},
   "outputs": [
    {
     "data": {
      "text/plain": [
       "{'_id': ObjectId('55f14312c7447c3da7051b28'),\n",
       " 'URL': 'http://www.just-eat.co.uk/restaurants-atthairestaurant/menu',\n",
       " 'address': '30 Greyhound Road Hammersmith',\n",
       " 'address line 2': 'London',\n",
       " 'name': '@ Thai Restaurant',\n",
       " 'outcode': 'W6',\n",
       " 'postcode': '8NX',\n",
       " 'rating': 4.5,\n",
       " 'type_of_food': 'Thai'}"
      ]
     },
     "execution_count": 27,
     "metadata": {},
     "output_type": "execute_result"
    }
   ],
   "source": [
    "c.find_one({\"type_of_food\": \"Thai\"})"
   ]
  },
  {
   "cell_type": "markdown",
   "id": "forty-challenge",
   "metadata": {},
   "source": [
    "### Método `find` \n",
    "`collection.find(filter)`"
   ]
  },
  {
   "cell_type": "code",
   "execution_count": 39,
   "id": "adolescent-pricing",
   "metadata": {},
   "outputs": [],
   "source": [
    "documentos = c.find()"
   ]
  },
  {
   "cell_type": "code",
   "execution_count": 40,
   "id": "gentle-pantyhose",
   "metadata": {},
   "outputs": [
    {
     "data": {
      "text/plain": [
       "<pymongo.cursor.Cursor at 0x7fe0f1e21af0>"
      ]
     },
     "execution_count": 40,
     "metadata": {},
     "output_type": "execute_result"
    }
   ],
   "source": [
    "documentos"
   ]
  },
  {
   "cell_type": "code",
   "execution_count": 30,
   "id": "creative-setting",
   "metadata": {},
   "outputs": [
    {
     "data": {
      "text/plain": [
       "pymongo.cursor.Cursor"
      ]
     },
     "execution_count": 30,
     "metadata": {},
     "output_type": "execute_result"
    }
   ],
   "source": [
    "type(documentos)"
   ]
  },
  {
   "cell_type": "markdown",
   "id": "animated-surfing",
   "metadata": {},
   "source": [
    "El método de colección `pymongo` devuelve un Cursor:\n",
    " * un Cursor es un iterador\n",
    " * un Cursor tiene el método `__next__` (la función `next` devuelve el siguiente elemento en el flujo)\n",
    " * `pymongo` no trae información a la memoria hasta que se necesita\n",
    " * un Cursor no tiene `len`."
   ]
  },
  {
   "cell_type": "code",
   "execution_count": 33,
   "id": "global-gathering",
   "metadata": {},
   "outputs": [
    {
     "data": {
      "text/plain": [
       "{'_id': ObjectId('55f14312c7447c3da7051b28'),\n",
       " 'URL': 'http://www.just-eat.co.uk/restaurants-atthairestaurant/menu',\n",
       " 'address': '30 Greyhound Road Hammersmith',\n",
       " 'address line 2': 'London',\n",
       " 'name': '@ Thai Restaurant',\n",
       " 'outcode': 'W6',\n",
       " 'postcode': '8NX',\n",
       " 'rating': 4.5,\n",
       " 'type_of_food': 'Thai'}"
      ]
     },
     "execution_count": 33,
     "metadata": {},
     "output_type": "execute_result"
    }
   ],
   "source": [
    "documentos.next()"
   ]
  },
  {
   "cell_type": "code",
   "execution_count": 34,
   "id": "assigned-passenger",
   "metadata": {},
   "outputs": [
    {
     "ename": "TypeError",
     "evalue": "object of type 'Cursor' has no len()",
     "output_type": "error",
     "traceback": [
      "\u001b[0;31m---------------------------------------------------------------------------\u001b[0m",
      "\u001b[0;31mTypeError\u001b[0m                                 Traceback (most recent call last)",
      "\u001b[0;32m<ipython-input-34-a31fe995dc8c>\u001b[0m in \u001b[0;36m<module>\u001b[0;34m\u001b[0m\n\u001b[0;32m----> 1\u001b[0;31m \u001b[0mlen\u001b[0m\u001b[0;34m(\u001b[0m\u001b[0mdocumentos\u001b[0m\u001b[0;34m)\u001b[0m\u001b[0;34m\u001b[0m\u001b[0;34m\u001b[0m\u001b[0m\n\u001b[0m",
      "\u001b[0;31mTypeError\u001b[0m: object of type 'Cursor' has no len()"
     ]
    }
   ],
   "source": [
    "len(documentos)"
   ]
  },
  {
   "cell_type": "code",
   "execution_count": 35,
   "id": "soviet-discussion",
   "metadata": {},
   "outputs": [],
   "source": [
    "documentos_lista = list(documentos)"
   ]
  },
  {
   "cell_type": "code",
   "execution_count": 36,
   "id": "optional-corrections",
   "metadata": {},
   "outputs": [
    {
     "data": {
      "text/plain": [
       "2545"
      ]
     },
     "execution_count": 36,
     "metadata": {},
     "output_type": "execute_result"
    }
   ],
   "source": [
    "len(documentos_lista)"
   ]
  },
  {
   "cell_type": "code",
   "execution_count": 41,
   "id": "precise-ribbon",
   "metadata": {},
   "outputs": [
    {
     "data": {
      "text/plain": [
       "list"
      ]
     },
     "execution_count": 41,
     "metadata": {},
     "output_type": "execute_result"
    }
   ],
   "source": [
    "type(documentos_lista)"
   ]
  },
  {
   "cell_type": "code",
   "execution_count": 44,
   "id": "preceding-terrace",
   "metadata": {},
   "outputs": [
    {
     "name": "stdout",
     "output_type": "stream",
     "text": [
      "[{'_id': ObjectId('55f14312c7447c3da7051b2b'), 'URL': 'http://www.just-eat.co.uk/restaurants-007takeaway-s65/menu', 'address': '6 Drummond Street', 'address line 2': 'Rotherham', 'name': '007 Takeaway', 'outcode': 'S65', 'postcode': '1HY', 'rating': 6, 'type_of_food': 'Pizza'}, {'_id': ObjectId('55f14312c7447c3da7051b29'), 'URL': 'http://www.just-eat.co.uk/restaurants-atthairestaurant/menu', 'address': '30 Greyhound Road Hammersmith', 'address line 2': 'London', 'name': '@ Thai Restaurant', 'outcode': 'W6', 'postcode': '8NX', 'rating': 4.5, 'type_of_food': 'Thai'}, {'_id': ObjectId('55f14312c7447c3da7051b2c'), 'URL': 'http://www.just-eat.co.uk/restaurants-042-restaurant-e11/menu', 'address': '885 High Road Leytonstone', 'address line 2': 'London', 'name': '042 Restaurant & Bar', 'outcode': 'E11', 'postcode': '1HR', 'rating': 3, 'type_of_food': 'African'}]\n"
     ]
    }
   ],
   "source": [
    "print(documentos_lista[0:3])"
   ]
  },
  {
   "cell_type": "code",
   "execution_count": 45,
   "id": "expanded-northwest",
   "metadata": {},
   "outputs": [],
   "source": [
    "import pandas as pd"
   ]
  },
  {
   "cell_type": "code",
   "execution_count": 46,
   "id": "published-fundamentals",
   "metadata": {},
   "outputs": [
    {
     "data": {
      "text/html": [
       "<div>\n",
       "<style scoped>\n",
       "    .dataframe tbody tr th:only-of-type {\n",
       "        vertical-align: middle;\n",
       "    }\n",
       "\n",
       "    .dataframe tbody tr th {\n",
       "        vertical-align: top;\n",
       "    }\n",
       "\n",
       "    .dataframe thead th {\n",
       "        text-align: right;\n",
       "    }\n",
       "</style>\n",
       "<table border=\"1\" class=\"dataframe\">\n",
       "  <thead>\n",
       "    <tr style=\"text-align: right;\">\n",
       "      <th></th>\n",
       "      <th>_id</th>\n",
       "      <th>URL</th>\n",
       "      <th>address</th>\n",
       "      <th>address line 2</th>\n",
       "      <th>name</th>\n",
       "      <th>outcode</th>\n",
       "      <th>postcode</th>\n",
       "      <th>rating</th>\n",
       "      <th>type_of_food</th>\n",
       "    </tr>\n",
       "  </thead>\n",
       "  <tbody>\n",
       "    <tr>\n",
       "      <th>0</th>\n",
       "      <td>55f14312c7447c3da7051b2b</td>\n",
       "      <td>http://www.just-eat.co.uk/restaurants-007takea...</td>\n",
       "      <td>6 Drummond Street</td>\n",
       "      <td>Rotherham</td>\n",
       "      <td>007 Takeaway</td>\n",
       "      <td>S65</td>\n",
       "      <td>1HY</td>\n",
       "      <td>6</td>\n",
       "      <td>Pizza</td>\n",
       "    </tr>\n",
       "    <tr>\n",
       "      <th>1</th>\n",
       "      <td>55f14312c7447c3da7051b29</td>\n",
       "      <td>http://www.just-eat.co.uk/restaurants-atthaire...</td>\n",
       "      <td>30 Greyhound Road Hammersmith</td>\n",
       "      <td>London</td>\n",
       "      <td>@ Thai Restaurant</td>\n",
       "      <td>W6</td>\n",
       "      <td>8NX</td>\n",
       "      <td>4.5</td>\n",
       "      <td>Thai</td>\n",
       "    </tr>\n",
       "    <tr>\n",
       "      <th>2</th>\n",
       "      <td>55f14312c7447c3da7051b2c</td>\n",
       "      <td>http://www.just-eat.co.uk/restaurants-042-rest...</td>\n",
       "      <td>885 High Road Leytonstone</td>\n",
       "      <td>London</td>\n",
       "      <td>042 Restaurant &amp; Bar</td>\n",
       "      <td>E11</td>\n",
       "      <td>1HR</td>\n",
       "      <td>3</td>\n",
       "      <td>African</td>\n",
       "    </tr>\n",
       "    <tr>\n",
       "      <th>3</th>\n",
       "      <td>55f14312c7447c3da7051b2e</td>\n",
       "      <td>http://www.just-eat.co.uk/restaurants-042-rest...</td>\n",
       "      <td>885 High Road Leytonstone</td>\n",
       "      <td>London</td>\n",
       "      <td>042 Restaurant &amp; Bar</td>\n",
       "      <td>E11</td>\n",
       "      <td>1HR</td>\n",
       "      <td>3</td>\n",
       "      <td>African</td>\n",
       "    </tr>\n",
       "    <tr>\n",
       "      <th>4</th>\n",
       "      <td>55f14312c7447c3da7051b27</td>\n",
       "      <td>http://www.just-eat.co.uk/restaurants-atthai-s...</td>\n",
       "      <td>376 Rayleigh Road</td>\n",
       "      <td>Essex</td>\n",
       "      <td>@ Thai</td>\n",
       "      <td>SS9</td>\n",
       "      <td>5PT</td>\n",
       "      <td>5.5</td>\n",
       "      <td>Thai</td>\n",
       "    </tr>\n",
       "  </tbody>\n",
       "</table>\n",
       "</div>"
      ],
      "text/plain": [
       "                        _id  \\\n",
       "0  55f14312c7447c3da7051b2b   \n",
       "1  55f14312c7447c3da7051b29   \n",
       "2  55f14312c7447c3da7051b2c   \n",
       "3  55f14312c7447c3da7051b2e   \n",
       "4  55f14312c7447c3da7051b27   \n",
       "\n",
       "                                                 URL  \\\n",
       "0  http://www.just-eat.co.uk/restaurants-007takea...   \n",
       "1  http://www.just-eat.co.uk/restaurants-atthaire...   \n",
       "2  http://www.just-eat.co.uk/restaurants-042-rest...   \n",
       "3  http://www.just-eat.co.uk/restaurants-042-rest...   \n",
       "4  http://www.just-eat.co.uk/restaurants-atthai-s...   \n",
       "\n",
       "                         address address line 2                  name outcode  \\\n",
       "0              6 Drummond Street      Rotherham          007 Takeaway     S65   \n",
       "1  30 Greyhound Road Hammersmith         London     @ Thai Restaurant      W6   \n",
       "2      885 High Road Leytonstone         London  042 Restaurant & Bar     E11   \n",
       "3      885 High Road Leytonstone         London  042 Restaurant & Bar     E11   \n",
       "4              376 Rayleigh Road          Essex                @ Thai     SS9   \n",
       "\n",
       "  postcode rating type_of_food  \n",
       "0      1HY      6        Pizza  \n",
       "1      8NX    4.5         Thai  \n",
       "2      1HR      3      African  \n",
       "3      1HR      3      African  \n",
       "4      5PT    5.5         Thai  "
      ]
     },
     "execution_count": 46,
     "metadata": {},
     "output_type": "execute_result"
    }
   ],
   "source": [
    "df = pd.DataFrame(documentos_lista)\n",
    "df.head()"
   ]
  },
  {
   "cell_type": "code",
   "execution_count": null,
   "id": "extended-duncan",
   "metadata": {},
   "outputs": [],
   "source": [
    "# Hacemos un filtrado para ver los que tienen un rating de 5"
   ]
  },
  {
   "cell_type": "code",
   "execution_count": 49,
   "id": "concerned-copyright",
   "metadata": {},
   "outputs": [],
   "source": [
    "cinco = list(c.find({\"rating\":5}))"
   ]
  },
  {
   "cell_type": "code",
   "execution_count": null,
   "id": "alone-seminar",
   "metadata": {},
   "outputs": [],
   "source": [
    "# Usamos comillas para encontrar "
   ]
  },
  {
   "cell_type": "code",
   "execution_count": 51,
   "id": "extended-cologne",
   "metadata": {},
   "outputs": [
    {
     "ename": "NameError",
     "evalue": "name 'rating' is not defined",
     "output_type": "error",
     "traceback": [
      "\u001b[0;31m---------------------------------------------------------------------------\u001b[0m",
      "\u001b[0;31mNameError\u001b[0m                                 Traceback (most recent call last)",
      "\u001b[0;32m<ipython-input-51-1dddcbbb394b>\u001b[0m in \u001b[0;36m<module>\u001b[0;34m\u001b[0m\n\u001b[0;32m----> 1\u001b[0;31m \u001b[0mc\u001b[0m\u001b[0;34m.\u001b[0m\u001b[0mfind\u001b[0m\u001b[0;34m(\u001b[0m\u001b[0;34m{\u001b[0m\u001b[0mrating\u001b[0m\u001b[0;34m:\u001b[0m\u001b[0;36m5\u001b[0m\u001b[0;34m}\u001b[0m\u001b[0;34m)\u001b[0m\u001b[0;34m\u001b[0m\u001b[0;34m\u001b[0m\u001b[0m\n\u001b[0m",
      "\u001b[0;31mNameError\u001b[0m: name 'rating' is not defined"
     ]
    }
   ],
   "source": [
    "c.find({rating:5})"
   ]
  },
  {
   "cell_type": "markdown",
   "id": "determined-premiere",
   "metadata": {},
   "source": [
    "## Proyección\n",
    "Cuando se realiza una consulta en MongoDB usando .find() lo que retorna dicha consulta es el conjunto de documentos correspondientes a la consulta. Se devolverán por defecto los documentos completos con todos sus campos. Aunque podemos seleccionar los campos de un documento que queremos devuelva la consulta, o lo que es lo mismo hacer una MongoDB Projection.    \n",
    "Si queremos seleccionar varios campos, simplemente tenemos que indicar el nombre del campo seguido de un 1. O bien usar un 0 para eliminar los campos a mostrar:\n",
    "\n",
    "El campo `_id` se devuelve por defecto\n",
    "\n",
    "Sintaxis:    \n",
    "`collection.find(filtro, proyección)`"
   ]
  },
  {
   "cell_type": "code",
   "execution_count": 56,
   "id": "postal-burning",
   "metadata": {},
   "outputs": [],
   "source": [
    "proyec = {\"rating\": 1, \"name\":1, \"URL\": 1}"
   ]
  },
  {
   "cell_type": "code",
   "execution_count": 57,
   "id": "conditional-syria",
   "metadata": {},
   "outputs": [],
   "source": [
    "query = {\"type_of_food\": \"Thai\"}"
   ]
  },
  {
   "cell_type": "code",
   "execution_count": 55,
   "id": "stunning-deployment",
   "metadata": {},
   "outputs": [],
   "source": [
    "list(c.find({\"type_of_food\": \"Thai\"},{\"rating\": 1, \"name\":1, \"URL\": 1})) #Incluyo los diccionarios en la sintaxis"
   ]
  },
  {
   "cell_type": "code",
   "execution_count": 58,
   "id": "appointed-agriculture",
   "metadata": {},
   "outputs": [],
   "source": [
    "thai_proj = list(c.find(query,proyec)) #Guardo las variables en otro lugar "
   ]
  },
  {
   "cell_type": "code",
   "execution_count": 61,
   "id": "lucky-myrtle",
   "metadata": {},
   "outputs": [
    {
     "data": {
      "text/plain": [
       "[{'_id': ObjectId('55f14312c7447c3da7051b28'),\n",
       "  'URL': 'http://www.just-eat.co.uk/restaurants-atthairestaurant/menu',\n",
       "  'name': '@ Thai Restaurant',\n",
       "  'rating': 4.5}]"
      ]
     },
     "execution_count": 61,
     "metadata": {},
     "output_type": "execute_result"
    }
   ],
   "source": [
    "thai_proj[0:1]"
   ]
  },
  {
   "cell_type": "code",
   "execution_count": null,
   "id": "several-floor",
   "metadata": {},
   "outputs": [],
   "source": [
    "# Si queremos que no nos muestre el ObjectId"
   ]
  },
  {
   "cell_type": "code",
   "execution_count": 62,
   "id": "frank-recording",
   "metadata": {},
   "outputs": [],
   "source": [
    "proyec_2 = {\"rating\": 1, \"name\":1, \"URL\": 1, \"_id\":0}"
   ]
  },
  {
   "cell_type": "code",
   "execution_count": 63,
   "id": "trying-external",
   "metadata": {},
   "outputs": [
    {
     "data": {
      "text/plain": [
       "{'URL': 'http://www.just-eat.co.uk/restaurants-atthairestaurant/menu',\n",
       " 'name': '@ Thai Restaurant',\n",
       " 'rating': 4.5}"
      ]
     },
     "execution_count": 63,
     "metadata": {},
     "output_type": "execute_result"
    }
   ],
   "source": [
    "list(c.find(query,proyec_2))[0]"
   ]
  },
  {
   "cell_type": "markdown",
   "id": "arbitrary-opening",
   "metadata": {},
   "source": [
    "## Otros métodos "
   ]
  },
  {
   "cell_type": "markdown",
   "id": "structural-competition",
   "metadata": {},
   "source": [
    "### `distinct`\n",
    "¿Cuántos valores distintos tiene un campo en toda la colección?"
   ]
  },
  {
   "cell_type": "code",
   "execution_count": 64,
   "id": "scenic-characteristic",
   "metadata": {},
   "outputs": [
    {
     "data": {
      "text/plain": [
       "[1, 1.5, 2, 2.5, 3, 3.5, 4, 4.5, 5, 5.5, 6, 'Not yet rated']"
      ]
     },
     "execution_count": 64,
     "metadata": {},
     "output_type": "execute_result"
    }
   ],
   "source": [
    "c.distinct(\"rating\")"
   ]
  },
  {
   "cell_type": "code",
   "execution_count": 65,
   "id": "bulgarian-doctor",
   "metadata": {},
   "outputs": [
    {
     "data": {
      "text/plain": [
       "['*NEW*',\n",
       " 'Afghan',\n",
       " 'African',\n",
       " 'American',\n",
       " 'Arabic',\n",
       " 'Azerbaijan',\n",
       " 'Bagels',\n",
       " 'Bangladeshi',\n",
       " 'Breakfast',\n",
       " 'Burgers',\n",
       " 'Cakes',\n",
       " 'Caribbean',\n",
       " 'Chicken',\n",
       " 'Chinese',\n",
       " 'Curry',\n",
       " 'Desserts',\n",
       " 'English',\n",
       " 'Ethiopian',\n",
       " 'Fish & Chips',\n",
       " 'Greek',\n",
       " 'Grill',\n",
       " 'Healthy',\n",
       " 'Ice Cream',\n",
       " 'Japanese',\n",
       " 'Kebab',\n",
       " 'Korean',\n",
       " 'Lebanese',\n",
       " 'Mediterranean',\n",
       " 'Mexican',\n",
       " 'Middle Eastern',\n",
       " 'Milkshakes',\n",
       " 'Moroccan',\n",
       " 'Nigerian',\n",
       " 'Pakistani',\n",
       " 'Pasta',\n",
       " 'Peri Peri',\n",
       " 'Persian',\n",
       " 'Pick n Mix',\n",
       " 'Pizza',\n",
       " 'Polish',\n",
       " 'Portuguese',\n",
       " 'Punjabi',\n",
       " 'Russian',\n",
       " 'Sandwiches',\n",
       " 'South Curry',\n",
       " 'Spanish',\n",
       " 'Sri-lankan',\n",
       " 'Sushi',\n",
       " 'Thai',\n",
       " 'Turkish',\n",
       " 'Vegetarian',\n",
       " 'Vietnamese']"
      ]
     },
     "execution_count": 65,
     "metadata": {},
     "output_type": "execute_result"
    }
   ],
   "source": [
    "c.distinct(\"type_of_food\")"
   ]
  },
  {
   "cell_type": "markdown",
   "id": "fatty-province",
   "metadata": {},
   "source": [
    "### `count`\n",
    "Devuelve el recuento de documentos que coincidirían con una consulta find() para la colección o vista. El método db.collection.count() no realiza la operación find() sino que cuenta y devuelve el número de resultados que coinciden con una consulta.\n",
    "Sintaxis:    \n",
    "     \n",
    "`collection.count_documents(filtro)`"
   ]
  },
  {
   "cell_type": "code",
   "execution_count": 66,
   "id": "handy-desert",
   "metadata": {},
   "outputs": [
    {
     "data": {
      "text/plain": [
       "2548"
      ]
     },
     "execution_count": 66,
     "metadata": {},
     "output_type": "execute_result"
    }
   ],
   "source": [
    "c.count_documents({})"
   ]
  },
  {
   "cell_type": "code",
   "execution_count": 67,
   "id": "consistent-kennedy",
   "metadata": {},
   "outputs": [
    {
     "data": {
      "text/plain": [
       "2548"
      ]
     },
     "execution_count": 67,
     "metadata": {},
     "output_type": "execute_result"
    }
   ],
   "source": [
    "len(list(c.find()))"
   ]
  },
  {
   "cell_type": "code",
   "execution_count": 152,
   "id": "suspected-virtue",
   "metadata": {},
   "outputs": [
    {
     "data": {
      "text/plain": [
       "1"
      ]
     },
     "execution_count": 152,
     "metadata": {},
     "output_type": "execute_result"
    }
   ],
   "source": [
    "c.count_documents({\"type_of_food\": \"Pasta\"})"
   ]
  },
  {
   "cell_type": "code",
   "execution_count": 68,
   "id": "developing-shore",
   "metadata": {},
   "outputs": [],
   "source": [
    "import time"
   ]
  },
  {
   "cell_type": "code",
   "execution_count": 71,
   "id": "rocky-confidence",
   "metadata": {},
   "outputs": [
    {
     "name": "stdout",
     "output_type": "stream",
     "text": [
      "CPU times: user 2 µs, sys: 1 µs, total: 3 µs\n",
      "Wall time: 6.2 µs\n"
     ]
    },
    {
     "data": {
      "text/plain": [
       "49"
      ]
     },
     "execution_count": 71,
     "metadata": {},
     "output_type": "execute_result"
    }
   ],
   "source": [
    "# Directamente me cuenta los documentos en mongo que cumplen con el filtro y no necesito traerlos\n",
    "%time\n",
    "c.count_documents({\"rating\":6})"
   ]
  },
  {
   "cell_type": "code",
   "execution_count": 74,
   "id": "micro-proposition",
   "metadata": {},
   "outputs": [
    {
     "name": "stdout",
     "output_type": "stream",
     "text": [
      "CPU times: user 4 µs, sys: 1 µs, total: 5 µs\n",
      "Wall time: 9.06 µs\n"
     ]
    },
    {
     "data": {
      "text/plain": [
       "49"
      ]
     },
     "execution_count": 74,
     "metadata": {},
     "output_type": "execute_result"
    }
   ],
   "source": [
    "#Equivalente pero cargando todo en memoria al extraer con list la información del cursor\n",
    "%time\n",
    "len(list(c.find({\"rating\":6})))"
   ]
  },
  {
   "cell_type": "markdown",
   "id": "neural-speaker",
   "metadata": {},
   "source": [
    "### `sort`\n",
    "Podemos `ordenar` el resultado de un `find`\n",
    "\n",
    "`1` --> Orden ascendente     \n",
    "`-1` --> Orden desdendente"
   ]
  },
  {
   "cell_type": "code",
   "execution_count": 77,
   "id": "average-symbol",
   "metadata": {},
   "outputs": [],
   "source": [
    "proy = {'rating': 1, 'name': 1, 'URL': 1, '_id': 0, 'type_of_food':1}"
   ]
  },
  {
   "cell_type": "code",
   "execution_count": 78,
   "id": "sacred-probe",
   "metadata": {},
   "outputs": [],
   "source": [
    "chinos = list(c.find({\"type_of_food\": \"Chinese\"}, proy))"
   ]
  },
  {
   "cell_type": "code",
   "execution_count": 80,
   "id": "outer-radio",
   "metadata": {},
   "outputs": [
    {
     "data": {
      "text/plain": [
       "[{'URL': 'http://www.just-eat.co.uk/restaurants-cn-chinese-cardiff/menu',\n",
       "  'name': '.CN Chinese',\n",
       "  'rating': 5,\n",
       "  'type_of_food': 'Chinese'},\n",
       " {'URL': 'http://www.just-eat.co.uk/restaurants-1-2-3-chinese-rowlands-gill/menu',\n",
       "  'name': '1 2 3 Chinese',\n",
       "  'rating': 4.5,\n",
       "  'type_of_food': 'Chinese'},\n",
       " {'URL': 'http://www.just-eat.co.uk/restaurants-100menu-wn1/menu',\n",
       "  'name': '100 Menu',\n",
       "  'rating': 5,\n",
       "  'type_of_food': 'Chinese'}]"
      ]
     },
     "execution_count": 80,
     "metadata": {},
     "output_type": "execute_result"
    }
   ],
   "source": [
    "chinos[0:3]"
   ]
  },
  {
   "cell_type": "code",
   "execution_count": 83,
   "id": "involved-arrangement",
   "metadata": {},
   "outputs": [],
   "source": [
    "#Ordenados en orden descendente\n",
    "chinos_ord = list(c.find({\"type_of_food\": \"Chinese\"}, proy).sort(\"rating\",-1))"
   ]
  },
  {
   "cell_type": "code",
   "execution_count": 87,
   "id": "joined-thanksgiving",
   "metadata": {},
   "outputs": [
    {
     "data": {
      "text/plain": [
       "[{'URL': 'http://www.just-eat.co.uk/restaurants-113-fish-bar-wallasey/menu',\n",
       "  'name': '113 Fish Bar',\n",
       "  'rating': 5.5,\n",
       "  'type_of_food': 'Chinese'},\n",
       " {'URL': 'http://www.just-eat.co.uk/restaurants-168chinese-ls18/menu',\n",
       "  'name': '168 Chinese & Cantonese Takeaway',\n",
       "  'rating': 5.5,\n",
       "  'type_of_food': 'Chinese'},\n",
       " {'URL': 'http://www.just-eat.co.uk/restaurants-350wok-ws10/menu',\n",
       "  'name': '350 Wok',\n",
       "  'rating': 5.5,\n",
       "  'type_of_food': 'Chinese'},\n",
       " {'URL': 'http://www.just-eat.co.uk/restaurants-350wok-ws10/menu',\n",
       "  'name': '350 Wok',\n",
       "  'rating': 5.5,\n",
       "  'type_of_food': 'Chinese'},\n",
       " {'URL': 'http://www.just-eat.co.uk/restaurants-4inlove-pe30/menu',\n",
       "  'name': '4 in Love',\n",
       "  'rating': 5.5,\n",
       "  'type_of_food': 'Chinese'}]"
      ]
     },
     "execution_count": 87,
     "metadata": {},
     "output_type": "execute_result"
    }
   ],
   "source": [
    "chinos_ord[0:5]"
   ]
  },
  {
   "cell_type": "code",
   "execution_count": 85,
   "id": "outdoor-buddy",
   "metadata": {},
   "outputs": [],
   "source": [
    "# ascendente\n",
    "chinos_as = list(c.find({\"type_of_food\": \"Chinese\"}, proy).sort(\"rating\",1))"
   ]
  },
  {
   "cell_type": "code",
   "execution_count": 86,
   "id": "alternate-jordan",
   "metadata": {},
   "outputs": [
    {
     "data": {
      "text/plain": [
       "[{'URL': 'http://www.just-eat.co.uk/restaurants-asiaasia-so53/menu',\n",
       "  'name': 'Asia Asia',\n",
       "  'rating': 3.5,\n",
       "  'type_of_food': 'Chinese'},\n",
       " {'URL': 'http://www.just-eat.co.uk/restaurants-bamboo-garden-chinese-takeaway-manchester/menu',\n",
       "  'name': 'Bamboo Garden Chinese Takeaway',\n",
       "  'rating': 3.5,\n",
       "  'type_of_food': 'Chinese'},\n",
       " {'URL': 'http://www.just-eat.co.uk/restaurants-88noodlebar-hd1/menu',\n",
       "  'name': '88 Noodle Bar',\n",
       "  'rating': 4,\n",
       "  'type_of_food': 'Chinese'},\n",
       " {'URL': 'http://www.just-eat.co.uk/restaurants-amazing-ls6/menu',\n",
       "  'name': 'Amazing',\n",
       "  'rating': 4,\n",
       "  'type_of_food': 'Chinese'},\n",
       " {'URL': 'http://www.just-eat.co.uk/restaurants-arirang-se11/menu',\n",
       "  'name': 'Arirang',\n",
       "  'rating': 4,\n",
       "  'type_of_food': 'Chinese'}]"
      ]
     },
     "execution_count": 86,
     "metadata": {},
     "output_type": "execute_result"
    }
   ],
   "source": [
    "chinos_as[0:5]"
   ]
  },
  {
   "cell_type": "markdown",
   "id": "subject-rates",
   "metadata": {},
   "source": [
    "### `limit`\n",
    "\n",
    "Podemos `limitar` el resultado de un `find`"
   ]
  },
  {
   "cell_type": "code",
   "execution_count": 100,
   "id": "behavioral-saying",
   "metadata": {},
   "outputs": [
    {
     "data": {
      "text/plain": [
       "[{'URL': 'http://www.just-eat.co.uk/restaurants-350wok-ws10/menu',\n",
       "  'name': '350 Wok',\n",
       "  'rating': 5.5,\n",
       "  'type_of_food': 'Chinese'},\n",
       " {'URL': 'http://www.just-eat.co.uk/restaurants-4inlove-pe30/menu',\n",
       "  'name': '4 in Love',\n",
       "  'rating': 5.5,\n",
       "  'type_of_food': 'Chinese'},\n",
       " {'URL': 'http://www.just-eat.co.uk/restaurants-350wok-ws10/menu',\n",
       "  'name': '350 Wok',\n",
       "  'rating': 5.5,\n",
       "  'type_of_food': 'Chinese'},\n",
       " {'URL': 'http://www.just-eat.co.uk/restaurants-113-fish-bar-wallasey/menu',\n",
       "  'name': '113 Fish Bar',\n",
       "  'rating': 5.5,\n",
       "  'type_of_food': 'Chinese'},\n",
       " {'URL': 'http://www.just-eat.co.uk/restaurants-168chinese-ls18/menu',\n",
       "  'name': '168 Chinese & Cantonese Takeaway',\n",
       "  'rating': 5.5,\n",
       "  'type_of_food': 'Chinese'}]"
      ]
     },
     "execution_count": 100,
     "metadata": {},
     "output_type": "execute_result"
    }
   ],
   "source": [
    "chinos_limit = list(c.find({\"type_of_food\": \"Chinese\"}, proy).sort(\"rating\",-1).limit(5))\n",
    "chinos_limit"
   ]
  },
  {
   "cell_type": "code",
   "execution_count": 99,
   "id": "impaired-steal",
   "metadata": {},
   "outputs": [
    {
     "data": {
      "text/plain": [
       "[{'URL': 'http://www.just-eat.co.uk/restaurants-350wok-ws10/menu',\n",
       "  'name': '350 Wok',\n",
       "  'rating': 5.5,\n",
       "  'type_of_food': 'Chinese'},\n",
       " {'URL': 'http://www.just-eat.co.uk/restaurants-168chinese-ls18/menu',\n",
       "  'name': '168 Chinese & Cantonese Takeaway',\n",
       "  'rating': 5.5,\n",
       "  'type_of_food': 'Chinese'},\n",
       " {'URL': 'http://www.just-eat.co.uk/restaurants-113-fish-bar-wallasey/menu',\n",
       "  'name': '113 Fish Bar',\n",
       "  'rating': 5.5,\n",
       "  'type_of_food': 'Chinese'}]"
      ]
     },
     "execution_count": 99,
     "metadata": {},
     "output_type": "execute_result"
    }
   ],
   "source": [
    "list(c.find({\"type_of_food\": \"Chinese\"}, proy).limit(3).sort(\"rating\",-1)) #se puede limitar antes de ordenar pero ¿tiene sentido?"
   ]
  },
  {
   "cell_type": "markdown",
   "id": "welsh-uncertainty",
   "metadata": {},
   "source": [
    "### `skip`\n",
    "Podemos `omitir` algunos resultados de un `find`    \n",
    "Llame al método skip() en un cursor para controlar dónde empieza MongoDB a devolver resultados. Este enfoque puede ser útil para implementar resultados paginados."
   ]
  },
  {
   "cell_type": "code",
   "execution_count": 94,
   "id": "empirical-mongolia",
   "metadata": {},
   "outputs": [],
   "source": [
    "chinos_skip = list(c.find({\"type_of_food\": \"Chinese\"}, proy).sort(\"rating\",-1).skip(2))"
   ]
  },
  {
   "cell_type": "code",
   "execution_count": 101,
   "id": "secure-enemy",
   "metadata": {},
   "outputs": [
    {
     "data": {
      "text/plain": [
       "[{'URL': 'http://www.just-eat.co.uk/restaurants-113-fish-bar-wallasey/menu',\n",
       "  'name': '113 Fish Bar',\n",
       "  'rating': 5.5,\n",
       "  'type_of_food': 'Chinese'},\n",
       " {'URL': 'http://www.just-eat.co.uk/restaurants-168chinese-ls18/menu',\n",
       "  'name': '168 Chinese & Cantonese Takeaway',\n",
       "  'rating': 5.5,\n",
       "  'type_of_food': 'Chinese'},\n",
       " {'URL': 'http://www.just-eat.co.uk/restaurants-350wok-ws10/menu',\n",
       "  'name': '350 Wok',\n",
       "  'rating': 5.5,\n",
       "  'type_of_food': 'Chinese'}]"
      ]
     },
     "execution_count": 101,
     "metadata": {},
     "output_type": "execute_result"
    }
   ],
   "source": [
    "list(c.find({\"type_of_food\": \"Chinese\"}, proy).sort(\"rating\",-1))[0:3]"
   ]
  },
  {
   "cell_type": "code",
   "execution_count": 103,
   "id": "polyphonic-revelation",
   "metadata": {},
   "outputs": [
    {
     "data": {
      "text/plain": [
       "[{'URL': 'http://www.just-eat.co.uk/restaurants-350wok-ws10/menu',\n",
       "  'name': '350 Wok',\n",
       "  'rating': 5.5,\n",
       "  'type_of_food': 'Chinese'},\n",
       " {'URL': 'http://www.just-eat.co.uk/restaurants-350wok-ws10/menu',\n",
       "  'name': '350 Wok',\n",
       "  'rating': 5.5,\n",
       "  'type_of_food': 'Chinese'},\n",
       " {'URL': 'http://www.just-eat.co.uk/restaurants-4inlove-pe30/menu',\n",
       "  'name': '4 in Love',\n",
       "  'rating': 5.5,\n",
       "  'type_of_food': 'Chinese'},\n",
       " {'URL': 'http://www.just-eat.co.uk/restaurants-350wok-ws10/menu',\n",
       "  'name': '350 Wok',\n",
       "  'rating': 5.5,\n",
       "  'type_of_food': 'Chinese'}]"
      ]
     },
     "execution_count": 103,
     "metadata": {},
     "output_type": "execute_result"
    }
   ],
   "source": [
    "chinos_skip[0:4]"
   ]
  },
  {
   "cell_type": "markdown",
   "id": "north-mining",
   "metadata": {},
   "source": [
    "## Operadores de consulta típicos\n",
    "Los operadores de consulta van precedidos del signo de dólar `$`."
   ]
  },
  {
   "cell_type": "markdown",
   "id": "literary-manitoba",
   "metadata": {},
   "source": [
    "### Mayor que / Menor que\n",
    "Es un campo numérico mayor o menor que un valor determinado"
   ]
  },
  {
   "cell_type": "code",
   "execution_count": 104,
   "id": "false-analysis",
   "metadata": {},
   "outputs": [
    {
     "data": {
      "text/plain": [
       "<pymongo.cursor.Cursor at 0x7fe0f2004d60>"
      ]
     },
     "execution_count": 104,
     "metadata": {},
     "output_type": "execute_result"
    }
   ],
   "source": [
    "# Menor que: less than\n",
    "c.find({\"rating\": {\"$lt\": 4}})"
   ]
  },
  {
   "cell_type": "code",
   "execution_count": 105,
   "id": "extra-extreme",
   "metadata": {},
   "outputs": [],
   "source": [
    "menor_4 = {\"rating\":{\"$lt\": 4}}"
   ]
  },
  {
   "cell_type": "code",
   "execution_count": 108,
   "id": "composed-threat",
   "metadata": {},
   "outputs": [
    {
     "data": {
      "text/plain": [
       "[{'URL': 'http://www.just-eat.co.uk/restaurants-042-restaurant-e11/menu',\n",
       "  'name': '042 Restaurant & Bar',\n",
       "  'rating': 3,\n",
       "  'type_of_food': 'African'},\n",
       " {'URL': 'http://www.just-eat.co.uk/restaurants-042-restaurant-e11/menu',\n",
       "  'name': '042 Restaurant & Bar',\n",
       "  'rating': 3,\n",
       "  'type_of_food': 'African'},\n",
       " {'URL': 'http://www.just-eat.co.uk/restaurants-042-restaurant-e11/menu',\n",
       "  'name': '042 Restaurant & Bar',\n",
       "  'rating': 3,\n",
       "  'type_of_food': 'African'}]"
      ]
     },
     "execution_count": 108,
     "metadata": {},
     "output_type": "execute_result"
    }
   ],
   "source": [
    "list(c.find(menor_4,proy).limit(3))"
   ]
  },
  {
   "cell_type": "code",
   "execution_count": 109,
   "id": "treated-effectiveness",
   "metadata": {},
   "outputs": [],
   "source": [
    "# Mayor que: greater than\n",
    "mayor_3 = {\"rating\":{\"$gt\": 3}}"
   ]
  },
  {
   "cell_type": "code",
   "execution_count": 110,
   "id": "ordered-resort",
   "metadata": {},
   "outputs": [
    {
     "data": {
      "text/plain": [
       "[{'URL': 'http://www.just-eat.co.uk/restaurants-cn-chinese-cardiff/menu',\n",
       "  'name': '.CN Chinese',\n",
       "  'rating': 5,\n",
       "  'type_of_food': 'Chinese'},\n",
       " {'URL': 'http://www.just-eat.co.uk/restaurants-indiancom-ch4/menu',\n",
       "  'name': '@Indian.com',\n",
       "  'rating': 6,\n",
       "  'type_of_food': 'Curry'},\n",
       " {'URL': 'http://www.just-eat.co.uk/restaurants-atthairestaurant/menu',\n",
       "  'name': '@ Thai Restaurant',\n",
       "  'rating': 4.5,\n",
       "  'type_of_food': 'Thai'}]"
      ]
     },
     "execution_count": 110,
     "metadata": {},
     "output_type": "execute_result"
    }
   ],
   "source": [
    "list(c.find(mayor_3,proy).limit(3)) #PONGO LOS LIMIT PARA VUESTRA SALUD CON LOS PRINT ¿OK?"
   ]
  },
  {
   "cell_type": "code",
   "execution_count": 114,
   "id": "finite-colors",
   "metadata": {},
   "outputs": [
    {
     "data": {
      "text/plain": [
       "[{'URL': 'http://www.just-eat.co.uk/restaurants-042-restaurant-e11/menu',\n",
       "  'name': '042 Restaurant & Bar',\n",
       "  'rating': 3,\n",
       "  'type_of_food': 'African'},\n",
       " {'URL': 'http://www.just-eat.co.uk/restaurants-042-restaurant-e11/menu',\n",
       "  'name': '042 Restaurant & Bar',\n",
       "  'rating': 3,\n",
       "  'type_of_food': 'African'},\n",
       " {'URL': 'http://www.just-eat.co.uk/restaurants-042-restaurant-e11/menu',\n",
       "  'name': '042 Restaurant & Bar',\n",
       "  'rating': 3,\n",
       "  'type_of_food': 'African'}]"
      ]
     },
     "execution_count": 114,
     "metadata": {},
     "output_type": "execute_result"
    }
   ],
   "source": [
    "# Mayor o igual / Menor o igual añadimos la e\n",
    "list(c.find({\"rating\": {\"$lte\": 4}}, proy).limit(3))"
   ]
  },
  {
   "cell_type": "code",
   "execution_count": 115,
   "id": "floppy-formation",
   "metadata": {},
   "outputs": [
    {
     "data": {
      "text/plain": [
       "[{'URL': 'http://www.just-eat.co.uk/restaurants-cn-chinese-cardiff/menu',\n",
       "  'name': '.CN Chinese',\n",
       "  'rating': 5,\n",
       "  'type_of_food': 'Chinese'},\n",
       " {'URL': 'http://www.just-eat.co.uk/restaurants-indiancom-ch4/menu',\n",
       "  'name': '@Indian.com',\n",
       "  'rating': 6,\n",
       "  'type_of_food': 'Curry'},\n",
       " {'URL': 'http://www.just-eat.co.uk/restaurants-atthairestaurant/menu',\n",
       "  'name': '@ Thai Restaurant',\n",
       "  'rating': 4.5,\n",
       "  'type_of_food': 'Thai'}]"
      ]
     },
     "execution_count": 115,
     "metadata": {},
     "output_type": "execute_result"
    }
   ],
   "source": [
    "list(c.find({\"rating\": {\"$gte\": 4}}, proy).limit(3))"
   ]
  },
  {
   "cell_type": "code",
   "execution_count": 121,
   "id": "distributed-nutrition",
   "metadata": {},
   "outputs": [
    {
     "name": "stdout",
     "output_type": "stream",
     "text": [
      "Qué quieres buscar? rating\n",
      "¿De cuánto? 5\n"
     ]
    }
   ],
   "source": [
    "type_ = input(\"Qué quieres buscar? \")\n",
    "rating = int(input(\"¿De cuánto? \"))"
   ]
  },
  {
   "cell_type": "code",
   "execution_count": 126,
   "id": "differential-voice",
   "metadata": {},
   "outputs": [],
   "source": [
    "# Escribir la sintaxis en una variable puede sernos útil\n",
    "filtro = {type_: {\"$gte\": rating}}"
   ]
  },
  {
   "cell_type": "code",
   "execution_count": 127,
   "id": "intimate-kenya",
   "metadata": {},
   "outputs": [
    {
     "data": {
      "text/plain": [
       "[{'URL': 'http://www.just-eat.co.uk/restaurants-cn-chinese-cardiff/menu',\n",
       "  'name': '.CN Chinese',\n",
       "  'rating': 5,\n",
       "  'type_of_food': 'Chinese'},\n",
       " {'URL': 'http://www.just-eat.co.uk/restaurants-indiancom-ch4/menu',\n",
       "  'name': '@Indian.com',\n",
       "  'rating': 6,\n",
       "  'type_of_food': 'Curry'},\n",
       " {'URL': 'http://www.just-eat.co.uk/restaurants-007takeaway-s65/menu',\n",
       "  'name': '007 Takeaway',\n",
       "  'rating': 6,\n",
       "  'type_of_food': 'Pizza'}]"
      ]
     },
     "execution_count": 127,
     "metadata": {},
     "output_type": "execute_result"
    }
   ],
   "source": [
    "list(c.find(filtro,proy).limit(3))"
   ]
  },
  {
   "cell_type": "markdown",
   "id": "nonprofit-operator",
   "metadata": {},
   "source": [
    "### `exists`    \n",
    "Cuando <boolean> es verdadero, $exists coincide con los documentos que contienen el campo, incluidos los documentos en los que el valor del campo es nulo. Si <boolean> es falso, la consulta devuelve sólo los documentos que no contienen el campo\n"
   ]
  },
  {
   "cell_type": "code",
   "execution_count": 132,
   "id": "korean-constant",
   "metadata": {},
   "outputs": [
    {
     "data": {
      "text/plain": [
       "[{'_id': ObjectId('55f14312c7447c3da7051b26'),\n",
       "  'URL': 'http://www.just-eat.co.uk/restaurants-cn-chinese-cardiff/menu',\n",
       "  'address': '228 City Road',\n",
       "  'address line 2': 'Cardiff',\n",
       "  'name': '.CN Chinese',\n",
       "  'outcode': 'CF24',\n",
       "  'postcode': '3JH',\n",
       "  'rating': 5,\n",
       "  'type_of_food': 'Chinese'},\n",
       " {'_id': ObjectId('55f14312c7447c3da7051b2a'),\n",
       "  'URL': 'http://www.just-eat.co.uk/restaurants-indiancom-ch4/menu',\n",
       "  'address': '9 Broughton Hall Road',\n",
       "  'address line 2': 'Broughton',\n",
       "  'name': '@Indian.com',\n",
       "  'outcode': 'CH4',\n",
       "  'postcode': '0QR',\n",
       "  'rating': 6,\n",
       "  'type_of_food': 'Curry'}]"
      ]
     },
     "execution_count": 132,
     "metadata": {},
     "output_type": "execute_result"
    }
   ],
   "source": [
    "list(c.find({\"rating\": {\"$exists\": True}}).limit(2))"
   ]
  },
  {
   "cell_type": "code",
   "execution_count": 134,
   "id": "consolidated-sensitivity",
   "metadata": {},
   "outputs": [
    {
     "data": {
      "text/plain": [
       "[]"
      ]
     },
     "execution_count": 134,
     "metadata": {},
     "output_type": "execute_result"
    }
   ],
   "source": [
    "# No hay ningún documento  que no tenga el campo \"address line 2\"\n",
    "# Comprobamos los registros a los que les falta un campo con false\n",
    "list(c.find({\"address\": {\"$exists\": False}}))"
   ]
  },
  {
   "cell_type": "code",
   "execution_count": 141,
   "id": "proprietary-pastor",
   "metadata": {},
   "outputs": [
    {
     "data": {
      "text/plain": [
       "'$multiply'"
      ]
     },
     "execution_count": 141,
     "metadata": {},
     "output_type": "execute_result"
    }
   ],
   "source": [
    "# Otros métodos a investigar de mongo\n",
    "\"$sum\"\n",
    "\"$multiply\""
   ]
  },
  {
   "cell_type": "markdown",
   "id": "pointed-agreement",
   "metadata": {},
   "source": [
    "### `regex`     \n",
    "Ofrece la posibilidad de utilizar expresiones regulares para la búsqueda de patrones en las consultas."
   ]
  },
  {
   "cell_type": "code",
   "execution_count": 135,
   "id": "tested-liberal",
   "metadata": {},
   "outputs": [],
   "source": [
    "query = {\"name\": {\"$regex\": \".*Halal.*\"}}"
   ]
  },
  {
   "cell_type": "code",
   "execution_count": 136,
   "id": "occupied-resort",
   "metadata": {},
   "outputs": [
    {
     "data": {
      "text/plain": [
       "[{'URL': 'http://www.just-eat.co.uk/restaurants-acha-halal-chinese-cuisine-birmingham/menu',\n",
       "  'name': 'Acha Halal Chinese Cuisine',\n",
       "  'rating': 5,\n",
       "  'type_of_food': 'Chinese'},\n",
       " {'URL': 'http://www.just-eat.co.uk/restaurants-beirut-eh8/menu',\n",
       "  'name': 'Beirut Lebanese Halal Restaurant',\n",
       "  'rating': 4.5,\n",
       "  'type_of_food': 'Lebanese'},\n",
       " {'URL': 'http://www.just-eat.co.uk/restaurants-beirut-eh8/menu',\n",
       "  'name': 'Beirut Lebanese Halal Restaurant',\n",
       "  'rating': 4.5,\n",
       "  'type_of_food': 'Lebanese'}]"
      ]
     },
     "execution_count": 136,
     "metadata": {},
     "output_type": "execute_result"
    }
   ],
   "source": [
    "list(c.find(query,proy))"
   ]
  },
  {
   "cell_type": "code",
   "execution_count": 137,
   "id": "narrow-convergence",
   "metadata": {},
   "outputs": [],
   "source": [
    "query2 = {\"name\": {\"$regex\": \".*\\d*.\"}}"
   ]
  },
  {
   "cell_type": "code",
   "execution_count": 139,
   "id": "finite-pennsylvania",
   "metadata": {},
   "outputs": [
    {
     "data": {
      "text/plain": [
       "[{'URL': 'http://www.just-eat.co.uk/restaurants-cn-chinese-cardiff/menu',\n",
       "  'name': '.CN Chinese',\n",
       "  'rating': 5,\n",
       "  'type_of_food': 'Chinese'},\n",
       " {'URL': 'http://www.just-eat.co.uk/restaurants-indiancom-ch4/menu',\n",
       "  'name': '@Indian.com',\n",
       "  'rating': 6,\n",
       "  'type_of_food': 'Curry'},\n",
       " {'URL': 'http://www.just-eat.co.uk/restaurants-atthairestaurant/menu',\n",
       "  'name': '@ Thai Restaurant',\n",
       "  'rating': 4.5,\n",
       "  'type_of_food': 'Thai'},\n",
       " {'URL': 'http://www.just-eat.co.uk/restaurants-007takeaway-s65/menu',\n",
       "  'name': '007 Takeaway',\n",
       "  'rating': 6,\n",
       "  'type_of_food': 'Pizza'}]"
      ]
     },
     "execution_count": 139,
     "metadata": {},
     "output_type": "execute_result"
    }
   ],
   "source": [
    "list(c.find(query2,proy).limit(4))"
   ]
  },
  {
   "cell_type": "markdown",
   "id": "widespread-incident",
   "metadata": {},
   "source": [
    "### `and`      \n",
    "Realiza una operación lógica AND en una matriz de una o más expresiones (por ejemplo, <expresión1>, <expresión2>, etc.) y selecciona los documentos que satisfacen todas las expresiones de la matriz. El operador $and utiliza la evaluación en circuito corto. Si la primera expresión (por ejemplo, <expresión1>) se evalúa como falsa, MongoDB no evaluará las expresiones restantes."
   ]
  },
  {
   "cell_type": "markdown",
   "id": "restricted-glass",
   "metadata": {},
   "source": [
    "Sintaxis del AND  \n",
    "`find({\"$and\": [cond1, cond2]})`"
   ]
  },
  {
   "cell_type": "code",
   "execution_count": 149,
   "id": "freelance-reduction",
   "metadata": {},
   "outputs": [],
   "source": [
    "cond1 = {\"type_of_food\": \"Pizza\"}\n",
    "cond2 = {\"rating\": {\"$gte\": 3}}\n",
    "cond3 = {\"name\": {\"$regex\": \".*\\d*.\"}}"
   ]
  },
  {
   "cell_type": "code",
   "execution_count": 153,
   "id": "mounted-furniture",
   "metadata": {},
   "outputs": [
    {
     "data": {
      "text/plain": [
       "[{'_id': ObjectId('55f14312c7447c3da7051b2b'),\n",
       "  'URL': 'http://www.just-eat.co.uk/restaurants-007takeaway-s65/menu',\n",
       "  'address': '6 Drummond Street',\n",
       "  'address line 2': 'Rotherham',\n",
       "  'name': '007 Takeaway',\n",
       "  'outcode': 'S65',\n",
       "  'postcode': '1HY',\n",
       "  'rating': 6,\n",
       "  'type_of_food': 'Pizza'},\n",
       " {'_id': ObjectId('55f14312c7447c3da7051b34'),\n",
       "  'URL': 'http://www.just-eat.co.uk/restaurants-109restaurant-w2/menu',\n",
       "  'address': '109 Westbourne Park Road',\n",
       "  'address line 2': 'London',\n",
       "  'name': '109 Ristorante',\n",
       "  'outcode': 'W2',\n",
       "  'postcode': '5QL',\n",
       "  'rating': 5,\n",
       "  'type_of_food': 'Pizza'}]"
      ]
     },
     "execution_count": 153,
     "metadata": {},
     "output_type": "execute_result"
    }
   ],
   "source": [
    "list(c.find({\"$and\": [{\"type_of_food\": \"Pizza\"}, {\"rating\": {\"$gte\": 2}}, {\"name\": {\"$regex\": \".*\\d*.\"}}]}).limit(2))"
   ]
  },
  {
   "cell_type": "code",
   "execution_count": 155,
   "id": "contained-telling",
   "metadata": {},
   "outputs": [
    {
     "data": {
      "text/plain": [
       "[{'_id': ObjectId('55f14312c7447c3da7051b2b'),\n",
       "  'URL': 'http://www.just-eat.co.uk/restaurants-007takeaway-s65/menu',\n",
       "  'address': '6 Drummond Street',\n",
       "  'address line 2': 'Rotherham',\n",
       "  'name': '007 Takeaway',\n",
       "  'outcode': 'S65',\n",
       "  'postcode': '1HY',\n",
       "  'rating': 6,\n",
       "  'type_of_food': 'Pizza'},\n",
       " {'_id': ObjectId('55f14312c7447c3da7051b34'),\n",
       "  'URL': 'http://www.just-eat.co.uk/restaurants-109restaurant-w2/menu',\n",
       "  'address': '109 Westbourne Park Road',\n",
       "  'address line 2': 'London',\n",
       "  'name': '109 Ristorante',\n",
       "  'outcode': 'W2',\n",
       "  'postcode': '5QL',\n",
       "  'rating': 5,\n",
       "  'type_of_food': 'Pizza'},\n",
       " {'_id': ObjectId('55f14312c7447c3da7051b3a'),\n",
       "  'URL': 'http://www.just-eat.co.uk/restaurants-1pizza1com-ls26/menu',\n",
       "  'address': '160 Leeds Road',\n",
       "  'address line 2': 'Leeds',\n",
       "  'name': '1pizza1',\n",
       "  'outcode': 'LS26',\n",
       "  'postcode': '0JH',\n",
       "  'rating': 4,\n",
       "  'type_of_food': 'Pizza'}]"
      ]
     },
     "execution_count": 155,
     "metadata": {},
     "output_type": "execute_result"
    }
   ],
   "source": [
    "list(c.find({\"$and\": [cond1,cond2,cond3]}).limit(3))"
   ]
  },
  {
   "cell_type": "code",
   "execution_count": null,
   "id": "bizarre-valley",
   "metadata": {},
   "outputs": [],
   "source": [
    "# También funciona así \n",
    "{\"type_of_food\": \"Chinese\", \"rating\": {\"$gte\":5},\"name\": {\"$regex\": \".*\\d*.\"}}"
   ]
  },
  {
   "cell_type": "code",
   "execution_count": null,
   "id": "ignored-visitor",
   "metadata": {},
   "outputs": [],
   "source": [
    "# NO LO HAGÁIS ASÍ, AUNQUE FUNCIONA"
   ]
  },
  {
   "cell_type": "code",
   "execution_count": 158,
   "id": "deadly-pension",
   "metadata": {},
   "outputs": [
    {
     "data": {
      "text/plain": [
       "[{'URL': 'http://www.just-eat.co.uk/restaurants-cn-chinese-cardiff/menu',\n",
       "  'name': '.CN Chinese',\n",
       "  'rating': 5,\n",
       "  'type_of_food': 'Chinese'},\n",
       " {'URL': 'http://www.just-eat.co.uk/restaurants-100menu-wn1/menu',\n",
       "  'name': '100 Menu',\n",
       "  'rating': 5,\n",
       "  'type_of_food': 'Chinese'},\n",
       " {'URL': 'http://www.just-eat.co.uk/restaurants-113-fish-bar-wallasey/menu',\n",
       "  'name': '113 Fish Bar',\n",
       "  'rating': 5.5,\n",
       "  'type_of_food': 'Chinese'}]"
      ]
     },
     "execution_count": 158,
     "metadata": {},
     "output_type": "execute_result"
    }
   ],
   "source": [
    "list(c.find({\"type_of_food\": \"Chinese\", \"rating\": {\"$gte\":5},\"name\": {\"$regex\": \".*\\d*.\"}},proy).limit(3))"
   ]
  },
  {
   "cell_type": "code",
   "execution_count": 159,
   "id": "focused-feature",
   "metadata": {},
   "outputs": [],
   "source": [
    "#CONDICIONES ILIMITADAS"
   ]
  },
  {
   "cell_type": "markdown",
   "id": "hundred-messenger",
   "metadata": {},
   "source": [
    "### `or`     \n",
    "El operador or realiza una operación lógica OR en una matriz de dos o más expresiones y selecciona los documentos que satisfacen al menos una de las expresiones.    \n",
    "El operador $or tiene la siguiente sintaxis:      \n",
    "`colección.find({\"$or\": [condición1, condición, condición3 ]})`"
   ]
  },
  {
   "cell_type": "code",
   "execution_count": 160,
   "id": "special-daniel",
   "metadata": {},
   "outputs": [
    {
     "data": {
      "text/plain": [
       "{'type_of_food': 'Pizza'}"
      ]
     },
     "execution_count": 160,
     "metadata": {},
     "output_type": "execute_result"
    }
   ],
   "source": [
    "cond1"
   ]
  },
  {
   "cell_type": "code",
   "execution_count": 161,
   "id": "applicable-holiday",
   "metadata": {},
   "outputs": [],
   "source": [
    "pasta = {'type_of_food': 'Pasta'}"
   ]
  },
  {
   "cell_type": "code",
   "execution_count": 165,
   "id": "fantastic-partner",
   "metadata": {},
   "outputs": [
    {
     "data": {
      "text/plain": [
       "[{'URL': 'http://www.just-eat.co.uk/restaurants-007takeaway-s65/menu',\n",
       "  'name': '007 Takeaway',\n",
       "  'rating': 6,\n",
       "  'type_of_food': 'Pizza'},\n",
       " {'URL': 'http://www.just-eat.co.uk/restaurants-109restaurant-w2/menu',\n",
       "  'name': '109 Ristorante',\n",
       "  'rating': 5,\n",
       "  'type_of_food': 'Pizza'},\n",
       " {'URL': 'http://www.just-eat.co.uk/restaurants-1pizza1com-ls26/menu',\n",
       "  'name': '1pizza1',\n",
       "  'rating': 4,\n",
       "  'type_of_food': 'Pizza'},\n",
       " {'URL': 'http://www.just-eat.co.uk/restaurants-1stclasspizza-bs7/menu',\n",
       "  'name': '1st Class Pizza',\n",
       "  'rating': 4.5,\n",
       "  'type_of_food': 'Pizza'},\n",
       " {'URL': 'http://www.just-eat.co.uk/restaurants-1st-choice-pizza-ws11/menu',\n",
       "  'name': '1st Choice Pizza',\n",
       "  'rating': 4,\n",
       "  'type_of_food': 'Pizza'}]"
      ]
     },
     "execution_count": 165,
     "metadata": {},
     "output_type": "execute_result"
    }
   ],
   "source": [
    "list(c.find({\"$or\": [cond1,pasta]},proy).limit(5))"
   ]
  },
  {
   "cell_type": "code",
   "execution_count": null,
   "id": "behind-electricity",
   "metadata": {},
   "outputs": [],
   "source": [
    "# Hacemos una query que mezcle and y or y sea: Mayor que 3 y (chino o tailandés)(MAYOR QUE 3 SEA CHINO O THAILAND)"
   ]
  },
  {
   "cell_type": "code",
   "execution_count": 166,
   "id": "metallic-folks",
   "metadata": {},
   "outputs": [],
   "source": [
    "mayor = {\"rating\":{\"$gt\":3}}\n",
    "chi = {\"type_of_food\": \"Chinese\"}\n",
    "thai = {\"type_of_food\": \"Thai\"}"
   ]
  },
  {
   "cell_type": "code",
   "execution_count": 169,
   "id": "lonely-double",
   "metadata": {},
   "outputs": [
    {
     "data": {
      "text/plain": [
       "[{'URL': 'http://www.just-eat.co.uk/restaurants-cn-chinese-cardiff/menu',\n",
       "  'name': '.CN Chinese',\n",
       "  'rating': 5,\n",
       "  'type_of_food': 'Chinese'},\n",
       " {'URL': 'http://www.just-eat.co.uk/restaurants-atthairestaurant/menu',\n",
       "  'name': '@ Thai Restaurant',\n",
       "  'rating': 4.5,\n",
       "  'type_of_food': 'Thai'},\n",
       " {'URL': 'http://www.just-eat.co.uk/restaurants-atthairestaurant/menu',\n",
       "  'name': '@ Thai Restaurant',\n",
       "  'rating': 4.5,\n",
       "  'type_of_food': 'Thai'},\n",
       " {'URL': 'http://www.just-eat.co.uk/restaurants-atthai-ss9/menu',\n",
       "  'name': '@ Thai',\n",
       "  'rating': 5.5,\n",
       "  'type_of_food': 'Thai'},\n",
       " {'URL': 'http://www.just-eat.co.uk/restaurants-1-2-3-chinese-rowlands-gill/menu',\n",
       "  'name': '1 2 3 Chinese',\n",
       "  'rating': 4.5,\n",
       "  'type_of_food': 'Chinese'}]"
      ]
     },
     "execution_count": 169,
     "metadata": {},
     "output_type": "execute_result"
    }
   ],
   "source": [
    "list(c.find({\"$and\": [{\"$or\": [chi,thai]}, mayor]}, proy).limit(5))"
   ]
  },
  {
   "cell_type": "code",
   "execution_count": 171,
   "id": "welsh-morocco",
   "metadata": {},
   "outputs": [],
   "source": [
    "# Hacemos una query que mezcle and y or y sea: Mayor que 3 y chino, o tailandés (los chinos mayor que 3 y los thai me da igual)"
   ]
  },
  {
   "cell_type": "code",
   "execution_count": 175,
   "id": "extended-basics",
   "metadata": {},
   "outputs": [
    {
     "data": {
      "text/plain": [
       "[{'URL': 'http://www.just-eat.co.uk/restaurants-cn-chinese-cardiff/menu',\n",
       "  'name': '.CN Chinese',\n",
       "  'rating': 5,\n",
       "  'type_of_food': 'Chinese'},\n",
       " {'URL': 'http://www.just-eat.co.uk/restaurants-atthairestaurant/menu',\n",
       "  'name': '@ Thai Restaurant',\n",
       "  'rating': 4.5,\n",
       "  'type_of_food': 'Thai'},\n",
       " {'URL': 'http://www.just-eat.co.uk/restaurants-atthairestaurant/menu',\n",
       "  'name': '@ Thai Restaurant',\n",
       "  'rating': 4.5,\n",
       "  'type_of_food': 'Thai'},\n",
       " {'URL': 'http://www.just-eat.co.uk/restaurants-atthai-ss9/menu',\n",
       "  'name': '@ Thai',\n",
       "  'rating': 5.5,\n",
       "  'type_of_food': 'Thai'},\n",
       " {'URL': 'http://www.just-eat.co.uk/restaurants-1-2-3-chinese-rowlands-gill/menu',\n",
       "  'name': '1 2 3 Chinese',\n",
       "  'rating': 4.5,\n",
       "  'type_of_food': 'Chinese'}]"
      ]
     },
     "execution_count": 175,
     "metadata": {},
     "output_type": "execute_result"
    }
   ],
   "source": [
    "list(c.find({\"$or\": [{\"$and\": [mayor, chi]}, thai]}, proy).limit(5))"
   ]
  },
  {
   "cell_type": "markdown",
   "id": "announced-italic",
   "metadata": {},
   "source": [
    "### `ne`    \n",
    "Not equal  \n",
    "Selecciona los documentos en los que el valor del campo no es igual al valor especificado. Esto incluye los documentos que no contienen el campo."
   ]
  },
  {
   "cell_type": "code",
   "execution_count": 177,
   "id": "interim-operations",
   "metadata": {},
   "outputs": [
    {
     "data": {
      "text/plain": [
       "[{'URL': 'http://www.just-eat.co.uk/restaurants-indiancom-ch4/menu',\n",
       "  'name': '@Indian.com',\n",
       "  'rating': 6,\n",
       "  'type_of_food': 'Curry'},\n",
       " {'URL': 'http://www.just-eat.co.uk/restaurants-aarthi-sw19/menu',\n",
       "  'name': 'Aarthi',\n",
       "  'rating': 6,\n",
       "  'type_of_food': 'Curry'},\n",
       " {'URL': 'http://www.just-eat.co.uk/restaurants-absharindian-ig6/menu',\n",
       "  'name': 'Abshar Indian Cuisine',\n",
       "  'rating': 6,\n",
       "  'type_of_food': 'Punjabi'}]"
      ]
     },
     "execution_count": 177,
     "metadata": {},
     "output_type": "execute_result"
    }
   ],
   "source": [
    "list(c.find({\"type_of_food\": {\"$ne\": \"Pizza\"}, \"rating\": 6}, proy).limit(3))"
   ]
  },
  {
   "cell_type": "markdown",
   "id": "buried-despite",
   "metadata": {},
   "source": [
    "### `in`     \n",
    "El operador in selecciona los documentos en los que el valor de un campo es igual a cualquier valor de la matriz especificada. Para especificar una expresión $in, utilice el siguiente prototipo:     \n",
    "```python\n",
    "{ field: { $in: [<value1>, <value2>, ... <valueN> ] } }\n",
    " ```"
   ]
  },
  {
   "cell_type": "code",
   "execution_count": 180,
   "id": "dietary-office",
   "metadata": {},
   "outputs": [
    {
     "data": {
      "text/plain": [
       "[{'URL': 'http://www.just-eat.co.uk/restaurants-cn-chinese-cardiff/menu',\n",
       "  'name': '.CN Chinese',\n",
       "  'rating': 5,\n",
       "  'type_of_food': 'Chinese'},\n",
       " {'URL': 'http://www.just-eat.co.uk/restaurants-indiancom-ch4/menu',\n",
       "  'name': '@Indian.com',\n",
       "  'rating': 6,\n",
       "  'type_of_food': 'Curry'},\n",
       " {'URL': 'http://www.just-eat.co.uk/restaurants-007takeaway-s65/menu',\n",
       "  'name': '007 Takeaway',\n",
       "  'rating': 6,\n",
       "  'type_of_food': 'Pizza'},\n",
       " {'URL': 'http://www.just-eat.co.uk/restaurants-104-turkish-BBQ/menu',\n",
       "  'name': '104 Turkish BBQ',\n",
       "  'rating': 5,\n",
       "  'type_of_food': 'Turkish'},\n",
       " {'URL': 'http://www.just-eat.co.uk/restaurants-100menu-wn1/menu',\n",
       "  'name': '100 Menu',\n",
       "  'rating': 5,\n",
       "  'type_of_food': 'Chinese'}]"
      ]
     },
     "execution_count": 180,
     "metadata": {},
     "output_type": "execute_result"
    }
   ],
   "source": [
    "list(c.find({\"rating\": {\"$in\": [3.5,5,6]}}, proy).limit(5))"
   ]
  },
  {
   "cell_type": "code",
   "execution_count": 181,
   "id": "previous-basic",
   "metadata": {},
   "outputs": [
    {
     "data": {
      "text/plain": [
       "[{'URL': 'http://www.just-eat.co.uk/restaurants-042-restaurant-e11/menu',\n",
       "  'name': '042 Restaurant & Bar',\n",
       "  'rating': 3,\n",
       "  'type_of_food': 'African'},\n",
       " {'URL': 'http://www.just-eat.co.uk/restaurants-042-restaurant-e11/menu',\n",
       "  'name': '042 Restaurant & Bar',\n",
       "  'rating': 3,\n",
       "  'type_of_food': 'African'},\n",
       " {'URL': 'http://www.just-eat.co.uk/restaurants-042-restaurant-e11/menu',\n",
       "  'name': '042 Restaurant & Bar',\n",
       "  'rating': 3,\n",
       "  'type_of_food': 'African'},\n",
       " {'URL': 'http://www.just-eat.co.uk/restaurants-1pizza1com-ls26/menu',\n",
       "  'name': '1pizza1',\n",
       "  'rating': 4,\n",
       "  'type_of_food': 'Pizza'},\n",
       " {'URL': 'http://www.just-eat.co.uk/restaurants-1st-choice-pizza-ws11/menu',\n",
       "  'name': '1st Choice Pizza',\n",
       "  'rating': 4,\n",
       "  'type_of_food': 'Pizza'}]"
      ]
     },
     "execution_count": 181,
     "metadata": {},
     "output_type": "execute_result"
    }
   ],
   "source": [
    "list(c.find({\"rating\": {\"$in\": list(range(0,5))}}, proy).limit(5))"
   ]
  },
  {
   "cell_type": "code",
   "execution_count": 183,
   "id": "pressing-wings",
   "metadata": {},
   "outputs": [],
   "source": [
    "lista_cosas = [\"Pizza\", \"Thai\", \"hola no doy error\"]"
   ]
  },
  {
   "cell_type": "code",
   "execution_count": 184,
   "id": "empirical-amsterdam",
   "metadata": {},
   "outputs": [
    {
     "data": {
      "text/plain": [
       "[{'_id': ObjectId('55f14312c7447c3da7051b28'),\n",
       "  'URL': 'http://www.just-eat.co.uk/restaurants-atthairestaurant/menu',\n",
       "  'address': '30 Greyhound Road Hammersmith',\n",
       "  'address line 2': 'London',\n",
       "  'name': '@ Thai Restaurant',\n",
       "  'outcode': 'W6',\n",
       "  'postcode': '8NX',\n",
       "  'rating': 4.5,\n",
       "  'type_of_food': 'Thai'},\n",
       " {'_id': ObjectId('55f14312c7447c3da7051b2b'),\n",
       "  'URL': 'http://www.just-eat.co.uk/restaurants-007takeaway-s65/menu',\n",
       "  'address': '6 Drummond Street',\n",
       "  'address line 2': 'Rotherham',\n",
       "  'name': '007 Takeaway',\n",
       "  'outcode': 'S65',\n",
       "  'postcode': '1HY',\n",
       "  'rating': 6,\n",
       "  'type_of_food': 'Pizza'},\n",
       " {'_id': ObjectId('55f14312c7447c3da7051b29'),\n",
       "  'URL': 'http://www.just-eat.co.uk/restaurants-atthairestaurant/menu',\n",
       "  'address': '30 Greyhound Road Hammersmith',\n",
       "  'address line 2': 'London',\n",
       "  'name': '@ Thai Restaurant',\n",
       "  'outcode': 'W6',\n",
       "  'postcode': '8NX',\n",
       "  'rating': 4.5,\n",
       "  'type_of_food': 'Thai'}]"
      ]
     },
     "execution_count": 184,
     "metadata": {},
     "output_type": "execute_result"
    }
   ],
   "source": [
    "list(c.find({\"type_of_food\": {\"$in\": lista_cosas}}).limit(3))"
   ]
  },
  {
   "cell_type": "markdown",
   "id": "general-baseball",
   "metadata": {},
   "source": [
    "### `nin`     \n",
    "\n",
    "Sintaxis: \n",
    "```python\n",
    "{ campo: { $nin: [ <valor1>, <valor2> ... <valorN> ]} }\n",
    "```\n",
    "\n",
    "not in selecciona los documentos en los que\n",
    "\n",
    "- el valor del campo no está en la matriz especificada \n",
    "- el campo no existe."
   ]
  },
  {
   "cell_type": "code",
   "execution_count": 185,
   "id": "supposed-synthetic",
   "metadata": {},
   "outputs": [
    {
     "data": {
      "text/plain": [
       "[{'_id': ObjectId('55f14312c7447c3da7051b26'),\n",
       "  'URL': 'http://www.just-eat.co.uk/restaurants-cn-chinese-cardiff/menu',\n",
       "  'address': '228 City Road',\n",
       "  'address line 2': 'Cardiff',\n",
       "  'name': '.CN Chinese',\n",
       "  'outcode': 'CF24',\n",
       "  'postcode': '3JH',\n",
       "  'rating': 5,\n",
       "  'type_of_food': 'Chinese'},\n",
       " {'_id': ObjectId('55f14312c7447c3da7051b2a'),\n",
       "  'URL': 'http://www.just-eat.co.uk/restaurants-indiancom-ch4/menu',\n",
       "  'address': '9 Broughton Hall Road',\n",
       "  'address line 2': 'Broughton',\n",
       "  'name': '@Indian.com',\n",
       "  'outcode': 'CH4',\n",
       "  'postcode': '0QR',\n",
       "  'rating': 6,\n",
       "  'type_of_food': 'Curry'},\n",
       " {'_id': ObjectId('55f14312c7447c3da7051b28'),\n",
       "  'URL': 'http://www.just-eat.co.uk/restaurants-atthairestaurant/menu',\n",
       "  'address': '30 Greyhound Road Hammersmith',\n",
       "  'address line 2': 'London',\n",
       "  'name': '@ Thai Restaurant',\n",
       "  'outcode': 'W6',\n",
       "  'postcode': '8NX',\n",
       "  'rating': 4.5,\n",
       "  'type_of_food': 'Thai'}]"
      ]
     },
     "execution_count": 185,
     "metadata": {},
     "output_type": "execute_result"
    }
   ],
   "source": [
    "list(c.find({\"rating\": {\"$nin\": [2,3,4]}}).limit(3))"
   ]
  },
  {
   "cell_type": "markdown",
   "id": "mental-ordinary",
   "metadata": {},
   "source": [
    "# Se os ha ido la olla... \n",
    "Pero os dejo un [artículo](https://www.it-swarm-es.com/es/python/por-que-en-numpy-nan-nan-es-false-mientras-que-nan-en-nan-es-true/1042928406/)"
   ]
  },
  {
   "cell_type": "code",
   "execution_count": 187,
   "id": "mature-bennett",
   "metadata": {},
   "outputs": [],
   "source": [
    "import numpy as np"
   ]
  },
  {
   "cell_type": "code",
   "execution_count": 188,
   "id": "certified-brazilian",
   "metadata": {},
   "outputs": [
    {
     "data": {
      "text/plain": [
       "False"
      ]
     },
     "execution_count": 188,
     "metadata": {},
     "output_type": "execute_result"
    }
   ],
   "source": [
    "np.nan == np.nan"
   ]
  },
  {
   "cell_type": "markdown",
   "id": "graduate-dating",
   "metadata": {},
   "source": [
    "Si no quiero que me de los que no tienen ese campo, tendría que hacer un AND "
   ]
  },
  {
   "cell_type": "code",
   "execution_count": 193,
   "id": "prime-nomination",
   "metadata": {},
   "outputs": [],
   "source": [
    "cond_exi = {\"rating\": {\"$exists\": True}}"
   ]
  },
  {
   "cell_type": "code",
   "execution_count": 194,
   "id": "hazardous-utilization",
   "metadata": {},
   "outputs": [
    {
     "data": {
      "text/plain": [
       "[{'URL': 'http://www.just-eat.co.uk/restaurants-cn-chinese-cardiff/menu',\n",
       "  'name': '.CN Chinese',\n",
       "  'rating': 5,\n",
       "  'type_of_food': 'Chinese'},\n",
       " {'URL': 'http://www.just-eat.co.uk/restaurants-indiancom-ch4/menu',\n",
       "  'name': '@Indian.com',\n",
       "  'rating': 6,\n",
       "  'type_of_food': 'Curry'},\n",
       " {'URL': 'http://www.just-eat.co.uk/restaurants-atthairestaurant/menu',\n",
       "  'name': '@ Thai Restaurant',\n",
       "  'rating': 4.5,\n",
       "  'type_of_food': 'Thai'}]"
      ]
     },
     "execution_count": 194,
     "metadata": {},
     "output_type": "execute_result"
    }
   ],
   "source": [
    "list(c.find({\"$and\":[{\"rating\": {\"$nin\": [2,3,4]}}, cond_exi]}, proy).limit(3))"
   ]
  },
  {
   "cell_type": "markdown",
   "id": "greater-thumb",
   "metadata": {},
   "source": [
    "## Update    \n",
    "Modifica un documento o documentos existentes en una colección. El método puede modificar campos específicos de un documento o documentos existentes o reemplazar un documento existente por completo, dependiendo del parámetro de actualización.   \n",
    "Cuidado, esta acción no se puede deshacer.     \n",
    "Sintaxis:\n",
    "```python\n",
    "colección.update_many(condición/filtro, actualización)\n",
    "```\n",
    "\n",
    "Podemos actualizar un campo con `$set` y con `$unset` lo borramos"
   ]
  },
  {
   "cell_type": "code",
   "execution_count": null,
   "id": "subjective-headquarters",
   "metadata": {},
   "outputs": [],
   "source": []
  },
  {
   "cell_type": "code",
   "execution_count": null,
   "id": "finished-syracuse",
   "metadata": {},
   "outputs": [],
   "source": []
  },
  {
   "cell_type": "code",
   "execution_count": null,
   "id": "flush-titanium",
   "metadata": {},
   "outputs": [],
   "source": []
  },
  {
   "cell_type": "code",
   "execution_count": null,
   "id": "unauthorized-paint",
   "metadata": {},
   "outputs": [],
   "source": []
  },
  {
   "cell_type": "code",
   "execution_count": null,
   "id": "involved-gather",
   "metadata": {},
   "outputs": [],
   "source": []
  },
  {
   "cell_type": "code",
   "execution_count": null,
   "id": "transparent-campus",
   "metadata": {},
   "outputs": [],
   "source": []
  },
  {
   "cell_type": "code",
   "execution_count": null,
   "id": "available-factory",
   "metadata": {},
   "outputs": [],
   "source": []
  },
  {
   "cell_type": "code",
   "execution_count": null,
   "id": "spiritual-building",
   "metadata": {},
   "outputs": [],
   "source": []
  },
  {
   "cell_type": "code",
   "execution_count": null,
   "id": "prostate-climate",
   "metadata": {},
   "outputs": [],
   "source": [
    "# Utilizamos exists para ver los que no tienen campo postcode\n"
   ]
  },
  {
   "cell_type": "code",
   "execution_count": null,
   "id": "lyric-circus",
   "metadata": {},
   "outputs": [],
   "source": [
    "# La sintaxis del UNSET se escribe con un diccionario vacío"
   ]
  },
  {
   "cell_type": "code",
   "execution_count": null,
   "id": "supposed-mechanism",
   "metadata": {},
   "outputs": [],
   "source": []
  },
  {
   "cell_type": "markdown",
   "id": "processed-toronto",
   "metadata": {},
   "source": [
    "## Delete     \n",
    "Elimina de una colección todos los documentos que coinciden con el filtro.\n",
    "Sintaxis:\n",
    "```python\n",
    "c.delete_many(condition/filtro)\n",
    "```"
   ]
  },
  {
   "cell_type": "code",
   "execution_count": null,
   "id": "regular-milton",
   "metadata": {},
   "outputs": [],
   "source": []
  },
  {
   "cell_type": "code",
   "execution_count": null,
   "id": "hydraulic-acoustic",
   "metadata": {},
   "outputs": [],
   "source": []
  },
  {
   "cell_type": "markdown",
   "id": "outer-james",
   "metadata": {},
   "source": [
    "## Insert"
   ]
  },
  {
   "cell_type": "markdown",
   "id": "identified-pattern",
   "metadata": {},
   "source": [
    "Insertamos documentos en la colección\n",
    "Sintaxis \n",
    "```python\n",
    "db.collection.insert()\n",
    "```\n"
   ]
  },
  {
   "cell_type": "code",
   "execution_count": null,
   "id": "superior-address",
   "metadata": {},
   "outputs": [],
   "source": []
  },
  {
   "cell_type": "code",
   "execution_count": null,
   "id": "sustainable-dimension",
   "metadata": {},
   "outputs": [],
   "source": [
    "db.restaurants.insert(documento)"
   ]
  },
  {
   "cell_type": "code",
   "execution_count": null,
   "id": "capital-california",
   "metadata": {},
   "outputs": [],
   "source": []
  },
  {
   "cell_type": "markdown",
   "id": "confirmed-concrete",
   "metadata": {},
   "source": [
    "## Info extra \n",
    "Campos de consulta anidados"
   ]
  },
  {
   "cell_type": "code",
   "execution_count": 196,
   "id": "pending-learning",
   "metadata": {},
   "outputs": [
    {
     "data": {
      "text/plain": [
       "['companies', 'restaurants']"
      ]
     },
     "execution_count": 196,
     "metadata": {},
     "output_type": "execute_result"
    }
   ],
   "source": [
    "db.list_collection_names()"
   ]
  },
  {
   "cell_type": "code",
   "execution_count": 197,
   "id": "banner-treaty",
   "metadata": {},
   "outputs": [],
   "source": [
    "companies = db.get_collection(\"companies\")"
   ]
  },
  {
   "cell_type": "code",
   "execution_count": 198,
   "id": "detailed-physics",
   "metadata": {},
   "outputs": [
    {
     "data": {
      "text/plain": [
       "{'_id': ObjectId('55f14312c7447c3da7051b26'),\n",
       " 'URL': 'http://www.just-eat.co.uk/restaurants-cn-chinese-cardiff/menu',\n",
       " 'address': '228 City Road',\n",
       " 'address line 2': 'Cardiff',\n",
       " 'name': '.CN Chinese',\n",
       " 'outcode': 'CF24',\n",
       " 'postcode': '3JH',\n",
       " 'rating': 5,\n",
       " 'type_of_food': 'Chinese'}"
      ]
     },
     "execution_count": 198,
     "metadata": {},
     "output_type": "execute_result"
    }
   ],
   "source": [
    "c.find_one()"
   ]
  },
  {
   "cell_type": "code",
   "execution_count": 199,
   "id": "choice-particular",
   "metadata": {},
   "outputs": [
    {
     "data": {
      "text/plain": [
       "{'_id': ObjectId('52cdef7c4bab8bd675297d8a'),\n",
       " 'name': 'Wetpaint',\n",
       " 'permalink': 'abc2',\n",
       " 'crunchbase_url': 'http://www.crunchbase.com/company/wetpaint',\n",
       " 'homepage_url': 'http://wetpaint-inc.com',\n",
       " 'blog_url': 'http://digitalquarters.net/',\n",
       " 'blog_feed_url': 'http://digitalquarters.net/feed/',\n",
       " 'twitter_username': 'BachelrWetpaint',\n",
       " 'category_code': 'web',\n",
       " 'number_of_employees': 47,\n",
       " 'founded_year': 2005,\n",
       " 'founded_month': 10,\n",
       " 'founded_day': 17,\n",
       " 'deadpooled_year': 1,\n",
       " 'tag_list': 'wiki, seattle, elowitz, media-industry, media-platform, social-distribution-system',\n",
       " 'alias_list': '',\n",
       " 'email_address': 'info@wetpaint.com',\n",
       " 'phone_number': '206.859.6300',\n",
       " 'description': 'Technology Platform Company',\n",
       " 'created_at': datetime.datetime(2007, 5, 25, 6, 51, 27),\n",
       " 'updated_at': 'Sun Dec 08 07:15:44 UTC 2013',\n",
       " 'overview': '<p>Wetpaint is a technology platform company that uses its proprietary state-of-the-art technology and expertise in social media to build and monetize audiences for digital publishers. Wetpaint’s own online property, Wetpaint Entertainment, an entertainment news site that attracts more than 12 million unique visitors monthly and has over 2 million Facebook fans, is a proof point to the company’s success in building and engaging audiences. Media companies can license Wetpaint’s platform which includes a dynamic playbook tailored to their individual needs and comprehensive training. Founded by Internet pioneer Ben Elowitz, and with offices in New York and Seattle, Wetpaint is backed by Accel Partners, the investors behind Facebook.</p>',\n",
       " 'image': {'available_sizes': [[[150, 75],\n",
       "    'assets/images/resized/0000/3604/3604v14-max-150x150.jpg'],\n",
       "   [[250, 125], 'assets/images/resized/0000/3604/3604v14-max-250x250.jpg'],\n",
       "   [[450, 225], 'assets/images/resized/0000/3604/3604v14-max-450x450.jpg']]},\n",
       " 'products': [{'name': 'Wikison Wetpaint', 'permalink': 'wetpaint-wiki'},\n",
       "  {'name': 'Wetpaint Social Distribution System',\n",
       "   'permalink': 'wetpaint-social-distribution-system'}],\n",
       " 'relationships': [{'is_past': False,\n",
       "   'title': 'Co-Founder and VP, Social and Audience Development',\n",
       "   'person': {'first_name': 'Michael',\n",
       "    'last_name': 'Howell',\n",
       "    'permalink': 'michael-howell'}},\n",
       "  {'is_past': False,\n",
       "   'title': 'Co-Founder/CEO/Board of Directors',\n",
       "   'person': {'first_name': 'Ben',\n",
       "    'last_name': 'Elowitz',\n",
       "    'permalink': 'ben-elowitz'}},\n",
       "  {'is_past': False,\n",
       "   'title': 'COO/Board of Directors',\n",
       "   'person': {'first_name': 'Rob',\n",
       "    'last_name': 'Grady',\n",
       "    'permalink': 'rob-grady'}},\n",
       "  {'is_past': False,\n",
       "   'title': 'SVP, Strategy and Business Development',\n",
       "   'person': {'first_name': 'Chris',\n",
       "    'last_name': 'Kollas',\n",
       "    'permalink': 'chris-kollas'}},\n",
       "  {'is_past': False,\n",
       "   'title': 'Board',\n",
       "   'person': {'first_name': 'Theresia',\n",
       "    'last_name': 'Ranzetta',\n",
       "    'permalink': 'theresia-ranzetta'}},\n",
       "  {'is_past': False,\n",
       "   'title': 'Board Member',\n",
       "   'person': {'first_name': 'Gus',\n",
       "    'last_name': 'Tai',\n",
       "    'permalink': 'gus-tai'}},\n",
       "  {'is_past': False,\n",
       "   'title': 'Board',\n",
       "   'person': {'first_name': 'Len',\n",
       "    'last_name': 'Jordan',\n",
       "    'permalink': 'len-jordan'}},\n",
       "  {'is_past': False,\n",
       "   'title': 'Head of Technology and Product',\n",
       "   'person': {'first_name': 'Alex',\n",
       "    'last_name': 'Weinstein',\n",
       "    'permalink': 'alex-weinstein'}},\n",
       "  {'is_past': True,\n",
       "   'title': 'CFO',\n",
       "   'person': {'first_name': 'Bert',\n",
       "    'last_name': 'Hogue',\n",
       "    'permalink': 'bert-hogue'}},\n",
       "  {'is_past': True,\n",
       "   'title': 'CFO/ CRO',\n",
       "   'person': {'first_name': 'Brian',\n",
       "    'last_name': 'Watkins',\n",
       "    'permalink': 'brian-watkins'}},\n",
       "  {'is_past': True,\n",
       "   'title': 'Senior Vice President, Marketing',\n",
       "   'person': {'first_name': 'Rob',\n",
       "    'last_name': 'Grady',\n",
       "    'permalink': 'rob-grady'}},\n",
       "  {'is_past': True,\n",
       "   'title': 'VP, Technology and Product',\n",
       "   'person': {'first_name': 'Werner',\n",
       "    'last_name': 'Koepf',\n",
       "    'permalink': 'werner-koepf'}},\n",
       "  {'is_past': True,\n",
       "   'title': 'VP Marketing',\n",
       "   'person': {'first_name': 'Kevin',\n",
       "    'last_name': 'Flaherty',\n",
       "    'permalink': 'kevin-flaherty'}},\n",
       "  {'is_past': True,\n",
       "   'title': 'VP User Experience',\n",
       "   'person': {'first_name': 'Alex',\n",
       "    'last_name': 'Berg',\n",
       "    'permalink': 'alex-berg'}},\n",
       "  {'is_past': True,\n",
       "   'title': 'VP Engineering',\n",
       "   'person': {'first_name': 'Steve',\n",
       "    'last_name': 'McQuade',\n",
       "    'permalink': 'steve-mcquade'}},\n",
       "  {'is_past': True,\n",
       "   'title': 'Executive Editor',\n",
       "   'person': {'first_name': 'Susan',\n",
       "    'last_name': 'Mulcahy',\n",
       "    'permalink': 'susan-mulcahy'}},\n",
       "  {'is_past': True,\n",
       "   'title': 'VP Business Development',\n",
       "   'person': {'first_name': 'Chris',\n",
       "    'last_name': 'Kollas',\n",
       "    'permalink': 'chris-kollas'}}],\n",
       " 'competitions': [{'competitor': {'name': 'Wikia', 'permalink': 'wikia'}},\n",
       "  {'competitor': {'name': 'JotSpot', 'permalink': 'jotspot'}},\n",
       "  {'competitor': {'name': 'Socialtext', 'permalink': 'socialtext'}},\n",
       "  {'competitor': {'name': 'Ning by Glam Media', 'permalink': 'ning'}},\n",
       "  {'competitor': {'name': 'Soceeo', 'permalink': 'soceeo'}},\n",
       "  {'competitor': {'name': 'Yola', 'permalink': 'yola'}},\n",
       "  {'competitor': {'name': 'SocialGO', 'permalink': 'socialgo'}},\n",
       "  {'competitor': {'name': 'IslamNor', 'permalink': 'islamnor'}}],\n",
       " 'providerships': [],\n",
       " 'total_money_raised': '$39.8M',\n",
       " 'funding_rounds': [{'id': 888,\n",
       "   'round_code': 'a',\n",
       "   'source_url': 'http://seattlepi.nwsource.com/business/246734_wiki02.html',\n",
       "   'source_description': '',\n",
       "   'raised_amount': 5250000,\n",
       "   'raised_currency_code': 'USD',\n",
       "   'funded_year': 2005,\n",
       "   'funded_month': 10,\n",
       "   'funded_day': 1,\n",
       "   'investments': [{'company': None,\n",
       "     'financial_org': {'name': 'Frazier Technology Ventures',\n",
       "      'permalink': 'frazier-technology-ventures'},\n",
       "     'person': None},\n",
       "    {'company': None,\n",
       "     'financial_org': {'name': 'Trinity Ventures',\n",
       "      'permalink': 'trinity-ventures'},\n",
       "     'person': None}]},\n",
       "  {'id': 889,\n",
       "   'round_code': 'b',\n",
       "   'source_url': 'http://pulse2.com/2007/01/09/wiki-builder-website-wetpaint-welcomes-95m-funding/',\n",
       "   'source_description': '',\n",
       "   'raised_amount': 9500000,\n",
       "   'raised_currency_code': 'USD',\n",
       "   'funded_year': 2007,\n",
       "   'funded_month': 1,\n",
       "   'funded_day': 1,\n",
       "   'investments': [{'company': None,\n",
       "     'financial_org': {'name': 'Accel Partners',\n",
       "      'permalink': 'accel-partners'},\n",
       "     'person': None},\n",
       "    {'company': None,\n",
       "     'financial_org': {'name': 'Frazier Technology Ventures',\n",
       "      'permalink': 'frazier-technology-ventures'},\n",
       "     'person': None},\n",
       "    {'company': None,\n",
       "     'financial_org': {'name': 'Trinity Ventures',\n",
       "      'permalink': 'trinity-ventures'},\n",
       "     'person': None}]},\n",
       "  {'id': 2312,\n",
       "   'round_code': 'c',\n",
       "   'source_url': 'http://www.accel.com/news/news_one_up.php?news_id=185',\n",
       "   'source_description': 'Accel',\n",
       "   'raised_amount': 25000000,\n",
       "   'raised_currency_code': 'USD',\n",
       "   'funded_year': 2008,\n",
       "   'funded_month': 5,\n",
       "   'funded_day': 19,\n",
       "   'investments': [{'company': None,\n",
       "     'financial_org': {'name': 'DAG Ventures', 'permalink': 'dag-ventures'},\n",
       "     'person': None},\n",
       "    {'company': None,\n",
       "     'financial_org': {'name': 'Accel Partners',\n",
       "      'permalink': 'accel-partners'},\n",
       "     'person': None},\n",
       "    {'company': None,\n",
       "     'financial_org': {'name': 'Trinity Ventures',\n",
       "      'permalink': 'trinity-ventures'},\n",
       "     'person': None},\n",
       "    {'company': None,\n",
       "     'financial_org': {'name': 'Frazier Technology Ventures',\n",
       "      'permalink': 'frazier-technology-ventures'},\n",
       "     'person': None}]}],\n",
       " 'investments': [],\n",
       " 'acquisition': {'price_amount': 30000000,\n",
       "  'price_currency_code': 'USD',\n",
       "  'term_code': 'cash_and_stock',\n",
       "  'source_url': 'http://allthingsd.com/20131216/viggle-tries-to-bulk-up-its-social-tv-business-by-buying-wetpaint/?mod=atdtweet',\n",
       "  'source_description': ' Viggle Tries to Bulk Up Its Social TV Business by Buying Wetpaint',\n",
       "  'acquired_year': 2013,\n",
       "  'acquired_month': 12,\n",
       "  'acquired_day': 16,\n",
       "  'acquiring_company': {'name': 'Viggle', 'permalink': 'viggle'}},\n",
       " 'acquisitions': [],\n",
       " 'offices': [{'description': '',\n",
       "   'address1': '710 - 2nd Avenue',\n",
       "   'address2': 'Suite 1100',\n",
       "   'zip_code': '98104',\n",
       "   'city': 'Seattle',\n",
       "   'state_code': 'WA',\n",
       "   'country_code': 'USA',\n",
       "   'latitude': 47.603122,\n",
       "   'longitude': -122.333253},\n",
       "  {'description': '',\n",
       "   'address1': '270 Lafayette Street',\n",
       "   'address2': 'Suite 505',\n",
       "   'zip_code': '10012',\n",
       "   'city': 'New York',\n",
       "   'state_code': 'NY',\n",
       "   'country_code': 'USA',\n",
       "   'latitude': 40.7237306,\n",
       "   'longitude': -73.9964312}],\n",
       " 'milestones': [{'id': 5869,\n",
       "   'description': \"Wetpaint named in Lead411's Hottest Seattle Companies list\",\n",
       "   'stoned_year': 2010,\n",
       "   'stoned_month': 6,\n",
       "   'stoned_day': 8,\n",
       "   'source_url': 'http://www.lead411.com/seattle-companies.html',\n",
       "   'source_text': None,\n",
       "   'source_description': 'LEAD411 LAUNCHES \"HOTTEST SEATTLE COMPANIES\" AWARDS',\n",
       "   'stoneable_type': 'Company',\n",
       "   'stoned_value': None,\n",
       "   'stoned_value_type': None,\n",
       "   'stoned_acquirer': None,\n",
       "   'stoneable': {'name': 'Wetpaint', 'permalink': 'wetpaint'}},\n",
       "  {'id': 8702,\n",
       "   'description': 'Site-Builder Wetpaint Makes One For Itself, Using the Demand Media Playbook',\n",
       "   'stoned_year': 2010,\n",
       "   'stoned_month': 9,\n",
       "   'stoned_day': 6,\n",
       "   'source_url': 'http://mediamemo.allthingsd.com/20100906/site-builder-wetpaint-makes-one-for-itself-using-the-demand-media-playbook/',\n",
       "   'source_text': None,\n",
       "   'source_description': 'All Things D',\n",
       "   'stoneable_type': 'Company',\n",
       "   'stoned_value': None,\n",
       "   'stoned_value_type': None,\n",
       "   'stoned_acquirer': None,\n",
       "   'stoneable': {'name': 'Wetpaint', 'permalink': 'wetpaint'}}],\n",
       " 'video_embeds': [],\n",
       " 'screenshots': [{'available_sizes': [[[150, 86],\n",
       "     'assets/images/resized/0016/0929/160929v2-max-150x150.png'],\n",
       "    [[250, 143], 'assets/images/resized/0016/0929/160929v2-max-250x250.png'],\n",
       "    [[450, 258], 'assets/images/resized/0016/0929/160929v2-max-450x450.png']],\n",
       "   'attribution': None}],\n",
       " 'external_links': [{'external_url': 'http://www.geekwire.com/2011/rewind-ben-elowitz-wetpaint-ceo-building-type-media-company',\n",
       "   'title': 'GeekWire interview: Rewind - Ben Elowitz, Wetpaint CEO, on building a new type of media company'},\n",
       "  {'external_url': 'http://techcrunch.com/2012/06/17/search-and-social-how-two-will-soon-become-one/',\n",
       "   'title': 'Guest post by CEO Ben Elowitz in TechCrunch'},\n",
       "  {'external_url': 'http://allthingsd.com/20120516/what-to-expect-when-facebook-is-expecting-five-predictions-for-facebooks-first-public-year/',\n",
       "   'title': 'Guest post by CEO Ben Elowitz in AllThingsD'},\n",
       "  {'external_url': 'http://adage.com/article/digitalnext/facebook-biggest-player-advertising-s-540-billion-world/235708/',\n",
       "   'title': 'Guest post by CEO Ben Elowitz in AdAge'},\n",
       "  {'external_url': 'http://www.businessinsider.com/facebook-captures-14-percent-of-our-online-attention-but-only-4-percent-of-ad-spending-online-2012-6',\n",
       "   'title': 'Guest post by CEO Ben Elowitz in Business Insider'},\n",
       "  {'external_url': 'http://allfacebook.com/wetpaint-media-data_b75963',\n",
       "   'title': 'AllFacebook coverage of Wetpaint'},\n",
       "  {'external_url': 'http://adage.com/article/digital/celeb-site-wetpaint-shows-media-profit-facebook/237828/',\n",
       "   'title': 'Profile of Wetpaint in Ad Age'},\n",
       "  {'external_url': 'http://allthingsd.com/20121018/how-to-boost-your-facebook-traffic-tips-and-tricks-from-wetpaint/',\n",
       "   'title': 'Interview with Wetpaint CEO Ben Elowitz in All Things D'},\n",
       "  {'external_url': 'http://www.xconomy.com/seattle/2012/10/19/wetpaint-starts-licensing-its-facebook-based-media-distribution-tech/',\n",
       "   'title': 'Profile of Wetpaint in Xconomy'}],\n",
       " 'partners': []}"
      ]
     },
     "execution_count": 199,
     "metadata": {},
     "output_type": "execute_result"
    }
   ],
   "source": [
    "companies.find_one()"
   ]
  },
  {
   "cell_type": "code",
   "execution_count": 209,
   "id": "burning-fundamental",
   "metadata": {},
   "outputs": [],
   "source": [
    "me_guardo_uno = companies.find_one()"
   ]
  },
  {
   "cell_type": "code",
   "execution_count": 211,
   "id": "apart-sense",
   "metadata": {},
   "outputs": [
    {
     "data": {
      "text/plain": [
       "[{'description': '',\n",
       "  'address1': '710 - 2nd Avenue',\n",
       "  'address2': 'Suite 1100',\n",
       "  'zip_code': '98104',\n",
       "  'city': 'Seattle',\n",
       "  'state_code': 'WA',\n",
       "  'country_code': 'USA',\n",
       "  'latitude': 47.603122,\n",
       "  'longitude': -122.333253},\n",
       " {'description': '',\n",
       "  'address1': '270 Lafayette Street',\n",
       "  'address2': 'Suite 505',\n",
       "  'zip_code': '10012',\n",
       "  'city': 'New York',\n",
       "  'state_code': 'NY',\n",
       "  'country_code': 'USA',\n",
       "  'latitude': 40.7237306,\n",
       "  'longitude': -73.9964312}]"
      ]
     },
     "execution_count": 211,
     "metadata": {},
     "output_type": "execute_result"
    }
   ],
   "source": [
    "me_guardo_uno[\"offices\"]"
   ]
  },
  {
   "cell_type": "code",
   "execution_count": 200,
   "id": "wanted-simulation",
   "metadata": {},
   "outputs": [],
   "source": [
    "ejemplo = {\"acquisition.acquired_month\": {\"$gt\": 4}}"
   ]
  },
  {
   "cell_type": "code",
   "execution_count": 215,
   "id": "opened-riding",
   "metadata": {},
   "outputs": [
    {
     "data": {
      "text/plain": [
       "[{'_id': ObjectId('52cdef7c4bab8bd675297d8a'),\n",
       "  'name': 'Wetpaint',\n",
       "  'permalink': 'abc2',\n",
       "  'crunchbase_url': 'http://www.crunchbase.com/company/wetpaint',\n",
       "  'homepage_url': 'http://wetpaint-inc.com',\n",
       "  'blog_url': 'http://digitalquarters.net/',\n",
       "  'blog_feed_url': 'http://digitalquarters.net/feed/',\n",
       "  'twitter_username': 'BachelrWetpaint',\n",
       "  'category_code': 'web',\n",
       "  'number_of_employees': 47,\n",
       "  'founded_year': 2005,\n",
       "  'founded_month': 10,\n",
       "  'founded_day': 17,\n",
       "  'deadpooled_year': 1,\n",
       "  'tag_list': 'wiki, seattle, elowitz, media-industry, media-platform, social-distribution-system',\n",
       "  'alias_list': '',\n",
       "  'email_address': 'info@wetpaint.com',\n",
       "  'phone_number': '206.859.6300',\n",
       "  'description': 'Technology Platform Company',\n",
       "  'created_at': datetime.datetime(2007, 5, 25, 6, 51, 27),\n",
       "  'updated_at': 'Sun Dec 08 07:15:44 UTC 2013',\n",
       "  'overview': '<p>Wetpaint is a technology platform company that uses its proprietary state-of-the-art technology and expertise in social media to build and monetize audiences for digital publishers. Wetpaint’s own online property, Wetpaint Entertainment, an entertainment news site that attracts more than 12 million unique visitors monthly and has over 2 million Facebook fans, is a proof point to the company’s success in building and engaging audiences. Media companies can license Wetpaint’s platform which includes a dynamic playbook tailored to their individual needs and comprehensive training. Founded by Internet pioneer Ben Elowitz, and with offices in New York and Seattle, Wetpaint is backed by Accel Partners, the investors behind Facebook.</p>',\n",
       "  'image': {'available_sizes': [[[150, 75],\n",
       "     'assets/images/resized/0000/3604/3604v14-max-150x150.jpg'],\n",
       "    [[250, 125], 'assets/images/resized/0000/3604/3604v14-max-250x250.jpg'],\n",
       "    [[450, 225], 'assets/images/resized/0000/3604/3604v14-max-450x450.jpg']]},\n",
       "  'products': [{'name': 'Wikison Wetpaint', 'permalink': 'wetpaint-wiki'},\n",
       "   {'name': 'Wetpaint Social Distribution System',\n",
       "    'permalink': 'wetpaint-social-distribution-system'}],\n",
       "  'relationships': [{'is_past': False,\n",
       "    'title': 'Co-Founder and VP, Social and Audience Development',\n",
       "    'person': {'first_name': 'Michael',\n",
       "     'last_name': 'Howell',\n",
       "     'permalink': 'michael-howell'}},\n",
       "   {'is_past': False,\n",
       "    'title': 'Co-Founder/CEO/Board of Directors',\n",
       "    'person': {'first_name': 'Ben',\n",
       "     'last_name': 'Elowitz',\n",
       "     'permalink': 'ben-elowitz'}},\n",
       "   {'is_past': False,\n",
       "    'title': 'COO/Board of Directors',\n",
       "    'person': {'first_name': 'Rob',\n",
       "     'last_name': 'Grady',\n",
       "     'permalink': 'rob-grady'}},\n",
       "   {'is_past': False,\n",
       "    'title': 'SVP, Strategy and Business Development',\n",
       "    'person': {'first_name': 'Chris',\n",
       "     'last_name': 'Kollas',\n",
       "     'permalink': 'chris-kollas'}},\n",
       "   {'is_past': False,\n",
       "    'title': 'Board',\n",
       "    'person': {'first_name': 'Theresia',\n",
       "     'last_name': 'Ranzetta',\n",
       "     'permalink': 'theresia-ranzetta'}},\n",
       "   {'is_past': False,\n",
       "    'title': 'Board Member',\n",
       "    'person': {'first_name': 'Gus',\n",
       "     'last_name': 'Tai',\n",
       "     'permalink': 'gus-tai'}},\n",
       "   {'is_past': False,\n",
       "    'title': 'Board',\n",
       "    'person': {'first_name': 'Len',\n",
       "     'last_name': 'Jordan',\n",
       "     'permalink': 'len-jordan'}},\n",
       "   {'is_past': False,\n",
       "    'title': 'Head of Technology and Product',\n",
       "    'person': {'first_name': 'Alex',\n",
       "     'last_name': 'Weinstein',\n",
       "     'permalink': 'alex-weinstein'}},\n",
       "   {'is_past': True,\n",
       "    'title': 'CFO',\n",
       "    'person': {'first_name': 'Bert',\n",
       "     'last_name': 'Hogue',\n",
       "     'permalink': 'bert-hogue'}},\n",
       "   {'is_past': True,\n",
       "    'title': 'CFO/ CRO',\n",
       "    'person': {'first_name': 'Brian',\n",
       "     'last_name': 'Watkins',\n",
       "     'permalink': 'brian-watkins'}},\n",
       "   {'is_past': True,\n",
       "    'title': 'Senior Vice President, Marketing',\n",
       "    'person': {'first_name': 'Rob',\n",
       "     'last_name': 'Grady',\n",
       "     'permalink': 'rob-grady'}},\n",
       "   {'is_past': True,\n",
       "    'title': 'VP, Technology and Product',\n",
       "    'person': {'first_name': 'Werner',\n",
       "     'last_name': 'Koepf',\n",
       "     'permalink': 'werner-koepf'}},\n",
       "   {'is_past': True,\n",
       "    'title': 'VP Marketing',\n",
       "    'person': {'first_name': 'Kevin',\n",
       "     'last_name': 'Flaherty',\n",
       "     'permalink': 'kevin-flaherty'}},\n",
       "   {'is_past': True,\n",
       "    'title': 'VP User Experience',\n",
       "    'person': {'first_name': 'Alex',\n",
       "     'last_name': 'Berg',\n",
       "     'permalink': 'alex-berg'}},\n",
       "   {'is_past': True,\n",
       "    'title': 'VP Engineering',\n",
       "    'person': {'first_name': 'Steve',\n",
       "     'last_name': 'McQuade',\n",
       "     'permalink': 'steve-mcquade'}},\n",
       "   {'is_past': True,\n",
       "    'title': 'Executive Editor',\n",
       "    'person': {'first_name': 'Susan',\n",
       "     'last_name': 'Mulcahy',\n",
       "     'permalink': 'susan-mulcahy'}},\n",
       "   {'is_past': True,\n",
       "    'title': 'VP Business Development',\n",
       "    'person': {'first_name': 'Chris',\n",
       "     'last_name': 'Kollas',\n",
       "     'permalink': 'chris-kollas'}}],\n",
       "  'competitions': [{'competitor': {'name': 'Wikia', 'permalink': 'wikia'}},\n",
       "   {'competitor': {'name': 'JotSpot', 'permalink': 'jotspot'}},\n",
       "   {'competitor': {'name': 'Socialtext', 'permalink': 'socialtext'}},\n",
       "   {'competitor': {'name': 'Ning by Glam Media', 'permalink': 'ning'}},\n",
       "   {'competitor': {'name': 'Soceeo', 'permalink': 'soceeo'}},\n",
       "   {'competitor': {'name': 'Yola', 'permalink': 'yola'}},\n",
       "   {'competitor': {'name': 'SocialGO', 'permalink': 'socialgo'}},\n",
       "   {'competitor': {'name': 'IslamNor', 'permalink': 'islamnor'}}],\n",
       "  'providerships': [],\n",
       "  'total_money_raised': '$39.8M',\n",
       "  'funding_rounds': [{'id': 888,\n",
       "    'round_code': 'a',\n",
       "    'source_url': 'http://seattlepi.nwsource.com/business/246734_wiki02.html',\n",
       "    'source_description': '',\n",
       "    'raised_amount': 5250000,\n",
       "    'raised_currency_code': 'USD',\n",
       "    'funded_year': 2005,\n",
       "    'funded_month': 10,\n",
       "    'funded_day': 1,\n",
       "    'investments': [{'company': None,\n",
       "      'financial_org': {'name': 'Frazier Technology Ventures',\n",
       "       'permalink': 'frazier-technology-ventures'},\n",
       "      'person': None},\n",
       "     {'company': None,\n",
       "      'financial_org': {'name': 'Trinity Ventures',\n",
       "       'permalink': 'trinity-ventures'},\n",
       "      'person': None}]},\n",
       "   {'id': 889,\n",
       "    'round_code': 'b',\n",
       "    'source_url': 'http://pulse2.com/2007/01/09/wiki-builder-website-wetpaint-welcomes-95m-funding/',\n",
       "    'source_description': '',\n",
       "    'raised_amount': 9500000,\n",
       "    'raised_currency_code': 'USD',\n",
       "    'funded_year': 2007,\n",
       "    'funded_month': 1,\n",
       "    'funded_day': 1,\n",
       "    'investments': [{'company': None,\n",
       "      'financial_org': {'name': 'Accel Partners',\n",
       "       'permalink': 'accel-partners'},\n",
       "      'person': None},\n",
       "     {'company': None,\n",
       "      'financial_org': {'name': 'Frazier Technology Ventures',\n",
       "       'permalink': 'frazier-technology-ventures'},\n",
       "      'person': None},\n",
       "     {'company': None,\n",
       "      'financial_org': {'name': 'Trinity Ventures',\n",
       "       'permalink': 'trinity-ventures'},\n",
       "      'person': None}]},\n",
       "   {'id': 2312,\n",
       "    'round_code': 'c',\n",
       "    'source_url': 'http://www.accel.com/news/news_one_up.php?news_id=185',\n",
       "    'source_description': 'Accel',\n",
       "    'raised_amount': 25000000,\n",
       "    'raised_currency_code': 'USD',\n",
       "    'funded_year': 2008,\n",
       "    'funded_month': 5,\n",
       "    'funded_day': 19,\n",
       "    'investments': [{'company': None,\n",
       "      'financial_org': {'name': 'DAG Ventures', 'permalink': 'dag-ventures'},\n",
       "      'person': None},\n",
       "     {'company': None,\n",
       "      'financial_org': {'name': 'Accel Partners',\n",
       "       'permalink': 'accel-partners'},\n",
       "      'person': None},\n",
       "     {'company': None,\n",
       "      'financial_org': {'name': 'Trinity Ventures',\n",
       "       'permalink': 'trinity-ventures'},\n",
       "      'person': None},\n",
       "     {'company': None,\n",
       "      'financial_org': {'name': 'Frazier Technology Ventures',\n",
       "       'permalink': 'frazier-technology-ventures'},\n",
       "      'person': None}]}],\n",
       "  'investments': [],\n",
       "  'acquisition': {'price_amount': 30000000,\n",
       "   'price_currency_code': 'USD',\n",
       "   'term_code': 'cash_and_stock',\n",
       "   'source_url': 'http://allthingsd.com/20131216/viggle-tries-to-bulk-up-its-social-tv-business-by-buying-wetpaint/?mod=atdtweet',\n",
       "   'source_description': ' Viggle Tries to Bulk Up Its Social TV Business by Buying Wetpaint',\n",
       "   'acquired_year': 2013,\n",
       "   'acquired_month': 12,\n",
       "   'acquired_day': 16,\n",
       "   'acquiring_company': {'name': 'Viggle', 'permalink': 'viggle'}},\n",
       "  'acquisitions': [],\n",
       "  'offices': [{'description': '',\n",
       "    'address1': '710 - 2nd Avenue',\n",
       "    'address2': 'Suite 1100',\n",
       "    'zip_code': '98104',\n",
       "    'city': 'Seattle',\n",
       "    'state_code': 'WA',\n",
       "    'country_code': 'USA',\n",
       "    'latitude': 47.603122,\n",
       "    'longitude': -122.333253},\n",
       "   {'description': '',\n",
       "    'address1': '270 Lafayette Street',\n",
       "    'address2': 'Suite 505',\n",
       "    'zip_code': '10012',\n",
       "    'city': 'New York',\n",
       "    'state_code': 'NY',\n",
       "    'country_code': 'USA',\n",
       "    'latitude': 40.7237306,\n",
       "    'longitude': -73.9964312}],\n",
       "  'milestones': [{'id': 5869,\n",
       "    'description': \"Wetpaint named in Lead411's Hottest Seattle Companies list\",\n",
       "    'stoned_year': 2010,\n",
       "    'stoned_month': 6,\n",
       "    'stoned_day': 8,\n",
       "    'source_url': 'http://www.lead411.com/seattle-companies.html',\n",
       "    'source_text': None,\n",
       "    'source_description': 'LEAD411 LAUNCHES \"HOTTEST SEATTLE COMPANIES\" AWARDS',\n",
       "    'stoneable_type': 'Company',\n",
       "    'stoned_value': None,\n",
       "    'stoned_value_type': None,\n",
       "    'stoned_acquirer': None,\n",
       "    'stoneable': {'name': 'Wetpaint', 'permalink': 'wetpaint'}},\n",
       "   {'id': 8702,\n",
       "    'description': 'Site-Builder Wetpaint Makes One For Itself, Using the Demand Media Playbook',\n",
       "    'stoned_year': 2010,\n",
       "    'stoned_month': 9,\n",
       "    'stoned_day': 6,\n",
       "    'source_url': 'http://mediamemo.allthingsd.com/20100906/site-builder-wetpaint-makes-one-for-itself-using-the-demand-media-playbook/',\n",
       "    'source_text': None,\n",
       "    'source_description': 'All Things D',\n",
       "    'stoneable_type': 'Company',\n",
       "    'stoned_value': None,\n",
       "    'stoned_value_type': None,\n",
       "    'stoned_acquirer': None,\n",
       "    'stoneable': {'name': 'Wetpaint', 'permalink': 'wetpaint'}}],\n",
       "  'video_embeds': [],\n",
       "  'screenshots': [{'available_sizes': [[[150, 86],\n",
       "      'assets/images/resized/0016/0929/160929v2-max-150x150.png'],\n",
       "     [[250, 143], 'assets/images/resized/0016/0929/160929v2-max-250x250.png'],\n",
       "     [[450, 258], 'assets/images/resized/0016/0929/160929v2-max-450x450.png']],\n",
       "    'attribution': None}],\n",
       "  'external_links': [{'external_url': 'http://www.geekwire.com/2011/rewind-ben-elowitz-wetpaint-ceo-building-type-media-company',\n",
       "    'title': 'GeekWire interview: Rewind - Ben Elowitz, Wetpaint CEO, on building a new type of media company'},\n",
       "   {'external_url': 'http://techcrunch.com/2012/06/17/search-and-social-how-two-will-soon-become-one/',\n",
       "    'title': 'Guest post by CEO Ben Elowitz in TechCrunch'},\n",
       "   {'external_url': 'http://allthingsd.com/20120516/what-to-expect-when-facebook-is-expecting-five-predictions-for-facebooks-first-public-year/',\n",
       "    'title': 'Guest post by CEO Ben Elowitz in AllThingsD'},\n",
       "   {'external_url': 'http://adage.com/article/digitalnext/facebook-biggest-player-advertising-s-540-billion-world/235708/',\n",
       "    'title': 'Guest post by CEO Ben Elowitz in AdAge'},\n",
       "   {'external_url': 'http://www.businessinsider.com/facebook-captures-14-percent-of-our-online-attention-but-only-4-percent-of-ad-spending-online-2012-6',\n",
       "    'title': 'Guest post by CEO Ben Elowitz in Business Insider'},\n",
       "   {'external_url': 'http://allfacebook.com/wetpaint-media-data_b75963',\n",
       "    'title': 'AllFacebook coverage of Wetpaint'},\n",
       "   {'external_url': 'http://adage.com/article/digital/celeb-site-wetpaint-shows-media-profit-facebook/237828/',\n",
       "    'title': 'Profile of Wetpaint in Ad Age'},\n",
       "   {'external_url': 'http://allthingsd.com/20121018/how-to-boost-your-facebook-traffic-tips-and-tricks-from-wetpaint/',\n",
       "    'title': 'Interview with Wetpaint CEO Ben Elowitz in All Things D'},\n",
       "   {'external_url': 'http://www.xconomy.com/seattle/2012/10/19/wetpaint-starts-licensing-its-facebook-based-media-distribution-tech/',\n",
       "    'title': 'Profile of Wetpaint in Xconomy'}],\n",
       "  'partners': []},\n",
       " {'_id': ObjectId('52cdef7c4bab8bd675297d8e'),\n",
       "  'name': 'Facebook',\n",
       "  'permalink': 'facebook',\n",
       "  'crunchbase_url': 'http://www.crunchbase.com/company/facebook',\n",
       "  'homepage_url': 'http://facebook.com',\n",
       "  'blog_url': 'http://blog.facebook.com',\n",
       "  'blog_feed_url': 'http://blog.facebook.com/atom.php',\n",
       "  'twitter_username': 'facebook',\n",
       "  'category_code': 'social',\n",
       "  'number_of_employees': 5299,\n",
       "  'founded_year': 2004,\n",
       "  'founded_month': 2,\n",
       "  'founded_day': 1,\n",
       "  'deadpooled_year': None,\n",
       "  'deadpooled_month': None,\n",
       "  'deadpooled_day': None,\n",
       "  'deadpooled_url': '',\n",
       "  'tag_list': 'facebook, college, students, profiles, network, online-communities, social-networking',\n",
       "  'alias_list': '',\n",
       "  'email_address': '',\n",
       "  'phone_number': '',\n",
       "  'description': 'Social network',\n",
       "  'created_at': 'Fri May 25 21:22:15 UTC 2007',\n",
       "  'updated_at': 'Thu Nov 21 19:40:55 UTC 2013',\n",
       "  'overview': '<p>Facebook is the world&#8217;s largest social network, with over <a href=\"http://techcrunch.com/2013/07/24/facebook-growth-2/\" title=\"1.15 billion monthly active users\">1.15 billion monthly active users</a>.</p>\\n\\n<p>Facebook was founded by <a href=\"http://www.crunchbase.com/person/mark-zuckerberg\" title=\"Mark Zuckerberg\">Mark Zuckerberg</a> in February 2004, initially as an exclusive network for Harvard students. It was a huge hit: in 2 weeks, half of the schools in the Boston area began demanding a Facebook network. Zuckerberg immediately recruited his friends <a href=\"http://www.crunchbase.com/person/dustin-moskovitz\" title=\"Dustin Moskovitz\">Dustin Moskovitz</a>, <a href=\"/person/chris-hughes\" title=\"Chris Hughes\" rel=\"nofollow\">Chris Hughes</a>, and <a href=\"/person/eduardo-saverin\" title=\"Eduardo Saverin\" rel=\"nofollow\">Eduardo Saverin</a> to help build Facebook, and within four months, Facebook added 30 more college networks. </p>\\n\\n<p>The original idea for the term Facebook came from Zuckerberg&#8217;s high school (Phillips Exeter Academy). The Exeter Face Book was passed around to every student as a way for students to get to know their classmates for the following year. It was a physical paper book until Zuckerberg brought it to the internet.</p>\\n\\n<p>With this success, Zuckerberg, Moskowitz and Hughes moved out to <a href=\"/maps/city/Palo%2520Alto\" title=\"Palo Alto\" rel=\"nofollow\">Palo Alto</a> for the summer and rented a sublet. A few weeks later, Zuckerberg ran into the former cofounder of <a href=\"/company/napster\" title=\"Napster\" rel=\"nofollow\">Napster</a>, <a href=\"/person/sean-parker\" title=\"Sean Parker\" rel=\"nofollow\">Sean Parker</a>. Parker soon moved in to Zuckerberg&#8217;s apartment and they began working together.  Parker provided the introduction to their first investor, <a href=\"/person/peter-thiel\" title=\"Peter Thiel\" rel=\"nofollow\">Peter Thiel</a>, cofounder of <a href=\"/company/paypal\" title=\"PayPal\" rel=\"nofollow\">PayPal</a> and managing partner of <a href=\"http://www.crunchbase.com/financial-organization/founders-fund\" title=\"The Founders Fund\">The Founders Fund</a>. Thiel invested $500,000 into Facebook. </p>\\n\\n<p>With millions more users, <a href=\"/company/friendster\" title=\"Friendster\" rel=\"nofollow\">Friendster</a> <a href=\"http://www.techcrunch.com/2006/12/12/yahoos-project-fraternity-docs-leaked/\" title=\"attempted\">attempted</a> to acquire the company for $10 million in mid 2004. Facebook turned down the offer and subsequently received $12.7 million in funding from <a href=\"http://www.crunchbase.com/financial-organization/accel-partners\" title=\"Accel Partners\">Accel Partners</a>, at a valuation of <a href=\"http://www.techcrunch.com/2005/09/07/85-of-college-students-use-facebook/\" title=\"around $100 million\">around $100 million</a>. Facebook continued to grow, opening up to high school students in September 2005 and adding an immensely popular photo sharing feature the next month. The next spring, Facebook received $25 million in funding from <a href=\"http://www.crunchbase.com/financial-organization/greylock\" title=\"Greylock Partners\">Greylock Partners</a> and <a href=\"http://www.crunchbase.com/financial-organization/meritech-capital-partners\" title=\"Meritech Capital\">Meritech Capital</a>, as well as previous investors Accel Partners and Peter Thiel. The pre-money valuation for this deal was about $525 million. Facebook subsequently <a href=\"http://www.techcrunch.com/2006/04/26/facebook-goes-beyond-college-high-school-markets/\" title=\"opened\">opened</a> up to work networks, eventually amassing over 20,000 work networks. Finally in September 2006, Facebook <a href=\"http://www.techcrunch.com/2006/09/26/facebook-just-launched-open-registrations/\" title=\"opened\">opened</a> to anyone with an email address. </p>\\n\\n<p>In the summer of 2006, <a href=\"/company/yahoo\" title=\"Yahoo\" rel=\"nofollow\">Yahoo</a> <a href=\"http://www.techcrunch.com/2006/09/21/facebook-and-yahoo-in-acquisition-talks-for-1-billion/\" title=\"attempted to acquire\">attempted to acquire</a> the company for $1 billion dollars. <a href=\"http://www.wired.com/techbiz/startups/news/2007/09/ff_facebook\" title=\"Reports\" rel=\"nofollow\">Reports</a> actually indicated that Zuckerberg made a verbal agreement to sell Facebook to Yahoo. A few days later when Yahoo&#8217;s stock price took a dive, the offer was lowered to $800 million and Zuckerberg walked away from the deal.  Yahoo later <a href=\"http://www.techcrunch.com/2006/12/12/yahoos-project-fraternity-docs-leaked/\" title=\"offered\">offered</a> $1 billion again, this time Zuckerberg turned Yahoo down and earned instant notoriety as the &#8220;kid&#8221; who turned down a billion. This was not the first time Zuckerberg turned down an acquisition offer; <a href=\"/company/viacom\" title=\"Viacom\" rel=\"nofollow\">Viacom</a> had previously <a href=\"http://www.techcrunch.com/2006/03/28/facebook-is-doing-the-skype-dance/\" title=\"unsuccessfully\">unsuccessfully</a> attempted to acquire the company for $750 million in March 2006. </p>\\n\\n<p>Not long after, in October 2007, <a href=\"http://www.techcrunch.com/2007/10/24/facebook-takes-the-microsoft-money-and-runs/\" title=\"Microsoft invested\">Microsoft invested</a> $240 million into Facebook for 1.6 percent of the company in. This meant a valuation of over $15 billion, making Facebook the <a href=\"http://www.techcrunch.com/2007/10/25/perspective-facebook-is-now-5th-most-valuable-us-internet-company/\" title=\"5th most valuable US Internet company\">5th most valuable US Internet company</a>, yet with only $150 million in annual revenue. Many explained Microsoft&#8217;s decision as being solely driven by the desire to outbid Google.</p>\\n\\n<p>Facebook continued to receive funding, most notably in January 2011 receiving a <a href=\"http://techcrunch.com/2011/01/21/facebook-raises-1-5-billion-at-50-billion-valuation/\" title=\"$1.5 billion round\">$1.5 billion round</a>, valuing the company at $50 billion. A year later, in February 2012, Facebook <a href=\"http://techcrunch.com/2012/02/01/facebook-files-for-5-billion-ipo/\" title=\"announced\">announced</a> that it was filing for its long-anticipated initial public offering. The company went public on May 18, 2012, opening on the NASDAQ with shares trading at <a href=\"http://techcrunch.com/2012/05/18/facebook-share-open-10-5-higher-at-42/\" title=\"$42.05\">$42.05</a>.</p>\\n\\n<p>One sour note for Facebook has been the <a href=\"http://www.techcrunch.com/2007/07/16/the-ghost-of-zuckerbergs-past-may-haunt-facebook-ipo/\" title=\"controversy\">controversy</a> with social network ConnectU. The founders of ConnectU, former classmates of Mark Zuckerberg at Harvard, allege that Zuckerberg stole their original source code for Facebook. The ordeal has <a href=\"http://www.techcrunch.com/2007/10/10/facebook-vs-connectu-facebook-makes-untrue-assertions-claims-connectu/\" title=\"gone to court\">gone to court</a>, and has now been <a href=\"http://techcrunch.com/2011/06/22/after-seven-years-the-winklevosses-give-up-on-battle-with-facebook/\" title=\"resolved\">resolved</a>. </p>\\n\\n<p>Notwithstanding this lingering controversy, Facebook&#8217;s growth has been staggering. Facebook announced <a href=\"http://techcrunch.com/2012/02/01/facebooks-s-1-845-million-users-every-month-more-than-half-daily-and-nearly-half-mobile/\" title=\"astonishing numbers\">astonishing numbers</a> in February 2012 upon filing for its IPO. As of July 2013, over <a href=\"http://techcrunch.com/2013/07/24/facebook-growth-2/\" title=\"1.15 billion\">1.15 billion</a> users log into Facebook every month, and 669 million users log in daily. Mobile users now make up half of Facebook&#8217;s user base, with 819 million monthly actives. Facebook has also announced that by the end of 2011 there had been 100 billion friend connections, and in recent months users had been registering 2.7 billion Likes and Comments per day. Facebook is one of the <a href=\"http://techcrunch.com/2010/12/29/hitwise-facebook-overtakes-google-to-become-most-visited-website-in-2010/\" title=\"most trafficked sites\">most trafficked sites</a> in the US, and its international growth has been impressive. Additionally, Facebook is the top photo sharing site with 250 million photos uploaded per day.</p>\\n\\n<p>Facebook users&#8217; <a href=\"http://www.techcrunch.com/2007/11/13/i-just-cant-be-a-college-student-without-facebook/\" title=\"passion\">passion</a>—or <a href=\"http://www.techcrunch.com/2007/03/09/career-advice-dont-choose-facebook-over-your-job/\" title=\"addiction\">addiction</a>—to the site is unparalleled: more than half use the product every single day and users spend an average of 19 minutes a day on Facebook. The site&#8217;s popularity has garnered it pop culture fame, so much so that in 2010 a feature film entitled <em>The Social Network</em> was released which chronicled Facebook&#8217;s inception.</p>\\n\\n<p>In its 2012 <a href=\"http://techcrunch.com/2012/02/01/facebook-files-for-5-billion-ipo/\" title=\"IPO filing\">IPO filing</a>, Facebook announced that it intends to grow in the near future by expanding its global user base, increasing engagement by developing new social tools, improving the mobile experience, and creating more value for advertisers and users.</p>',\n",
       "  'image': {'available_sizes': [[[150, 61],\n",
       "     'assets/images/resized/0000/4561/4561v1-max-150x150.png'],\n",
       "    [[245, 100], 'assets/images/resized/0000/4561/4561v1-max-250x250.png'],\n",
       "    [[245, 100], 'assets/images/resized/0000/4561/4561v1-max-450x450.png']],\n",
       "   'attribution': None},\n",
       "  'products': [{'name': 'Facebook Platform', 'permalink': 'facebook-platform'},\n",
       "   {'name': 'Facebook News Feed', 'permalink': 'facebook-news-feed'},\n",
       "   {'name': 'Facebook Chat', 'permalink': 'facebook-chat'},\n",
       "   {'name': 'Facebook Connect', 'permalink': 'facebook-connect'},\n",
       "   {'name': 'Facebook Mobile', 'permalink': 'facebook-iphone-app'},\n",
       "   {'name': 'Facebook', 'permalink': 'facebook-zero'},\n",
       "   {'name': 'Facebook Lite', 'permalink': 'facebook-lite'},\n",
       "   {'name': 'Facebook Places', 'permalink': 'facebook-places'}],\n",
       "  'relationships': [{'is_past': False,\n",
       "    'title': 'Founder and CEO, Board Of Directors',\n",
       "    'person': {'first_name': 'Mark',\n",
       "     'last_name': 'Zuckerberg',\n",
       "     'permalink': 'mark-zuckerberg'}},\n",
       "   {'is_past': False,\n",
       "    'title': 'CFO',\n",
       "    'person': {'first_name': 'David',\n",
       "     'last_name': 'Ebersman',\n",
       "     'permalink': 'david-ebersman'}},\n",
       "   {'is_past': False,\n",
       "    'title': 'COO',\n",
       "    'person': {'first_name': 'Sheryl',\n",
       "     'last_name': 'Sandberg',\n",
       "     'permalink': 'sheryl-sandberg'}},\n",
       "   {'is_past': False,\n",
       "    'title': 'Vice- President and General Counsel',\n",
       "    'person': {'first_name': 'Colin',\n",
       "     'last_name': 'Stretch',\n",
       "     'permalink': 'colin-stretch'}},\n",
       "   {'is_past': False,\n",
       "    'title': 'VP of Engineering & Product',\n",
       "    'person': {'first_name': 'Peter',\n",
       "     'last_name': 'Deng',\n",
       "     'permalink': 'peter-deng'}},\n",
       "   {'is_past': False,\n",
       "    'title': 'VP, Global Advertising Sales',\n",
       "    'person': {'first_name': 'Carolyn',\n",
       "     'last_name': 'Everson',\n",
       "     'permalink': 'carolyn-everson'}},\n",
       "   {'is_past': False,\n",
       "    'title': 'Vice President Advertising and Global Operations',\n",
       "    'person': {'first_name': 'David',\n",
       "     'last_name': 'Fischer',\n",
       "     'permalink': 'david-fischer-2'}},\n",
       "   {'is_past': False,\n",
       "    'title': 'VP, EMEA',\n",
       "    'person': {'first_name': 'Joanna',\n",
       "     'last_name': 'Shields',\n",
       "     'permalink': 'joanna-shields'}},\n",
       "   {'is_past': False,\n",
       "    'title': 'VP, Advertising',\n",
       "    'person': {'first_name': 'Andrew',\n",
       "     'last_name': 'Bosworth',\n",
       "     'permalink': 'andrew-bosworth'}},\n",
       "   {'is_past': False,\n",
       "    'title': 'VP Human Resources, Recruiting',\n",
       "    'person': {'first_name': 'Lori',\n",
       "     'last_name': 'Goler',\n",
       "     'permalink': 'lori-goler'}},\n",
       "   {'is_past': False,\n",
       "    'title': 'VP of Engineering',\n",
       "    'person': {'first_name': 'Jay',\n",
       "     'last_name': 'Parikh',\n",
       "     'permalink': 'jay-parikh'}},\n",
       "   {'is_past': False,\n",
       "    'title': 'VP Product',\n",
       "    'person': {'first_name': 'Chris',\n",
       "     'last_name': 'Cox',\n",
       "     'permalink': 'chris-cox'}},\n",
       "   {'is_past': False,\n",
       "    'title': 'VP Engineering & Products',\n",
       "    'person': {'first_name': 'Greg',\n",
       "     'last_name': 'Badros',\n",
       "     'permalink': 'greg-badros'}},\n",
       "   {'is_past': False,\n",
       "    'title': 'VP of Partnerships and Platform Marketing',\n",
       "    'person': {'first_name': 'Dan',\n",
       "     'last_name': 'Rose',\n",
       "     'permalink': 'dan-rose'}},\n",
       "   {'is_past': False,\n",
       "    'title': 'Vice President, Engineering',\n",
       "    'person': {'first_name': 'Mike',\n",
       "     'last_name': 'Schroepfer',\n",
       "     'permalink': 'mike-shroepfer'}},\n",
       "   {'is_past': False,\n",
       "    'title': 'VP of Global Communications, Marketing and Public Policy',\n",
       "    'person': {'first_name': 'Elliot',\n",
       "     'last_name': 'Schrage',\n",
       "     'permalink': 'elliot-schrage'}},\n",
       "   {'is_past': False,\n",
       "    'title': 'Board of Directors/Investor',\n",
       "    'person': {'first_name': 'Jim',\n",
       "     'last_name': 'Breyer',\n",
       "     'permalink': 'jim-breyer'}},\n",
       "   {'is_past': False,\n",
       "    'title': 'Board Director',\n",
       "    'person': {'first_name': 'Marc',\n",
       "     'last_name': 'Andreessen',\n",
       "     'permalink': 'marc-andreessen'}},\n",
       "   {'is_past': False,\n",
       "    'title': 'Director of Monetization',\n",
       "    'person': {'first_name': 'Tim',\n",
       "     'last_name': 'Kendall',\n",
       "     'permalink': 'tim-kendall'}},\n",
       "   {'is_past': False,\n",
       "    'title': 'Head of Security',\n",
       "    'person': {'first_name': 'Max',\n",
       "     'last_name': 'Kelly',\n",
       "     'permalink': 'max-kelly'}},\n",
       "   {'is_past': False,\n",
       "    'title': 'Marketing Director',\n",
       "    'person': {'first_name': 'Randi',\n",
       "     'last_name': 'Zuckerberg',\n",
       "     'permalink': 'randi-zuckerberg'}},\n",
       "   {'is_past': False,\n",
       "    'title': 'Director of Public Policy',\n",
       "    'person': {'first_name': 'Timothy',\n",
       "     'last_name': 'Sparapani',\n",
       "     'permalink': 'timothy-sparapani'}},\n",
       "   {'is_past': False,\n",
       "    'title': 'Product Manager',\n",
       "    'person': {'first_name': 'Gareth',\n",
       "     'last_name': 'Davis',\n",
       "     'permalink': 'gareth-davis'}},\n",
       "   {'is_past': False,\n",
       "    'title': 'Business Development Manager',\n",
       "    'person': {'first_name': 'Justin',\n",
       "     'last_name': 'Osofsky',\n",
       "     'permalink': 'justin-osofsky'}},\n",
       "   {'is_past': False,\n",
       "    'title': 'Platform Product Marketing',\n",
       "    'person': {'first_name': 'Kelly',\n",
       "     'last_name': 'Hansen',\n",
       "     'permalink': 'kelly-hansen'}},\n",
       "   {'is_past': False,\n",
       "    'title': 'Manager, Site Reliability Engineering',\n",
       "    'person': {'first_name': 'Pedro',\n",
       "     'last_name': 'Canahuati',\n",
       "     'permalink': 'pedro-canahuati'}},\n",
       "   {'is_past': False,\n",
       "    'title': 'Software Engineer',\n",
       "    'person': {'first_name': 'Michael',\n",
       "     'last_name': 'Novati',\n",
       "     'permalink': 'michael-novati'}},\n",
       "   {'is_past': False,\n",
       "    'title': 'Engineering Director',\n",
       "    'person': {'first_name': 'Pedram',\n",
       "     'last_name': 'Keyani',\n",
       "     'permalink': 'pedram-keyani'}},\n",
       "   {'is_past': False,\n",
       "    'title': 'Software Engineer',\n",
       "    'person': {'first_name': 'bill',\n",
       "     'last_name': 'fumerola',\n",
       "     'permalink': 'bill-fumerola'}},\n",
       "   {'is_past': False,\n",
       "    'title': 'Engineer',\n",
       "    'person': {'first_name': 'Lars',\n",
       "     'last_name': 'Rasmussen',\n",
       "     'permalink': 'lars-rasmussen'}},\n",
       "   {'is_past': False,\n",
       "    'title': 'Manager of Product Marketing, Facebook Credits',\n",
       "    'person': {'first_name': 'Deborah',\n",
       "     'last_name': 'Liu',\n",
       "     'permalink': 'deborah-liu'}},\n",
       "   {'is_past': False,\n",
       "    'title': 'Head of platform partnerships',\n",
       "    'person': {'first_name': 'Julien',\n",
       "     'last_name': 'Codorniou',\n",
       "     'permalink': 'julien-codorniou'}},\n",
       "   {'is_past': False,\n",
       "    'title': 'Corporate Development',\n",
       "    'person': {'first_name': 'Amin',\n",
       "     'last_name': 'Zoufonoun',\n",
       "     'permalink': 'amin-zoufonoun'}},\n",
       "   {'is_past': False,\n",
       "    'title': 'Director, Product Management',\n",
       "    'person': {'first_name': 'Tom',\n",
       "     'last_name': 'Stocky',\n",
       "     'permalink': 'tom-stocky'}},\n",
       "   {'is_past': False,\n",
       "    'title': 'Monetization Analytics',\n",
       "    'person': {'first_name': 'Jimmy',\n",
       "     'last_name': 'Zhu',\n",
       "     'permalink': 'jimmy-zhu'}},\n",
       "   {'is_past': False,\n",
       "    'title': 'Product Manager',\n",
       "    'person': {'first_name': 'Justin',\n",
       "     'last_name': 'Shaffer',\n",
       "     'permalink': 'justin-shaffer'}},\n",
       "   {'is_past': False,\n",
       "    'title': 'Strategic Partner Manager, Games',\n",
       "    'person': {'first_name': 'Niranjan',\n",
       "     'last_name': 'Nagar',\n",
       "     'permalink': 'niranjan-nagar'}},\n",
       "   {'is_past': False,\n",
       "    'title': 'Software Engineer',\n",
       "    'person': {'first_name': 'Lincoln',\n",
       "     'last_name': 'Hochberg',\n",
       "     'permalink': 'lincoln-hochberg'}},\n",
       "   {'is_past': False,\n",
       "    'title': '',\n",
       "    'person': {'first_name': 'Adam',\n",
       "     'last_name': 'Cheyer',\n",
       "     'permalink': 'adam-cheyer'}},\n",
       "   {'is_past': False,\n",
       "    'title': 'Software Engineer',\n",
       "    'person': {'first_name': 'Zac',\n",
       "     'last_name': 'Morris',\n",
       "     'permalink': 'zac-morris'}},\n",
       "   {'is_past': False,\n",
       "    'title': 'Photos Product Manger',\n",
       "    'person': {'first_name': 'Emily',\n",
       "     'last_name': 'Grewal',\n",
       "     'permalink': 'emily-grewal'}},\n",
       "   {'is_past': False,\n",
       "    'title': 'Director of Engineering',\n",
       "    'person': {'first_name': 'John',\n",
       "     'last_name': 'Ciancutti',\n",
       "     'permalink': 'john-ciancutti'}},\n",
       "   {'is_past': False,\n",
       "    'title': 'Product Manager',\n",
       "    'person': {'first_name': 'Eitan',\n",
       "     'last_name': 'Shay',\n",
       "     'permalink': 'eitan-shay'}},\n",
       "   {'is_past': False,\n",
       "    'title': 'Communication Designer',\n",
       "    'person': {'first_name': 'Skyler',\n",
       "     'last_name': 'Vander Molen',\n",
       "     'permalink': 'skyler-vander-molen'}},\n",
       "   {'is_past': False,\n",
       "    'title': 'Product Designer',\n",
       "    'person': {'first_name': 'Tuhin',\n",
       "     'last_name': 'Kumar',\n",
       "     'permalink': 'tuhin-kumar'}},\n",
       "   {'is_past': False,\n",
       "    'title': '',\n",
       "    'person': {'first_name': 'Sriram',\n",
       "     'last_name': 'Krishnan',\n",
       "     'permalink': 'sriram-krishnan'}},\n",
       "   {'is_past': False,\n",
       "    'title': 'Manager of Strategic Partnerships',\n",
       "    'person': {'first_name': 'Ime',\n",
       "     'last_name': 'Archibong',\n",
       "     'permalink': 'ime-archibong'}},\n",
       "   {'is_past': False,\n",
       "    'title': 'Strategic Partner Development - Commerce',\n",
       "    'person': {'first_name': 'Chris',\n",
       "     'last_name': 'Maliwat',\n",
       "     'permalink': 'chris-maliwat'}},\n",
       "   {'is_past': False,\n",
       "    'title': 'Software Engineer',\n",
       "    'person': {'first_name': 'Barak',\n",
       "     'last_name': 'Naveh',\n",
       "     'permalink': 'barak-naveh'}},\n",
       "   {'is_past': False,\n",
       "    'title': 'International Growth',\n",
       "    'person': {'first_name': 'Edward',\n",
       "     'last_name': 'Baker',\n",
       "     'permalink': 'edward-baker'}},\n",
       "   {'is_past': False,\n",
       "    'title': 'Troublemaker',\n",
       "    'person': {'first_name': 'Seng Keat',\n",
       "     'last_name': 'Teh',\n",
       "     'permalink': 'seng-keat-teh'}},\n",
       "   {'is_past': False,\n",
       "    'title': 'Software Engineer',\n",
       "    'person': {'first_name': 'Lucy',\n",
       "     'last_name': 'Zhang',\n",
       "     'permalink': 'lucy-zhang'}},\n",
       "   {'is_past': False,\n",
       "    'title': 'Software Engineer',\n",
       "    'person': {'first_name': 'Jonathan',\n",
       "     'last_name': 'Perlow',\n",
       "     'permalink': 'jonathan-perlow'}},\n",
       "   {'is_past': False,\n",
       "    'title': 'Head of Analytics',\n",
       "    'person': {'first_name': 'Ken',\n",
       "     'last_name': 'Rudin',\n",
       "     'permalink': 'ken-rudin'}},\n",
       "   {'is_past': False,\n",
       "    'title': 'Software Engineer',\n",
       "    'person': {'first_name': 'Michael',\n",
       "     'last_name': 'Landau',\n",
       "     'permalink': 'michael-landau'}},\n",
       "   {'is_past': False,\n",
       "    'title': 'Product Manager',\n",
       "    'person': {'first_name': 'Gil',\n",
       "     'last_name': 'Hirsch',\n",
       "     'permalink': 'gil-hirsch'}},\n",
       "   {'is_past': False,\n",
       "    'title': 'Software Engineer',\n",
       "    'person': {'first_name': 'Florian',\n",
       "     'last_name': 'Laplantif',\n",
       "     'permalink': 'florian-laplantif'}},\n",
       "   {'is_past': False,\n",
       "    'title': 'Software Engineer',\n",
       "    'person': {'first_name': 'Benjamin',\n",
       "     'last_name': 'Golub',\n",
       "     'permalink': 'benjamin-golub'}},\n",
       "   {'is_past': False,\n",
       "    'title': 'Facebook',\n",
       "    'person': {'first_name': 'Thomas',\n",
       "     'last_name': 'Shin',\n",
       "     'permalink': 'thomas-shin'}},\n",
       "   {'is_past': False,\n",
       "    'title': 'Head of Vertical Measurement',\n",
       "    'person': {'first_name': 'Graham',\n",
       "     'last_name': 'Mudd',\n",
       "     'permalink': 'graham-mudd'}},\n",
       "   {'is_past': False,\n",
       "    'title': 'Software Engineer',\n",
       "    'person': {'first_name': 'Tudor',\n",
       "     'last_name': 'Bosman',\n",
       "     'permalink': 'tudor-bosman'}},\n",
       "   {'is_past': False,\n",
       "    'title': 'Software Engineer',\n",
       "    'person': {'first_name': 'Ashwin',\n",
       "     'last_name': 'Bharambe',\n",
       "     'permalink': 'ashwin-bharambe'}},\n",
       "   {'is_past': False,\n",
       "    'title': 'Growth',\n",
       "    'person': {'first_name': 'Rob',\n",
       "     'last_name': 'Goldman',\n",
       "     'permalink': 'rob-goldman'}},\n",
       "   {'is_past': False,\n",
       "    'title': 'Director of Platform Operations',\n",
       "    'person': {'first_name': 'John',\n",
       "     'last_name': 'Anderson',\n",
       "     'permalink': 'john-anderson-2'}},\n",
       "   {'is_past': False,\n",
       "    'title': 'Product Manager',\n",
       "    'person': {'first_name': 'Teck',\n",
       "     'last_name': 'Chia',\n",
       "     'permalink': 'teck-chia'}},\n",
       "   {'is_past': False,\n",
       "    'title': 'Engineering Director / Site Director',\n",
       "    'person': {'first_name': 'rohit',\n",
       "     'last_name': 'wad',\n",
       "     'permalink': 'rohit-wad'}},\n",
       "   {'is_past': False,\n",
       "    'title': 'Sustainability Guru',\n",
       "    'person': {'first_name': 'Bill',\n",
       "     'last_name': 'Weihl',\n",
       "     'permalink': 'bill-weihl'}},\n",
       "   {'is_past': False,\n",
       "    'title': 'Investor',\n",
       "    'person': {'first_name': 'Rich',\n",
       "     'last_name': 'Wheeless',\n",
       "     'permalink': 'rich-wheeless-mba'}},\n",
       "   {'is_past': False,\n",
       "    'title': 'Product Designer',\n",
       "    'person': {'first_name': 'Justin',\n",
       "     'last_name': 'Stahl',\n",
       "     'permalink': 'justin-stahl'}},\n",
       "   {'is_past': False,\n",
       "    'title': 'Director, Artificial Intelligence Lab',\n",
       "    'person': {'first_name': 'Yann',\n",
       "     'last_name': 'LeCun',\n",
       "     'permalink': 'yann-lecun'}},\n",
       "   {'is_past': False,\n",
       "    'title': 'Head of Intl BD & Strategy',\n",
       "    'person': {'first_name': 'Richard',\n",
       "     'last_name': 'Cooperstein',\n",
       "     'permalink': 'richard-cooperstein'}},\n",
       "   {'is_past': False,\n",
       "    'title': 'Board Of Directors',\n",
       "    'person': {'first_name': 'Peter',\n",
       "     'last_name': 'Thiel',\n",
       "     'permalink': 'peter-thiel'}},\n",
       "   {'is_past': False,\n",
       "    'title': 'Platform Program Manager',\n",
       "    'person': {'first_name': 'Sandra Liu',\n",
       "     'last_name': 'Huang',\n",
       "     'permalink': 'sandra-liu-huang'}},\n",
       "   {'is_past': False,\n",
       "    'title': 'Product Marketing Manager',\n",
       "    'person': {'first_name': 'Kent',\n",
       "     'last_name': 'Schoen',\n",
       "     'permalink': 'kent-schoen'}},\n",
       "   {'is_past': False,\n",
       "    'title': 'Product Designer',\n",
       "    'person': {'first_name': 'Bobby',\n",
       "     'last_name': 'Goodlatte',\n",
       "     'permalink': 'rob-goodlatte'}},\n",
       "   {'is_past': False,\n",
       "    'title': 'Board Observer/Investor',\n",
       "    'person': {'first_name': 'Paul',\n",
       "     'last_name': 'Madera',\n",
       "     'permalink': 'paul-madera'}},\n",
       "   {'is_past': False,\n",
       "    'title': 'Board member',\n",
       "    'person': {'first_name': 'Donald E.',\n",
       "     'last_name': 'Graham',\n",
       "     'permalink': 'donald-e-graham'}},\n",
       "   {'is_past': False,\n",
       "    'title': 'Engineering Manager',\n",
       "    'person': {'first_name': 'David',\n",
       "     'last_name': 'Recordon',\n",
       "     'permalink': 'david-recordon'}},\n",
       "   {'is_past': False,\n",
       "    'title': 'Director, Mobile',\n",
       "    'person': {'first_name': 'Jed',\n",
       "     'last_name': 'Stremel',\n",
       "     'permalink': 'jed-stremel'}},\n",
       "   {'is_past': False,\n",
       "    'title': 'Software Engineer',\n",
       "    'person': {'first_name': 'Eric',\n",
       "     'last_name': 'Faller',\n",
       "     'permalink': 'eric-faller'}},\n",
       "   {'is_past': False,\n",
       "    'title': 'Software Engineer',\n",
       "    'person': {'first_name': 'Beau',\n",
       "     'last_name': 'Hartshorne',\n",
       "     'permalink': 'beau-hartshorne'}},\n",
       "   {'is_past': False,\n",
       "    'title': 'Hacker',\n",
       "    'person': {'first_name': 'Paul',\n",
       "     'last_name': 'Tarjan',\n",
       "     'permalink': 'paul-tarjan'}},\n",
       "   {'is_past': False,\n",
       "    'title': 'Head of Mobile Products',\n",
       "    'person': {'first_name': 'Erick',\n",
       "     'last_name': 'Tseng',\n",
       "     'permalink': 'erick-tseng'}},\n",
       "   {'is_past': False,\n",
       "    'title': 'Software Engineer',\n",
       "    'person': {'first_name': 'Eugene',\n",
       "     'last_name': 'Letuchy',\n",
       "     'permalink': 'eugene-letuchy'}},\n",
       "   {'is_past': False,\n",
       "    'title': 'Engineer',\n",
       "    'person': {'first_name': 'Ömer Özgün',\n",
       "     'last_name': 'IŞIKMAN',\n",
       "     'permalink': 'mer-zgn-ikman'}},\n",
       "   {'is_past': False,\n",
       "    'title': 'Product Manager',\n",
       "    'person': {'first_name': 'Keith',\n",
       "     'last_name': 'Schacht',\n",
       "     'permalink': 'keith-schacht'}},\n",
       "   {'is_past': False,\n",
       "    'title': 'Corporate Development',\n",
       "    'person': {'first_name': 'Vaughan',\n",
       "     'last_name': 'Smith',\n",
       "     'permalink': 'vaughan-smith'}},\n",
       "   {'is_past': False,\n",
       "    'title': 'Product Manager',\n",
       "    'person': {'first_name': 'Antonio',\n",
       "     'last_name': 'Garcia-Martinez',\n",
       "     'permalink': 'antonio-garcia-martinez'}},\n",
       "   {'is_past': False,\n",
       "    'title': 'Board of Directors',\n",
       "    'person': {'first_name': 'Erskine',\n",
       "     'last_name': 'Bowles',\n",
       "     'permalink': 'erskine-bowles'}},\n",
       "   {'is_past': False,\n",
       "    'title': 'Director, Identity Product Group',\n",
       "    'person': {'first_name': 'Sam',\n",
       "     'last_name': 'Lessin',\n",
       "     'permalink': 'sam-lessin'}},\n",
       "   {'is_past': False,\n",
       "    'title': 'Product Designer',\n",
       "    'person': {'first_name': 'Koen',\n",
       "     'last_name': 'Bok',\n",
       "     'permalink': 'koen-bok'}},\n",
       "   {'is_past': False,\n",
       "    'title': 'Developer Relations',\n",
       "    'person': {'first_name': 'Charles',\n",
       "     'last_name': 'Dowd',\n",
       "     'permalink': 'charles-dowd'}},\n",
       "   {'is_past': False,\n",
       "    'title': 'Sales and Advertising',\n",
       "    'person': {'first_name': 'Brandon',\n",
       "     'last_name': 'Sayles',\n",
       "     'permalink': 'brandon-sayles'}},\n",
       "   {'is_past': False,\n",
       "    'title': 'Mobile Software Engineer',\n",
       "    'person': {'first_name': 'Brian',\n",
       "     'last_name': 'Amerige',\n",
       "     'permalink': 'brian-amerige'}},\n",
       "   {'is_past': False,\n",
       "    'title': 'Data scientist',\n",
       "    'person': {'first_name': 'Justin',\n",
       "     'last_name': 'Moore',\n",
       "     'permalink': 'justin-moore-2'}},\n",
       "   {'is_past': False,\n",
       "    'title': 'Product Manager, Mobile',\n",
       "    'person': {'first_name': 'Mick',\n",
       "     'last_name': 'Johnson',\n",
       "     'permalink': 'mick-johnson'}},\n",
       "   {'is_past': False,\n",
       "    'title': 'Product and Mobile Operations',\n",
       "    'person': {'first_name': 'Amber',\n",
       "     'last_name': 'Saloner Tennant',\n",
       "     'permalink': 'amber-saloner'}},\n",
       "   {'is_past': False,\n",
       "    'title': 'Media Solutions',\n",
       "    'person': {'first_name': 'Pablo',\n",
       "     'last_name': 'Gil',\n",
       "     'permalink': 'pablo-gil'}},\n",
       "   {'is_past': False,\n",
       "    'title': 'Product Designer',\n",
       "    'person': {'first_name': 'Keegan',\n",
       "     'last_name': 'Jones',\n",
       "     'permalink': 'keegan-jones'}},\n",
       "   {'is_past': False,\n",
       "    'title': 'Mobile Eng Manager',\n",
       "    'person': {'first_name': 'Phil',\n",
       "     'last_name': 'Fung',\n",
       "     'permalink': 'phil-fung'}},\n",
       "   {'is_past': False,\n",
       "    'title': 'Engineering Intern',\n",
       "    'person': {'first_name': 'Neeraj',\n",
       "     'last_name': 'Agrawal',\n",
       "     'permalink': 'neeraj-agrawal'}},\n",
       "   {'is_past': False,\n",
       "    'title': 'Member of Board of Directors',\n",
       "    'person': {'first_name': 'Reed',\n",
       "     'last_name': 'Hastings',\n",
       "     'permalink': 'reed-hastings'}},\n",
       "   {'is_past': False,\n",
       "    'title': 'Engineering Director',\n",
       "    'person': {'first_name': 'Matthew',\n",
       "     'last_name': 'Papakipos',\n",
       "     'permalink': 'matthew-papakipos'}},\n",
       "   {'is_past': False,\n",
       "    'title': 'Product Manager, Location & Events',\n",
       "    'person': {'first_name': 'Josh',\n",
       "     'last_name': 'Williams',\n",
       "     'permalink': 'josh-williams'}},\n",
       "   {'is_past': False,\n",
       "    'title': 'Engineering Manager',\n",
       "    'person': {'first_name': 'Blake',\n",
       "     'last_name': 'Matheny',\n",
       "     'permalink': 'blake-matheny'}},\n",
       "   {'is_past': False,\n",
       "    'title': 'Software Engineer',\n",
       "    'person': {'first_name': 'Joachim',\n",
       "     'last_name': 'De Lombaert',\n",
       "     'permalink': 'joachim-de-lombaert'}},\n",
       "   {'is_past': False,\n",
       "    'title': 'Software Engineer',\n",
       "    'person': {'first_name': 'Ben',\n",
       "     'last_name': 'Davenport',\n",
       "     'permalink': 'ben-davenport'}},\n",
       "   {'is_past': False,\n",
       "    'title': 'Group Director, Global Marketing Solutions',\n",
       "    'person': {'first_name': 'Ashley',\n",
       "     'last_name': 'Rutledge',\n",
       "     'permalink': 'ashley-rutledge'}},\n",
       "   {'is_past': False,\n",
       "    'title': 'Product Manager',\n",
       "    'person': {'first_name': 'Jonathan',\n",
       "     'last_name': 'Gheller',\n",
       "     'permalink': 'jonathan-gheller'}},\n",
       "   {'is_past': False,\n",
       "    'title': 'Product Manager',\n",
       "    'person': {'first_name': 'Greg',\n",
       "     'last_name': 'Whalin',\n",
       "     'permalink': 'greg-whalin'}},\n",
       "   {'is_past': False,\n",
       "    'title': 'Investor',\n",
       "    'person': {'first_name': 'Bob',\n",
       "     'last_name': 'Zangrillo',\n",
       "     'permalink': 'bob-zangrillo'}},\n",
       "   {'is_past': False,\n",
       "    'title': 'ads',\n",
       "    'person': {'first_name': 'Yoram',\n",
       "     'last_name': 'Talmor',\n",
       "     'permalink': 'yoram-talmor'}},\n",
       "   {'is_past': False,\n",
       "    'title': 'Head of Global Business Operations',\n",
       "    'person': {'first_name': 'Jeff',\n",
       "     'last_name': 'McCombs',\n",
       "     'permalink': 'jeff-mccombs'}},\n",
       "   {'is_past': False,\n",
       "    'title': 'Software Engineer',\n",
       "    'person': {'first_name': 'Benjamin',\n",
       "     'last_name': 'Cunningham',\n",
       "     'permalink': 'benjamin-cunningham'}},\n",
       "   {'is_past': False,\n",
       "    'title': 'User Interface Engineer',\n",
       "    'person': {'first_name': 'Stefano J',\n",
       "     'last_name': 'Attardi',\n",
       "     'permalink': 'stefano-attardi'}},\n",
       "   {'is_past': False,\n",
       "    'title': 'Software Engineer',\n",
       "    'person': {'first_name': 'Shashank',\n",
       "     'last_name': 'Pandit',\n",
       "     'permalink': 'shashank-pandit'}},\n",
       "   {'is_past': False,\n",
       "    'title': 'Director, University Recruiting',\n",
       "    'person': {'first_name': 'Adam',\n",
       "     'last_name': 'Ward',\n",
       "     'permalink': 'adam-ward-3'}},\n",
       "   {'is_past': False,\n",
       "    'title': 'Account Manager',\n",
       "    'person': {'first_name': 'Scott',\n",
       "     'last_name': 'Smith',\n",
       "     'permalink': 'scott-smith-7'}},\n",
       "   {'is_past': False,\n",
       "    'title': 'Director of Product Management',\n",
       "    'person': {'first_name': 'Douglas',\n",
       "     'last_name': 'Purdy',\n",
       "     'permalink': 'douglas-purdy'}},\n",
       "   {'is_past': False,\n",
       "    'title': 'Software Engineer',\n",
       "    'person': {'first_name': 'Stephen',\n",
       "     'last_name': 'Heise',\n",
       "     'permalink': 'stephen-heise'}},\n",
       "   {'is_past': False,\n",
       "    'title': 'Deputy Counsel',\n",
       "    'person': {'first_name': 'Ashlie',\n",
       "     'last_name': 'Beringer',\n",
       "     'permalink': 'ashlie-beringer'}},\n",
       "   {'is_past': False,\n",
       "    'title': 'Investor',\n",
       "    'person': {'first_name': 'Reid',\n",
       "     'last_name': 'Hoffman',\n",
       "     'permalink': 'reid-hoffman'}},\n",
       "   {'is_past': False,\n",
       "    'title': 'Head of Partner Engineering',\n",
       "    'person': {'first_name': 'Gareth',\n",
       "     'last_name': 'Morris',\n",
       "     'permalink': 'gareth-morris'}},\n",
       "   {'is_past': False,\n",
       "    'title': 'Manager, Product Design',\n",
       "    'person': {'first_name': 'Rob',\n",
       "     'last_name': 'Morris',\n",
       "     'permalink': 'rob-morris'}},\n",
       "   {'is_past': False,\n",
       "    'title': 'Head of Korea',\n",
       "    'person': {'first_name': 'Benjamin',\n",
       "     'last_name': 'Joe',\n",
       "     'permalink': 'benjamin-joe'}},\n",
       "   {'is_past': True,\n",
       "    'title': 'Co-Founder',\n",
       "    'person': {'first_name': 'Eduardo',\n",
       "     'last_name': 'Saverin',\n",
       "     'permalink': 'eduardo-saverin'}},\n",
       "   {'is_past': True,\n",
       "    'title': 'Co-Founder',\n",
       "    'person': {'first_name': 'Andrew',\n",
       "     'last_name': 'McCollum',\n",
       "     'permalink': 'andrew-mccollum'}},\n",
       "   {'is_past': True,\n",
       "    'title': 'Co-founder',\n",
       "    'person': {'first_name': 'Chris',\n",
       "     'last_name': 'Hughes',\n",
       "     'permalink': 'chris-hughes'}},\n",
       "   {'is_past': True,\n",
       "    'title': 'Co-Founder',\n",
       "    'person': {'first_name': 'Dustin',\n",
       "     'last_name': 'Moskovitz',\n",
       "     'permalink': 'dustin-moskovitz'}},\n",
       "   {'is_past': True,\n",
       "    'title': 'Chief Malware Researcher',\n",
       "    'person': {'first_name': 'Nick',\n",
       "     'last_name': 'Bilogorskiy',\n",
       "     'permalink': 'nick-bilogorskiy'}},\n",
       "   {'is_past': True,\n",
       "    'title': 'CTO',\n",
       "    'person': {'first_name': 'Bret',\n",
       "     'last_name': 'Taylor',\n",
       "     'permalink': 'bret-taylor'}},\n",
       "   {'is_past': True,\n",
       "    'title': 'CFO',\n",
       "    'person': {'first_name': 'Michael',\n",
       "     'last_name': 'Sheridan',\n",
       "     'permalink': 'michael-sheridan'}},\n",
       "   {'is_past': True,\n",
       "    'title': 'Chief Privacy Officer / Head of Global Public Policy',\n",
       "    'person': {'first_name': 'Chris',\n",
       "     'last_name': 'Kelly',\n",
       "     'permalink': 'chris-kelly'}},\n",
       "   {'is_past': True,\n",
       "    'title': 'CFO',\n",
       "    'person': {'first_name': 'Gideon',\n",
       "     'last_name': 'Yu',\n",
       "     'permalink': 'gideon-yu'}},\n",
       "   {'is_past': True,\n",
       "    'title': 'Chief Revenue Officer, VP of Operations',\n",
       "    'person': {'first_name': 'Owen',\n",
       "     'last_name': 'Van Natta',\n",
       "     'permalink': 'owen-van-natta'}},\n",
       "   {'is_past': True,\n",
       "    'title': 'VP of Sales, West Region',\n",
       "    'person': {'first_name': 'Paul',\n",
       "     'last_name': 'Ollinger',\n",
       "     'permalink': 'paul-ollinger'}},\n",
       "   {'is_past': True,\n",
       "    'title': 'VP Product Engineering',\n",
       "    'person': {'first_name': 'TS',\n",
       "     'last_name': 'Ramakrishnan',\n",
       "     'permalink': 'ts-ramakrishnan'}},\n",
       "   {'is_past': True,\n",
       "    'title': 'VP, General Counsel',\n",
       "    'person': {'first_name': 'Ted',\n",
       "     'last_name': 'Ullyot',\n",
       "     'permalink': 'ted-ullyot'}},\n",
       "   {'is_past': True,\n",
       "    'title': 'VP Global Sales',\n",
       "    'person': {'first_name': 'Mike',\n",
       "     'last_name': 'Murphy',\n",
       "     'permalink': 'mike-murphy'}},\n",
       "   {'is_past': True,\n",
       "    'title': 'VP Product',\n",
       "    'person': {'first_name': 'Doug',\n",
       "     'last_name': 'Hirsch',\n",
       "     'permalink': 'doug-hirsch'}},\n",
       "   {'is_past': True,\n",
       "    'title': 'VP Sales/Consultant',\n",
       "    'person': {'first_name': 'Vince',\n",
       "     'last_name': 'Thompson',\n",
       "     'permalink': 'vince-thompson'}},\n",
       "   {'is_past': True,\n",
       "    'title': 'VP of Technical Operations',\n",
       "    'person': {'first_name': 'Jonathan',\n",
       "     'last_name': 'Heiliger',\n",
       "     'permalink': 'jonathan-heiliger'}},\n",
       "   {'is_past': True,\n",
       "    'title': 'VP of Product Management',\n",
       "    'person': {'first_name': 'Matt',\n",
       "     'last_name': 'Cohler',\n",
       "     'permalink': 'matt-cohler'}},\n",
       "   {'is_past': True,\n",
       "    'title': 'VP of Growth, Mobile and International, VP of Platform and Product Marketing',\n",
       "    'person': {'first_name': 'Chamath',\n",
       "     'last_name': 'Palihapitiya',\n",
       "     'permalink': 'chamath-palihapitiya'}},\n",
       "   {'is_past': True,\n",
       "    'title': 'Senior Platform Manager',\n",
       "    'person': {'first_name': 'Dave',\n",
       "     'last_name': 'Morin',\n",
       "     'permalink': 'dave-morin'}},\n",
       "   {'is_past': True,\n",
       "    'title': 'Engineering Lead',\n",
       "    'person': {'first_name': 'Justin',\n",
       "     'last_name': 'Rosenstein',\n",
       "     'permalink': 'justin-rosenstein'}},\n",
       "   {'is_past': True,\n",
       "    'title': 'Observer to Board of Directors',\n",
       "    'person': {'first_name': 'David',\n",
       "     'last_name': 'Sze',\n",
       "     'permalink': 'david-sze'}},\n",
       "   {'is_past': True,\n",
       "    'title': 'General Counsel',\n",
       "    'person': {'first_name': 'Rudy',\n",
       "     'last_name': 'Gadre',\n",
       "     'permalink': 'rudy-gadre'}},\n",
       "   {'is_past': True,\n",
       "    'title': 'Product Development Manager',\n",
       "    'person': {'first_name': 'Noah',\n",
       "     'last_name': 'Kagan',\n",
       "     'permalink': 'noah-kagan'}},\n",
       "   {'is_past': True,\n",
       "    'title': 'Creative Director',\n",
       "    'person': {'first_name': 'Bryan',\n",
       "     'last_name': 'Veloso',\n",
       "     'permalink': 'bryan-veloso'}},\n",
       "   {'is_past': True,\n",
       "    'title': 'Developer Relations Manager',\n",
       "    'person': {'first_name': 'Ryan',\n",
       "     'last_name': 'Merket',\n",
       "     'permalink': 'ryan-merket'}},\n",
       "   {'is_past': True,\n",
       "    'title': 'Director, User Experience and Design',\n",
       "    'person': {'first_name': 'Katie',\n",
       "     'last_name': 'Geminder',\n",
       "     'permalink': 'katie-geminder'}},\n",
       "   {'is_past': True,\n",
       "    'title': 'Marketing',\n",
       "    'person': {'first_name': 'Jonathan',\n",
       "     'last_name': 'Ehrlich',\n",
       "     'permalink': 'jonathan-ehrlich'}},\n",
       "   {'is_past': True,\n",
       "    'title': 'Platform Program Manager',\n",
       "    'person': {'first_name': 'Josh',\n",
       "     'last_name': 'Elman',\n",
       "     'permalink': 'josh-elman'}},\n",
       "   {'is_past': True,\n",
       "    'title': 'Open Source and Web Standards Program Manager',\n",
       "    'person': {'first_name': 'Monica',\n",
       "     'last_name': 'Keller',\n",
       "     'permalink': 'monica-keller'}},\n",
       "   {'is_past': True,\n",
       "    'title': 'Designer',\n",
       "    'person': {'first_name': 'Soleio',\n",
       "     'last_name': 'Cuervo',\n",
       "     'permalink': 'soleio-cuervo'}},\n",
       "   {'is_past': True,\n",
       "    'title': 'Independent Contractor',\n",
       "    'person': {'first_name': 'Todd',\n",
       "     'last_name': 'McKinnon',\n",
       "     'permalink': 'todd-mckinnon'}},\n",
       "   {'is_past': True,\n",
       "    'title': 'Internationalization Growth',\n",
       "    'person': {'first_name': 'Benjamin',\n",
       "     'last_name': 'Joe',\n",
       "     'permalink': 'benjamin-joe'}},\n",
       "   {'is_past': True,\n",
       "    'title': 'Director of Media Sales',\n",
       "    'person': {'first_name': 'Dan',\n",
       "     'last_name': 'Coughlin',\n",
       "     'permalink': 'dan-coughlin'}},\n",
       "   {'is_past': True,\n",
       "    'title': 'Senior Product Designer',\n",
       "    'person': {'first_name': 'Kevin',\n",
       "     'last_name': 'Fox',\n",
       "     'permalink': 'kevin-fox'}},\n",
       "   {'is_past': True,\n",
       "    'title': 'Head of International Business Development',\n",
       "    'person': {'first_name': 'Christian',\n",
       "     'last_name': 'Hernandez',\n",
       "     'permalink': 'christian-hernandez'}},\n",
       "   {'is_past': True,\n",
       "    'title': 'Country Manager - Brazil',\n",
       "    'person': {'first_name': 'Julio',\n",
       "     'last_name': 'Vasconcellos',\n",
       "     'permalink': 'julio-vasconcellos'}},\n",
       "   {'is_past': True,\n",
       "    'title': 'Strategist',\n",
       "    'person': {'first_name': 'Benjamin',\n",
       "     'last_name': 'Joe',\n",
       "     'permalink': 'benjamin-joe'}},\n",
       "   {'is_past': True,\n",
       "    'title': 'Ad Operations Associate',\n",
       "    'person': {'first_name': 'Otilia',\n",
       "     'last_name': 'Otlacan',\n",
       "     'permalink': 'otilia-otlacan'}},\n",
       "   {'is_past': True,\n",
       "    'title': 'Consultant',\n",
       "    'person': {'first_name': 'Jim',\n",
       "     'last_name': 'Pitkow',\n",
       "     'permalink': 'jim-pitkow'}},\n",
       "   {'is_past': True,\n",
       "    'title': 'Software developer',\n",
       "    'person': {'first_name': 'Pooja',\n",
       "     'last_name': 'Sankar',\n",
       "     'permalink': 'pooja-sankar'}},\n",
       "   {'is_past': True,\n",
       "    'title': 'Product Manager Photos',\n",
       "    'person': {'first_name': 'Scott',\n",
       "     'last_name': 'Marlette',\n",
       "     'permalink': 'scott-marlette'}},\n",
       "   {'is_past': True,\n",
       "    'title': 'Tech Lead',\n",
       "    'person': {'first_name': 'Ding',\n",
       "     'last_name': 'Zhou',\n",
       "     'permalink': 'ding-zhou'}},\n",
       "   {'is_past': True,\n",
       "    'title': 'Director, Engineering',\n",
       "    'person': {'first_name': 'Yishan',\n",
       "     'last_name': 'Wong',\n",
       "     'permalink': 'yishan-wong'}},\n",
       "   {'is_past': True,\n",
       "    'title': 'Director of Engineering and Director of Developer Relations',\n",
       "    'person': {'first_name': 'Douglas',\n",
       "     'last_name': 'Purdy',\n",
       "     'permalink': 'douglas-purdy'}},\n",
       "   {'is_past': True,\n",
       "    'title': 'Product Manager',\n",
       "    'person': {'first_name': 'David',\n",
       "     'last_name': 'Chen',\n",
       "     'permalink': 'david-chen-6'}},\n",
       "   {'is_past': True,\n",
       "    'title': '',\n",
       "    'person': {'first_name': 'Franklyn',\n",
       "     'last_name': 'Chien',\n",
       "     'permalink': 'franklyn-chien'}},\n",
       "   {'is_past': True,\n",
       "    'title': 'Platform Operations MBA Intern',\n",
       "    'person': {'first_name': 'Ilan',\n",
       "     'last_name': 'Dee',\n",
       "     'permalink': 'ilan-dee'}},\n",
       "   {'is_past': True,\n",
       "    'title': 'Software Engineer / Manager',\n",
       "    'person': {'first_name': 'Luke',\n",
       "     'last_name': 'Shepard',\n",
       "     'permalink': 'luke-shepard'}},\n",
       "   {'is_past': True,\n",
       "    'title': 'Product Manager, Pages',\n",
       "    'person': {'first_name': 'Russ',\n",
       "     'last_name': 'Heddleston',\n",
       "     'permalink': 'russ-heddleston'}},\n",
       "   {'is_past': True,\n",
       "    'title': 'Software Engineer, Intern',\n",
       "    'person': {'first_name': 'Lukasz',\n",
       "     'last_name': 'Wiecek',\n",
       "     'permalink': 'lukasz-wiecek'}},\n",
       "   {'is_past': True,\n",
       "    'title': 'Mobile Platform Product Marketing',\n",
       "    'person': {'first_name': 'Jonathan',\n",
       "     'last_name': 'Matus',\n",
       "     'permalink': 'joanthan-matus'}},\n",
       "   {'is_past': True,\n",
       "    'title': 'Manager, Corporate Communications',\n",
       "    'person': {'first_name': 'Matt',\n",
       "     'last_name': 'Hicks',\n",
       "     'permalink': 'matt-hicks-2'}},\n",
       "   {'is_past': True,\n",
       "    'title': 'Global Partnership Lead',\n",
       "    'person': {'first_name': 'Kevin',\n",
       "     'last_name': 'Colleran',\n",
       "     'permalink': 'kevin-colleran'}},\n",
       "   {'is_past': True,\n",
       "    'title': 'Consumer Brand and Marketing Intern',\n",
       "    'person': {'first_name': 'Christopher',\n",
       "     'last_name': 'Lo',\n",
       "     'permalink': 'christopher-lo'}},\n",
       "   {'is_past': True,\n",
       "    'title': 'Designer',\n",
       "    'person': {'first_name': 'Adam',\n",
       "     'last_name': 'Michela',\n",
       "     'permalink': 'adam-michela'}},\n",
       "   {'is_past': True,\n",
       "    'title': '',\n",
       "    'person': {'first_name': 'Chad',\n",
       "     'last_name': 'Little',\n",
       "     'permalink': 'chad-little-2'}},\n",
       "   {'is_past': True,\n",
       "    'title': \"Led FB's Android Products\",\n",
       "    'person': {'first_name': 'Bubba',\n",
       "     'last_name': 'Murarka',\n",
       "     'permalink': 'bubba-murarka'}},\n",
       "   {'is_past': True,\n",
       "    'title': 'Sales Director',\n",
       "    'person': {'first_name': 'Bill',\n",
       "     'last_name': 'Masterson',\n",
       "     'permalink': 'bill-masterson-2'}},\n",
       "   {'is_past': True,\n",
       "    'title': 'core infrastructure systems',\n",
       "    'person': {'first_name': 'Nikita',\n",
       "     'last_name': 'Shamgunov',\n",
       "     'permalink': 'nikita-shamgunov'}},\n",
       "   {'is_past': True,\n",
       "    'title': 'Great Success',\n",
       "    'person': {'first_name': 'Joseph',\n",
       "     'last_name': 'Liu',\n",
       "     'permalink': 'joseph-liu'}},\n",
       "   {'is_past': True,\n",
       "    'title': 'random stuff',\n",
       "    'person': {'first_name': 'Adam',\n",
       "     'last_name': \"D'Angelo\",\n",
       "     'permalink': 'adam-d-angelo'}},\n",
       "   {'is_past': True,\n",
       "    'title': 'Director, Engineering',\n",
       "    'person': {'first_name': 'John',\n",
       "     'last_name': 'Hegeman',\n",
       "     'permalink': 'john-hegeman'}},\n",
       "   {'is_past': True,\n",
       "    'title': 'Software Engineer',\n",
       "    'person': {'first_name': 'Kevin',\n",
       "     'last_name': 'Der',\n",
       "     'permalink': 'kevin-der'}},\n",
       "   {'is_past': True,\n",
       "    'title': 'Director, Platform',\n",
       "    'person': {'first_name': 'Ben',\n",
       "     'last_name': 'Ling',\n",
       "     'permalink': 'ben-ling'}},\n",
       "   {'is_past': True,\n",
       "    'title': 'Internet Marketer - User Growth',\n",
       "    'person': {'first_name': 'Andy',\n",
       "     'last_name': 'Johns',\n",
       "     'permalink': 'andy-johns-2'}},\n",
       "   {'is_past': True,\n",
       "    'title': 'Engineer',\n",
       "    'person': {'first_name': 'Justin',\n",
       "     'last_name': 'Mitchell',\n",
       "     'permalink': 'justin-mitchell'}},\n",
       "   {'is_past': True,\n",
       "    'title': 'Strategy & Business Development',\n",
       "    'person': {'first_name': 'John',\n",
       "     'last_name': 'Henderson',\n",
       "     'permalink': 'john-henderson-2'}},\n",
       "   {'is_past': True,\n",
       "    'title': 'Engineer',\n",
       "    'person': {'first_name': 'Akhil',\n",
       "     'last_name': 'Wable',\n",
       "     'permalink': 'akhil-wable'}},\n",
       "   {'is_past': True,\n",
       "    'title': 'Site Reliability Engineer',\n",
       "    'person': {'first_name': 'Gavino',\n",
       "     'last_name': 'Felix',\n",
       "     'permalink': 'gavino-felix'}},\n",
       "   {'is_past': True,\n",
       "    'title': 'Production Engineer',\n",
       "    'person': {'first_name': 'Jeff',\n",
       "     'last_name': 'Zhifan Chen',\n",
       "     'permalink': 'jeff-zhifan-chen'}},\n",
       "   {'is_past': True,\n",
       "    'title': 'Communications Design',\n",
       "    'person': {'first_name': 'Micah',\n",
       "     'last_name': 'Kasman',\n",
       "     'permalink': 'micah-kasman'}},\n",
       "   {'is_past': True,\n",
       "    'title': 'Freelance Java/C# developer',\n",
       "    'person': {'first_name': 'Eugene',\n",
       "     'last_name': 'Retunsky',\n",
       "     'permalink': 'eugene-retunsky'}},\n",
       "   {'is_past': True,\n",
       "    'title': 'Platform & Consumer Marketing',\n",
       "    'person': {'first_name': 'Scott',\n",
       "     'last_name': 'Hartley',\n",
       "     'permalink': 'scott-hartley'}},\n",
       "   {'is_past': True,\n",
       "    'title': 'Board Member',\n",
       "    'person': {'first_name': 'Michael',\n",
       "     'last_name': 'Kenworthy',\n",
       "     'permalink': 'michael-kenworthy'}},\n",
       "   {'is_past': True,\n",
       "    'title': 'Director of Global Communications & Public Policy',\n",
       "    'person': {'first_name': 'Brandee',\n",
       "     'last_name': 'Barker',\n",
       "     'permalink': 'brandee-barker'}},\n",
       "   {'is_past': True,\n",
       "    'title': 'Corporate Counsel',\n",
       "    'person': {'first_name': 'Oliver',\n",
       "     'last_name': 'Louie',\n",
       "     'permalink': 'oliver-louie'}},\n",
       "   {'is_past': True,\n",
       "    'title': 'Deputy General Counsel',\n",
       "    'person': {'first_name': 'Colin',\n",
       "     'last_name': 'Stretch',\n",
       "     'permalink': 'colin-stretch'}},\n",
       "   {'is_past': True,\n",
       "    'title': 'Software Engineer',\n",
       "    'person': {'first_name': 'Greg',\n",
       "     'last_name': 'Methvin',\n",
       "     'permalink': 'greg-methvin'}},\n",
       "   {'is_past': True,\n",
       "    'title': '',\n",
       "    'person': {'first_name': 'Roger',\n",
       "     'last_name': 'Pavane',\n",
       "     'permalink': 'roger-pavane'}},\n",
       "   {'is_past': True,\n",
       "    'title': 'Manager, EMEA Gaming',\n",
       "    'person': {'first_name': 'Bruce',\n",
       "     'last_name': 'Bale',\n",
       "     'permalink': 'bruce-bale'}},\n",
       "   {'is_past': True,\n",
       "    'title': 'Product Designer',\n",
       "    'person': {'first_name': 'Rob',\n",
       "     'last_name': 'Morris',\n",
       "     'permalink': 'rob-morris'}},\n",
       "   {'is_past': True,\n",
       "    'title': 'Director, Corporate Communications',\n",
       "    'person': {'first_name': 'Larry',\n",
       "     'last_name': 'Yu',\n",
       "     'permalink': 'larry-yu'}},\n",
       "   {'is_past': True,\n",
       "    'title': 'CTO',\n",
       "    'person': {'first_name': 'Adam',\n",
       "     'last_name': \"D'Angelo\",\n",
       "     'permalink': 'adam-d-angelo'}},\n",
       "   {'is_past': True,\n",
       "    'title': 'Director of Platform Partnerships',\n",
       "    'person': {'first_name': 'Ethan',\n",
       "     'last_name': 'Beard',\n",
       "     'permalink': 'ethan-beard'}},\n",
       "   {'is_past': True,\n",
       "    'title': 'Product Lead for Facebook Platform',\n",
       "    'person': {'first_name': 'Ruchi',\n",
       "     'last_name': 'Sanghvi',\n",
       "     'permalink': 'ruchi-sanghvi'}},\n",
       "   {'is_past': True,\n",
       "    'title': 'President & Board Member',\n",
       "    'person': {'first_name': 'Sean',\n",
       "     'last_name': 'Parker',\n",
       "     'permalink': 'sean-parker'}},\n",
       "   {'is_past': True,\n",
       "    'title': 'Manager, Data',\n",
       "    'person': {'first_name': 'Jeff',\n",
       "     'last_name': 'Hammerbacher',\n",
       "     'permalink': 'jeff-hammerbacher'}},\n",
       "   {'is_past': True,\n",
       "    'title': 'Product Designer',\n",
       "    'person': {'first_name': 'Eston',\n",
       "     'last_name': 'Bond',\n",
       "     'permalink': 'eston-bond'}},\n",
       "   {'is_past': True,\n",
       "    'title': 'Interaction Designer',\n",
       "    'person': {'first_name': 'Bryan',\n",
       "     'last_name': 'Veloso',\n",
       "     'permalink': 'bryan-veloso'}},\n",
       "   {'is_past': True,\n",
       "    'title': 'Software Engineer',\n",
       "    'person': {'first_name': 'Joe',\n",
       "     'last_name': 'Hewitt',\n",
       "     'permalink': 'joe-hewitt'}},\n",
       "   {'is_past': True,\n",
       "    'title': 'Software Engineer',\n",
       "    'person': {'first_name': 'Ivan',\n",
       "     'last_name': 'Kirigin',\n",
       "     'permalink': 'ivan-kirigin'}},\n",
       "   {'is_past': True,\n",
       "    'title': 'Director of Engineering',\n",
       "    'person': {'first_name': 'Aditya',\n",
       "     'last_name': 'Agarwal',\n",
       "     'permalink': 'aditya-agarwal'}},\n",
       "   {'is_past': True,\n",
       "    'title': 'Advisor',\n",
       "    'person': {'first_name': 'Hadi',\n",
       "     'last_name': 'Partovi',\n",
       "     'permalink': 'hadi-partovi'}},\n",
       "   {'is_past': True,\n",
       "    'title': 'Software Engineer',\n",
       "    'person': {'first_name': 'Ari',\n",
       "     'last_name': 'Steinberg',\n",
       "     'permalink': 'ari-steinberg'}},\n",
       "   {'is_past': True,\n",
       "    'title': 'Director of Engineering',\n",
       "    'person': {'first_name': 'Robert Carlton',\n",
       "     'last_name': 'Johnson',\n",
       "     'permalink': 'robert-carlton-johnson'}},\n",
       "   {'is_past': True,\n",
       "    'title': 'Advisor',\n",
       "    'person': {'first_name': 'Karl',\n",
       "     'last_name': 'Jacob',\n",
       "     'permalink': 'karl-jacob'}},\n",
       "   {'is_past': True,\n",
       "    'title': 'Director, International Business Development',\n",
       "    'person': {'first_name': 'Net',\n",
       "     'last_name': 'Jacobsson',\n",
       "     'permalink': 'net-jacobsson'}},\n",
       "   {'is_past': True,\n",
       "    'title': 'Manager Corporate Development',\n",
       "    'person': {'first_name': 'Michael',\n",
       "     'last_name': 'Brown',\n",
       "     'permalink': 'michael-brown-4'}},\n",
       "   {'is_past': True,\n",
       "    'title': 'Director, Media Sales',\n",
       "    'person': {'first_name': 'Steve',\n",
       "     'last_name': 'King',\n",
       "     'permalink': 'steve-king'}},\n",
       "   {'is_past': True,\n",
       "    'title': 'Product Manager',\n",
       "    'person': {'first_name': 'Paul',\n",
       "     'last_name': 'Adams',\n",
       "     'permalink': 'paul-adams'}},\n",
       "   {'is_past': True,\n",
       "    'title': 'Software Engineer',\n",
       "    'person': {'first_name': 'Anhang',\n",
       "     'last_name': 'Zhu',\n",
       "     'permalink': 'anhang-zhu'}},\n",
       "   {'is_past': True,\n",
       "    'title': 'Software Engineer',\n",
       "    'person': {'first_name': 'Mike',\n",
       "     'last_name': 'Bohlander',\n",
       "     'permalink': 'mike-bohlander'}},\n",
       "   {'is_past': True,\n",
       "    'title': 'Director, Finance',\n",
       "    'person': {'first_name': 'Steven',\n",
       "     'last_name': 'Trieu',\n",
       "     'permalink': 'steven-trieu'}},\n",
       "   {'is_past': True,\n",
       "    'title': 'Dir of Platform Partnerships, Asia-Pacific/Japan',\n",
       "    'person': {'first_name': 'Alexander',\n",
       "     'last_name': 'Kleinberg',\n",
       "     'permalink': 'alexander-kleinberg'}},\n",
       "   {'is_past': True,\n",
       "    'title': 'Mobile',\n",
       "    'person': {'first_name': 'Charles',\n",
       "     'last_name': 'Jolley',\n",
       "     'permalink': 'charles-jolley'}},\n",
       "   {'is_past': True,\n",
       "    'title': 'Business Development, Mobile',\n",
       "    'person': {'first_name': 'Alison',\n",
       "     'last_name': 'Rosenthal',\n",
       "     'permalink': 'alison-rosenthal'}},\n",
       "   {'is_past': True,\n",
       "    'title': 'Software Engineer',\n",
       "    'person': {'first_name': 'Rushi',\n",
       "     'last_name': 'Desai',\n",
       "     'permalink': 'rushi-desai'}},\n",
       "   {'is_past': True,\n",
       "    'title': 'IT Specialist',\n",
       "    'person': {'first_name': 'Taz',\n",
       "     'last_name': 'Ryder',\n",
       "     'permalink': 'taz-ryder'}},\n",
       "   {'is_past': True,\n",
       "    'title': 'Software Engineer',\n",
       "    'person': {'first_name': 'Makinde',\n",
       "     'last_name': 'Adeagbo',\n",
       "     'permalink': 'makinde-adeagbo'}},\n",
       "   {'is_past': True,\n",
       "    'title': '',\n",
       "    'person': {'first_name': 'Katherine',\n",
       "     'last_name': 'Losse',\n",
       "     'permalink': 'katherine-losse'}},\n",
       "   {'is_past': True,\n",
       "    'title': 'Sr. International University Recruiter',\n",
       "    'person': {'first_name': 'Kinh',\n",
       "     'last_name': 'DeMaree',\n",
       "     'permalink': 'kinh-demaree'}},\n",
       "   {'is_past': True,\n",
       "    'title': 'Investor',\n",
       "    'person': {'first_name': 'Klaus',\n",
       "     'last_name': 'Hommels',\n",
       "     'permalink': 'klaus-hommels'}},\n",
       "   {'is_past': True,\n",
       "    'title': 'All things Operations',\n",
       "    'person': {'first_name': 'Taner',\n",
       "     'last_name': 'Halicioglu',\n",
       "     'permalink': 'taner-halicioglu'}},\n",
       "   {'is_past': True,\n",
       "    'title': 'Head of Global SMB Marketing',\n",
       "    'person': {'first_name': 'Chris',\n",
       "     'last_name': 'Luo',\n",
       "     'permalink': 'chris-luo'}},\n",
       "   {'is_past': True,\n",
       "    'title': 'SMB Marketing Manager',\n",
       "    'person': {'first_name': 'Durgesh',\n",
       "     'last_name': 'Kaushik',\n",
       "     'permalink': 'durgesh-kaushik'}},\n",
       "   {'is_past': True,\n",
       "    'title': 'Product Director, Ads',\n",
       "    'person': {'first_name': 'Gokul',\n",
       "     'last_name': 'Rajaram',\n",
       "     'permalink': 'gokul-rajaram'}},\n",
       "   {'is_past': True,\n",
       "    'title': 'Product Manager',\n",
       "    'person': {'first_name': 'David',\n",
       "     'last_name': 'Breger',\n",
       "     'permalink': 'david-breger'}},\n",
       "   {'is_past': True,\n",
       "    'title': 'Software Engineer',\n",
       "    'person': {'first_name': 'Darian',\n",
       "     'last_name': 'Shirazi',\n",
       "     'permalink': 'darian-shirazi'}},\n",
       "   {'is_past': True,\n",
       "    'title': 'Analyst, writer and project manager',\n",
       "    'person': {'first_name': 'Susana',\n",
       "     'last_name': 'Montes',\n",
       "     'permalink': 'susana-montes'}},\n",
       "   {'is_past': True,\n",
       "    'title': 'Software Engineer',\n",
       "    'person': {'first_name': 'Conor',\n",
       "     'last_name': 'Dickinson',\n",
       "     'permalink': 'conor-dickinson'}},\n",
       "   {'is_past': True,\n",
       "    'title': 'Product Management',\n",
       "    'person': {'first_name': 'Sergei',\n",
       "     'last_name': 'Sorokin',\n",
       "     'permalink': 'sergei-sorokin'}},\n",
       "   {'is_past': True,\n",
       "    'title': '',\n",
       "    'person': {'first_name': 'Ankur',\n",
       "     'last_name': 'Pansari',\n",
       "     'permalink': 'ankur-pansari'}},\n",
       "   {'is_past': True,\n",
       "    'title': 'Partner Engineer',\n",
       "    'person': {'first_name': 'Eric',\n",
       "     'last_name': 'Frenkiel',\n",
       "     'permalink': 'eric-frenkiel'}},\n",
       "   {'is_past': True,\n",
       "    'title': 'Head of International Growth',\n",
       "    'person': {'first_name': 'Ed',\n",
       "     'last_name': 'Baker',\n",
       "     'permalink': 'ed-baker'}},\n",
       "   {'is_past': True,\n",
       "    'title': 'Sales Director - Partnerships and Marketing',\n",
       "    'person': {'first_name': 'Peter',\n",
       "     'last_name': 'Yewell',\n",
       "     'permalink': 'peter-yewell'}},\n",
       "   {'is_past': True,\n",
       "    'title': 'Software Engineering Manager',\n",
       "    'person': {'first_name': 'Charlie',\n",
       "     'last_name': 'Cheever',\n",
       "     'permalink': 'charlie-cheever'}},\n",
       "   {'is_past': True,\n",
       "    'title': 'Product Design Lead',\n",
       "    'person': {'first_name': 'Rebekah',\n",
       "     'last_name': 'Cox',\n",
       "     'permalink': 'rebekah-cox'}},\n",
       "   {'is_past': True,\n",
       "    'title': 'Search Engineer',\n",
       "    'person': {'first_name': 'Albert',\n",
       "     'last_name': 'Sheu',\n",
       "     'permalink': 'albert-sheu'}},\n",
       "   {'is_past': True,\n",
       "    'title': 'Senior Director Search Products and Local Business Products',\n",
       "    'person': {'first_name': 'Ben',\n",
       "     'last_name': 'Ling',\n",
       "     'permalink': 'ben-ling'}},\n",
       "   {'is_past': True,\n",
       "    'title': 'Photos and Video Engineering Manager',\n",
       "    'person': {'first_name': 'Justin',\n",
       "     'last_name': 'Mitchell',\n",
       "     'permalink': 'justin-mitchell'}},\n",
       "   {'is_past': True,\n",
       "    'title': 'Product Manager',\n",
       "    'person': {'first_name': 'Dan',\n",
       "     'last_name': 'Hsiao',\n",
       "     'permalink': 'dan-hsiao'}},\n",
       "   {'is_past': True,\n",
       "    'title': 'Regional Director',\n",
       "    'person': {'first_name': 'Diego',\n",
       "     'last_name': 'Oliva',\n",
       "     'permalink': 'diego-oliva'}},\n",
       "   {'is_past': True,\n",
       "    'title': 'Payments Partnerships & Mobile Payments',\n",
       "    'person': {'first_name': 'Dmitry',\n",
       "     'last_name': 'Shevelenko',\n",
       "     'permalink': 'dmitry-shevelenko'}},\n",
       "   {'is_past': True,\n",
       "    'title': 'Business Operations Associate/Principal, User Operations',\n",
       "    'person': {'first_name': 'Kathleen',\n",
       "     'last_name': 'Pedersen',\n",
       "     'permalink': 'kathleen-pedersen'}},\n",
       "   {'is_past': True,\n",
       "    'title': 'Business Operations - Program Manager',\n",
       "    'person': {'first_name': 'Michael',\n",
       "     'last_name': 'Teng',\n",
       "     'permalink': 'michael-teng'}},\n",
       "   {'is_past': True,\n",
       "    'title': 'Account Specialist - Associate',\n",
       "    'person': {'first_name': 'Lorry',\n",
       "     'last_name': 'Destainville',\n",
       "     'permalink': 'lorry-destainville'}},\n",
       "   {'is_past': True,\n",
       "    'title': 'Summer Intern',\n",
       "    'person': {'first_name': 'Pat',\n",
       "     'last_name': 'Noonan',\n",
       "     'permalink': 'pat-noonan'}},\n",
       "   {'is_past': True,\n",
       "    'title': 'Software Engineer',\n",
       "    'person': {'first_name': 'Jonathan',\n",
       "     'last_name': 'Pines',\n",
       "     'permalink': 'jonathan-pines'}},\n",
       "   {'is_past': True,\n",
       "    'title': 'Director of Operations',\n",
       "    'person': {'first_name': 'Nick',\n",
       "     'last_name': 'Heyman',\n",
       "     'permalink': 'nick-heyman'}},\n",
       "   {'is_past': True,\n",
       "    'title': 'Software Engineer',\n",
       "    'person': {'first_name': 'Brent',\n",
       "     'last_name': 'Goldman',\n",
       "     'permalink': 'brent-goldman'}},\n",
       "   {'is_past': True,\n",
       "    'title': 'Growth Manager',\n",
       "    'person': {'first_name': 'Ilya',\n",
       "     'last_name': 'Gindin',\n",
       "     'permalink': 'ilya-gindin'}},\n",
       "   {'is_past': True,\n",
       "    'title': 'Manager of Data Science and Analytics',\n",
       "    'person': {'first_name': 'Mohammad',\n",
       "     'last_name': 'Sabah',\n",
       "     'permalink': 'mohammad-sabah'}},\n",
       "   {'is_past': True,\n",
       "    'title': 'Data Analyst',\n",
       "    'person': {'first_name': 'Derek',\n",
       "     'last_name': 'Steer',\n",
       "     'permalink': 'derek-steer'}},\n",
       "   {'is_past': True,\n",
       "    'title': 'Product Manager',\n",
       "    'person': {'first_name': 'Todd',\n",
       "     'last_name': 'Jackson',\n",
       "     'permalink': 'todd-jackson'}},\n",
       "   {'is_past': True,\n",
       "    'title': 'Global Marketing Solutions',\n",
       "    'person': {'first_name': 'Miriam',\n",
       "     'last_name': 'Grut Norrby',\n",
       "     'permalink': 'miriam-grut-norrby'}},\n",
       "   {'is_past': True,\n",
       "    'title': '',\n",
       "    'person': {'first_name': 'Jon',\n",
       "     'last_name': 'Rodriguez',\n",
       "     'permalink': 'jon-rodriguez'}},\n",
       "   {'is_past': True,\n",
       "    'title': 'Head of Mobile Partnerships, Asia',\n",
       "    'person': {'first_name': 'Alon',\n",
       "     'last_name': 'Sobol',\n",
       "     'permalink': 'alon-sobol'}}],\n",
       "  'competitions': [{'competitor': {'name': 'MySpace', 'permalink': 'myspace'}},\n",
       "   {'competitor': {'name': 'Friendster', 'permalink': 'friendster'}},\n",
       "   {'competitor': {'name': 'Slide', 'permalink': 'slide'}},\n",
       "   {'competitor': {'name': 'Zvents', 'permalink': 'zvents'}},\n",
       "   {'competitor': {'name': 'FriendFeed', 'permalink': 'friendfeed'}},\n",
       "   {'competitor': {'name': 'hi5', 'permalink': 'hi5'}},\n",
       "   {'competitor': {'name': 'Flickr', 'permalink': 'flickr'}},\n",
       "   {'competitor': {'name': 'Bebo', 'permalink': 'bebo'}},\n",
       "   {'competitor': {'name': 'AOL', 'permalink': 'aol'}},\n",
       "   {'competitor': {'name': 'CityIN', 'permalink': 'cityin'}},\n",
       "   {'competitor': {'name': 'Tagged', 'permalink': 'tagged'}},\n",
       "   {'competitor': {'name': 'VK.com', 'permalink': 'vk'}},\n",
       "   {'competitor': {'name': 'tymr', 'permalink': 'tymr'}},\n",
       "   {'competitor': {'name': 'Compass (by Hugleberry Corp.)',\n",
       "     'permalink': 'hugleberry'}}],\n",
       "  'providerships': [{'title': '',\n",
       "    'is_past': False,\n",
       "    'provider': {'name': 'The OutCast Agency',\n",
       "     'permalink': 'outcast-communications'}},\n",
       "   {'title': 'Public Relations',\n",
       "    'is_past': True,\n",
       "    'provider': {'name': 'Blanc & Otus', 'permalink': 'blanc-otus'}},\n",
       "   {'title': '',\n",
       "    'is_past': False,\n",
       "    'provider': {'name': 'GTT', 'permalink': 'gtt'}},\n",
       "   {'title': 'Video Production',\n",
       "    'is_past': False,\n",
       "    'provider': {'name': 'Transvideo Studios',\n",
       "     'permalink': 'transvideo-studios'}},\n",
       "   {'title': 'France',\n",
       "    'is_past': True,\n",
       "    'provider': {'name': 'Ballou PR', 'permalink': 'ballou-pr'}},\n",
       "   {'title': 'Legal',\n",
       "    'is_past': False,\n",
       "    'provider': {'name': 'Cooley LLP',\n",
       "     'permalink': 'cooley-godward-kronish-llp'}},\n",
       "   {'title': '',\n",
       "    'is_past': False,\n",
       "    'provider': {'name': 'The Local Data Company',\n",
       "     'permalink': 'the-local-data-company'}},\n",
       "   {'title': 'Legal',\n",
       "    'is_past': False,\n",
       "    'provider': {'name': 'Baker & McKenzie', 'permalink': 'baker-mckenzie'}},\n",
       "   {'title': 'Patent Counsel',\n",
       "    'is_past': False,\n",
       "    'provider': {'name': 'Schox Patent Group', 'permalink': 'schox-plc'}},\n",
       "   {'title': 'Graphic Design Projects',\n",
       "    'is_past': False,\n",
       "    'provider': {'name': 'Kasman Design', 'permalink': 'kasman-design'}}],\n",
       "  'total_money_raised': '$2.43B',\n",
       "  'funding_rounds': [{'id': 2,\n",
       "    'round_code': 'angel',\n",
       "    'source_url': '',\n",
       "    'source_description': '',\n",
       "    'raised_amount': 500000,\n",
       "    'raised_currency_code': 'USD',\n",
       "    'funded_year': 2004,\n",
       "    'funded_month': 9,\n",
       "    'funded_day': 1,\n",
       "    'investments': [{'company': None,\n",
       "      'financial_org': None,\n",
       "      'person': {'first_name': 'Peter',\n",
       "       'last_name': 'Thiel',\n",
       "       'permalink': 'peter-thiel'}},\n",
       "     {'company': None,\n",
       "      'financial_org': None,\n",
       "      'person': {'first_name': 'Reid',\n",
       "       'last_name': 'Hoffman',\n",
       "       'permalink': 'reid-hoffman'}}]},\n",
       "   {'id': 3,\n",
       "    'round_code': 'a',\n",
       "    'source_url': 'http://www.techcrunch.com/2007/11/02/jim-breyer-extra-500-million-round-for-facebook-a-total-fiction/',\n",
       "    'source_description': 'Jim Breyer: Extra $500 Million Round For Facebook A \"Total Fiction\"',\n",
       "    'raised_amount': 12700000,\n",
       "    'raised_currency_code': 'USD',\n",
       "    'funded_year': 2005,\n",
       "    'funded_month': 5,\n",
       "    'funded_day': 1,\n",
       "    'investments': [{'company': None,\n",
       "      'financial_org': {'name': 'Accel Partners',\n",
       "       'permalink': 'accel-partners'},\n",
       "      'person': None},\n",
       "     {'company': None,\n",
       "      'financial_org': None,\n",
       "      'person': {'first_name': 'Mark',\n",
       "       'last_name': 'Pincus',\n",
       "       'permalink': 'mark-pincus'}},\n",
       "     {'company': None,\n",
       "      'financial_org': None,\n",
       "      'person': {'first_name': 'Reid',\n",
       "       'last_name': 'Hoffman',\n",
       "       'permalink': 'reid-hoffman'}}]},\n",
       "   {'id': 4,\n",
       "    'round_code': 'b',\n",
       "    'source_url': 'http://www.facebook.com/press/info.php?factsheet',\n",
       "    'source_description': 'Facebook Funding',\n",
       "    'raised_amount': 27500000,\n",
       "    'raised_currency_code': 'USD',\n",
       "    'funded_year': 2006,\n",
       "    'funded_month': 4,\n",
       "    'funded_day': 1,\n",
       "    'investments': [{'company': None,\n",
       "      'financial_org': {'name': 'Greylock Partners', 'permalink': 'greylock'},\n",
       "      'person': None},\n",
       "     {'company': None,\n",
       "      'financial_org': {'name': 'Meritech Capital Partners',\n",
       "       'permalink': 'meritech-capital-partners'},\n",
       "      'person': None},\n",
       "     {'company': None,\n",
       "      'financial_org': {'name': 'Founders Fund', 'permalink': 'founders-fund'},\n",
       "      'person': None},\n",
       "     {'company': None,\n",
       "      'financial_org': {'name': 'SV Angel', 'permalink': 'sv-angel'},\n",
       "      'person': None}]},\n",
       "   {'id': 798,\n",
       "    'round_code': 'c',\n",
       "    'source_url': 'http://www.microsoft.com/en-us/news/press/2007/oct07/10-24FacebookPR.aspx',\n",
       "    'source_description': 'Facebook and Microsoft Expand Strategic Alliance',\n",
       "    'raised_amount': 240000000,\n",
       "    'raised_currency_code': 'USD',\n",
       "    'funded_year': 2007,\n",
       "    'funded_month': 10,\n",
       "    'funded_day': 24,\n",
       "    'investments': [{'company': {'name': 'Microsoft',\n",
       "       'permalink': 'microsoft'},\n",
       "      'financial_org': None,\n",
       "      'person': None}]},\n",
       "   {'id': 1894,\n",
       "    'round_code': 'c',\n",
       "    'source_url': 'http://venturebeat.com/2007/11/30/facebook-gets-60m-from-hong-kong-billionaire-li-ka-shing/',\n",
       "    'source_description': 'Facebook gets $60M from Hong Kong billionaire Li Ka-shing',\n",
       "    'raised_amount': 60000000,\n",
       "    'raised_currency_code': 'USD',\n",
       "    'funded_year': 2007,\n",
       "    'funded_month': 11,\n",
       "    'funded_day': 30,\n",
       "    'investments': [{'company': None,\n",
       "      'financial_org': None,\n",
       "      'person': {'first_name': 'Li',\n",
       "       'last_name': 'Ka-shing',\n",
       "       'permalink': 'li-ka-shing'}},\n",
       "     {'company': None,\n",
       "      'financial_org': {'name': 'Horizons Ventures',\n",
       "       'permalink': 'horizons-ventures'},\n",
       "      'person': None}]},\n",
       "   {'id': 2197,\n",
       "    'round_code': 'c',\n",
       "    'source_url': 'http://www.techcrunch.com/2008/01/15/breaking-samwer-brothers-invest-in-facebook/',\n",
       "    'source_description': '',\n",
       "    'raised_amount': 15000000,\n",
       "    'raised_currency_code': 'USD',\n",
       "    'funded_year': 2008,\n",
       "    'funded_month': 1,\n",
       "    'funded_day': 15,\n",
       "    'investments': [{'company': None,\n",
       "      'financial_org': {'name': 'European Founders Fund',\n",
       "       'permalink': 'european-founders-fund'},\n",
       "      'person': None}]},\n",
       "   {'id': 2225,\n",
       "    'round_code': 'debt_round',\n",
       "    'source_url': 'http://www.businessweek.com/technology/content/may2008/tc2008059_855064.htm',\n",
       "    'source_description': '',\n",
       "    'raised_amount': 100000000,\n",
       "    'raised_currency_code': 'USD',\n",
       "    'funded_year': 2008,\n",
       "    'funded_month': 5,\n",
       "    'funded_day': 1,\n",
       "    'investments': [{'company': None,\n",
       "      'financial_org': {'name': 'TriplePoint Capital',\n",
       "       'permalink': 'triplepoint-capital'},\n",
       "      'person': None}]},\n",
       "   {'id': 4587,\n",
       "    'round_code': 'c',\n",
       "    'source_url': 'http://www.paidcontent.org/entry/419-facebook-investor-li-ka-shing-increasing-stake-in-facebook/',\n",
       "    'source_description': 'Updated: Facebook Investor Li Ka-Shing Upping Stake To $120 Million: Report',\n",
       "    'raised_amount': 60000000,\n",
       "    'raised_currency_code': 'USD',\n",
       "    'funded_year': 2008,\n",
       "    'funded_month': 3,\n",
       "    'funded_day': 27,\n",
       "    'investments': [{'company': None,\n",
       "      'financial_org': None,\n",
       "      'person': {'first_name': 'Li',\n",
       "       'last_name': 'Ka-shing',\n",
       "       'permalink': 'li-ka-shing'}},\n",
       "     {'company': None,\n",
       "      'financial_org': {'name': 'Horizons Ventures',\n",
       "       'permalink': 'horizons-ventures'},\n",
       "      'person': None}]},\n",
       "   {'id': 6133,\n",
       "    'round_code': 'd',\n",
       "    'source_url': 'http://www.techcrunch.com/2009/05/26/facebook-takes-that-200-million-investment-from-the-russians-at-a-10-billion-valuation/',\n",
       "    'source_description': 'Facebook Takes That $200 Million Investment From The Russians At A $10 Billion Valuation.',\n",
       "    'raised_amount': 200000000,\n",
       "    'raised_currency_code': 'USD',\n",
       "    'funded_year': 2009,\n",
       "    'funded_month': 5,\n",
       "    'funded_day': 26,\n",
       "    'investments': [{'company': None,\n",
       "      'financial_org': {'name': 'Digital Sky Technologies',\n",
       "       'permalink': 'digital-sky-technologies-fo'},\n",
       "      'person': None}]},\n",
       "   {'id': 16477,\n",
       "    'round_code': 'unattributed',\n",
       "    'source_url': 'http://techcrunch.com/2010/06/28/elevation-invests-another-120-million-in-facebook-as-that-ipo-looks-more-distant/',\n",
       "    'source_description': 'Elevation Invests Another $120 Million in Facebook as that IPO Looks More Distant',\n",
       "    'raised_amount': 210000000,\n",
       "    'raised_currency_code': 'USD',\n",
       "    'funded_year': 2010,\n",
       "    'funded_month': 6,\n",
       "    'funded_day': 28,\n",
       "    'investments': [{'company': None,\n",
       "      'financial_org': {'name': 'Elevation Partners',\n",
       "       'permalink': 'elevation-partners'},\n",
       "      'person': None}]},\n",
       "   {'id': 21081,\n",
       "    'round_code': 'unattributed',\n",
       "    'source_url': 'http://www.prnewswire.com/news-releases/facebook-raises-15-billion-114383494.html',\n",
       "    'source_description': 'Facebook Raises $1.5 Billion',\n",
       "    'raised_amount': 1500000000,\n",
       "    'raised_currency_code': 'USD',\n",
       "    'funded_year': 2011,\n",
       "    'funded_month': 1,\n",
       "    'funded_day': 21,\n",
       "    'investments': [{'company': None,\n",
       "      'financial_org': {'name': 'Goldman Sachs', 'permalink': 'goldman-sachs'},\n",
       "      'person': None},\n",
       "     {'company': None,\n",
       "      'financial_org': {'name': 'Digital Sky Technologies',\n",
       "       'permalink': 'digital-sky-technologies-fo'},\n",
       "      'person': None}]}],\n",
       "  'investments': [{'funding_round': {'round_code': 'seed',\n",
       "     'source_url': 'http://www.marlenevergaraborquez.com/press/releases.php?p=48242',\n",
       "     'source_description': 'fbFund',\n",
       "     'raised_amount': 350000,\n",
       "     'raised_currency_code': 'USD',\n",
       "     'funded_year': 2009,\n",
       "     'funded_month': 2,\n",
       "     'funded_day': 20,\n",
       "     'company': {'name': 'LuckyCal', 'permalink': 'luckycal'}}},\n",
       "   {'funding_round': {'round_code': 'grant',\n",
       "     'source_url': '',\n",
       "     'source_description': '',\n",
       "     'raised_amount': None,\n",
       "     'raised_currency_code': 'USD',\n",
       "     'funded_year': 2008,\n",
       "     'funded_month': 12,\n",
       "     'funded_day': 1,\n",
       "     'company': {'name': 'Wildfire, a division of Google',\n",
       "      'permalink': 'wildfire-interactive'}}},\n",
       "   {'funding_round': {'round_code': 'seed',\n",
       "     'source_url': 'http://www.finsmes.com/2013/11/frontier-foods-raises-1-7m-seed-funding.html',\n",
       "     'source_description': 'New Frontier Foods Raises $1.7M in First Seed Funding',\n",
       "     'raised_amount': 1700000,\n",
       "     'raised_currency_code': 'USD',\n",
       "     'funded_year': 2013,\n",
       "     'funded_month': 11,\n",
       "     'funded_day': 12,\n",
       "     'company': {'name': 'Oceanshalo', 'permalink': 'oceanshalo-2'}}}],\n",
       "  'acquisition': None,\n",
       "  'acquisitions': [{'price_amount': None,\n",
       "    'price_currency_code': 'USD',\n",
       "    'term_code': 'cash',\n",
       "    'source_url': 'http://www.techcrunch.com/2007/07/19/breaking-facebook-has-acquired-parakey/',\n",
       "    'source_description': '',\n",
       "    'acquired_year': 2007,\n",
       "    'acquired_month': 7,\n",
       "    'acquired_day': 1,\n",
       "    'company': {'name': 'Parakey', 'permalink': 'parakey'}},\n",
       "   {'price_amount': 47500000,\n",
       "    'price_currency_code': 'USD',\n",
       "    'term_code': 'cash_and_stock',\n",
       "    'source_url': 'http://www.techcrunch.com/2009/08/10/facebook-acquires-friendfeed',\n",
       "    'source_description': 'Facebook Acquires FriendFeed',\n",
       "    'acquired_year': 2009,\n",
       "    'acquired_month': 8,\n",
       "    'acquired_day': 10,\n",
       "    'company': {'name': 'FriendFeed', 'permalink': 'friendfeed'}},\n",
       "   {'price_amount': None,\n",
       "    'price_currency_code': 'USD',\n",
       "    'term_code': None,\n",
       "    'source_url': 'http://techcrunch.com/2010/02/19/octazen-what-the-heck-did-facebook-just-buy-exactly-and-why/',\n",
       "    'source_description': '',\n",
       "    'acquired_year': 2010,\n",
       "    'acquired_month': 2,\n",
       "    'acquired_day': 19,\n",
       "    'company': {'name': 'Octazen Solutions', 'permalink': 'octazen'}},\n",
       "   {'price_amount': None,\n",
       "    'price_currency_code': 'USD',\n",
       "    'term_code': None,\n",
       "    'source_url': 'http://techcrunch.com/2010/04/02/facebook-buys-up-divvyshot-to-make-facebook-photos-even-better/',\n",
       "    'source_description': 'Facebook Acquires Divvyshot to Improve Facebook Photos',\n",
       "    'acquired_year': 2010,\n",
       "    'acquired_month': 4,\n",
       "    'acquired_day': 2,\n",
       "    'company': {'name': 'Divvyshot', 'permalink': 'divvyshot'}},\n",
       "   {'price_amount': None,\n",
       "    'price_currency_code': 'USD',\n",
       "    'term_code': None,\n",
       "    'source_url': 'http://mashable.com/2010/05/26/facebook-acquires-sharegrove/',\n",
       "    'source_description': '',\n",
       "    'acquired_year': 2010,\n",
       "    'acquired_month': 5,\n",
       "    'acquired_day': None,\n",
       "    'company': {'name': 'ShareGrove', 'permalink': 'sharegrove'}},\n",
       "   {'price_amount': 2500000,\n",
       "    'price_currency_code': 'USD',\n",
       "    'term_code': 'cash',\n",
       "    'source_url': 'http://techcrunch.com/2010/07/08/facebook-acquires-social-travel-recommendation-site-nextstop/',\n",
       "    'source_description': 'Facebook Acquires Social Travel Recommendation Site Nextstop',\n",
       "    'acquired_year': 2010,\n",
       "    'acquired_month': 9,\n",
       "    'acquired_day': 25,\n",
       "    'company': {'name': 'Nextstop', 'permalink': 'nextstop'}},\n",
       "   {'price_amount': 10000000,\n",
       "    'price_currency_code': 'USD',\n",
       "    'term_code': None,\n",
       "    'source_url': 'http://paidcontent.org/article/419-facebook-makes-another-acq-hire-chai-labs-deal-estimated-at-10-million/',\n",
       "    'source_description': 'Facebook Makes Another \"Acq-Hire\" Chai Labs; Deal Estimated At $10 Million ',\n",
       "    'acquired_year': 2010,\n",
       "    'acquired_month': 8,\n",
       "    'acquired_day': 15,\n",
       "    'company': {'name': 'Chai Labs', 'permalink': 'chailabs'}},\n",
       "   {'price_amount': None,\n",
       "    'price_currency_code': 'USD',\n",
       "    'term_code': None,\n",
       "    'source_url': 'http://techcrunch.com/2010/10/29/facebook-acquires-drop-io-nabs-sam-lessin/',\n",
       "    'source_description': 'Facebook Acquires Drop.io, Nabs Sam Lessin',\n",
       "    'acquired_year': 2010,\n",
       "    'acquired_month': 10,\n",
       "    'acquired_day': 29,\n",
       "    'company': {'name': 'drop.io', 'permalink': 'drop-io'}},\n",
       "   {'price_amount': None,\n",
       "    'price_currency_code': 'USD',\n",
       "    'term_code': None,\n",
       "    'source_url': 'http://www.businessinsider.com/facebook-zenbe-2010-11',\n",
       "    'source_description': \"Facebook Buys Yet Another NYC Startup -- Why Doesn't It Just Open An Engineering Office Here Already?\",\n",
       "    'acquired_year': 2010,\n",
       "    'acquired_month': 11,\n",
       "    'acquired_day': 16,\n",
       "    'company': {'name': 'Zenbe', 'permalink': 'zenbe'}},\n",
       "   {'price_amount': None,\n",
       "    'price_currency_code': 'USD',\n",
       "    'term_code': None,\n",
       "    'source_url': 'http://emoney.allthingsd.com/20110125/facebook-acquires-mobile-advertising-company-out-of-stealth-mode/',\n",
       "    'source_description': 'All Things D',\n",
       "    'acquired_year': 2011,\n",
       "    'acquired_month': 1,\n",
       "    'acquired_day': 25,\n",
       "    'company': {'name': 'Rel8tion', 'permalink': 'rel8tion'}},\n",
       "   {'price_amount': None,\n",
       "    'price_currency_code': 'USD',\n",
       "    'term_code': None,\n",
       "    'source_url': 'http://techcrunch.com/2011/02/25/pursuit-hackruiter/',\n",
       "    'source_description': '',\n",
       "    'acquired_year': 2011,\n",
       "    'acquired_month': None,\n",
       "    'acquired_day': None,\n",
       "    'company': {'name': 'Pursuit', 'permalink': 'pursuit'}},\n",
       "   {'price_amount': None,\n",
       "    'price_currency_code': 'USD',\n",
       "    'term_code': None,\n",
       "    'source_url': 'http://techcrunch.com/2011/03/01/facebook-beluga/',\n",
       "    'source_description': '',\n",
       "    'acquired_year': 2011,\n",
       "    'acquired_month': 3,\n",
       "    'acquired_day': 1,\n",
       "    'company': {'name': 'Beluga', 'permalink': 'beluga'}},\n",
       "   {'price_amount': 60000000,\n",
       "    'price_currency_code': 'USD',\n",
       "    'term_code': 'stock',\n",
       "    'source_url': 'http://techcrunch.com/2011/03/20/facebook-reportedly-acquires-snaptu-for-an-estimated-60-70-million/',\n",
       "    'source_description': 'Confirmed: Facebook Acquires Snaptu (For An Estimated $60–$70 Million)',\n",
       "    'acquired_year': 2011,\n",
       "    'acquired_month': 9,\n",
       "    'acquired_day': 17,\n",
       "    'company': {'name': 'Snaptu', 'permalink': 'snaptu'}},\n",
       "   {'price_amount': None,\n",
       "    'price_currency_code': 'USD',\n",
       "    'term_code': None,\n",
       "    'source_url': 'http://www.madebysofa.com/blog/facebook-acquires-sofa/',\n",
       "    'source_description': 'Facebook Acquires Sofa',\n",
       "    'acquired_year': 2011,\n",
       "    'acquired_month': 6,\n",
       "    'acquired_day': 9,\n",
       "    'company': {'name': 'Sofa', 'permalink': 'sofa'}},\n",
       "   {'price_amount': None,\n",
       "    'price_currency_code': 'USD',\n",
       "    'term_code': None,\n",
       "    'source_url': 'http://techcrunch.com/2011/08/02/facebook-buys-digital-bookmaking-service-push-pop-press/',\n",
       "    'source_description': 'Facebook Buys Digital Bookmaking Service Push Pop Press',\n",
       "    'acquired_year': 2011,\n",
       "    'acquired_month': 8,\n",
       "    'acquired_day': 2,\n",
       "    'company': {'name': 'Push Pop Press', 'permalink': 'push-pop-press'}},\n",
       "   {'price_amount': None,\n",
       "    'price_currency_code': 'CAD',\n",
       "    'term_code': 'cash',\n",
       "    'source_url': 'http://rahul.bosumatary.com/2011/10/10/facebook-friendly/',\n",
       "    'source_description': 'bsty',\n",
       "    'acquired_year': 2012,\n",
       "    'acquired_month': 3,\n",
       "    'acquired_day': 3,\n",
       "    'company': {'name': 'Friend.ly', 'permalink': 'friend-ly'}},\n",
       "   {'price_amount': None,\n",
       "    'price_currency_code': 'USD',\n",
       "    'term_code': None,\n",
       "    'source_url': 'http://techcrunch.com/2011/11/07/facebook-acquires-mobile-video-and-image-editing-app-developer-digital-staircase/',\n",
       "    'source_description': 'Facebook Acq-hires Mobile Video And Image Editing App Developer Digital Staircase',\n",
       "    'acquired_year': 2011,\n",
       "    'acquired_month': 11,\n",
       "    'acquired_day': 7,\n",
       "    'company': {'name': 'Digital Staircase',\n",
       "     'permalink': 'digital-staircase'}},\n",
       "   {'price_amount': None,\n",
       "    'price_currency_code': 'USD',\n",
       "    'term_code': None,\n",
       "    'source_url': 'http://techcrunch.com/2011/11/08/facebook-acquires-html5-app-delivery-network-strobe-sproutcore-lives-on/',\n",
       "    'source_description': 'Facebook Acquires HTML5 App Delivery Network Strobe; SproutCore Lives On',\n",
       "    'acquired_year': 2011,\n",
       "    'acquired_month': 11,\n",
       "    'acquired_day': 8,\n",
       "    'company': {'name': 'Strobe', 'permalink': 'strobe'}},\n",
       "   {'price_amount': None,\n",
       "    'price_currency_code': 'USD',\n",
       "    'term_code': None,\n",
       "    'source_url': 'http://techcrunch.com/2011/11/28/facebook-acquires-the-tech-behind-whoglue-a-company-that-sued-it-in-2009/',\n",
       "    'source_description': 'Facebook Acquires The Tech Behind WhoGlue, A Company That Sued It In 2009',\n",
       "    'acquired_year': 2011,\n",
       "    'acquired_month': 11,\n",
       "    'acquired_day': 28,\n",
       "    'company': {'name': 'WhoGlue', 'permalink': 'whoglue'}},\n",
       "   {'price_amount': None,\n",
       "    'price_currency_code': 'USD',\n",
       "    'term_code': None,\n",
       "    'source_url': 'http://techcrunch.com/2011/12/02/report-facebook-has-acquired-gowalla/',\n",
       "    'source_description': 'Report: Facebook Has Acquired Gowalla',\n",
       "    'acquired_year': 2011,\n",
       "    'acquired_month': 12,\n",
       "    'acquired_day': 2,\n",
       "    'company': {'name': 'Gowalla', 'permalink': 'gowalla'}},\n",
       "   {'price_amount': None,\n",
       "    'price_currency_code': 'USD',\n",
       "    'term_code': None,\n",
       "    'source_url': 'http://mountainview.patch.com/articles/facebook-acquires-gazehawk-green-dot-acquires-loopt',\n",
       "    'source_description': 'Facebook Acquires GazeHawk; Green Dot Acquires Loopt',\n",
       "    'acquired_year': 2012,\n",
       "    'acquired_month': 3,\n",
       "    'acquired_day': 10,\n",
       "    'company': {'name': 'GazeHawk', 'permalink': 'gazehawk'}},\n",
       "   {'price_amount': None,\n",
       "    'price_currency_code': 'USD',\n",
       "    'term_code': None,\n",
       "    'source_url': 'http://venturebeat.com/2012/02/29/facebook-caffeinated-mind/',\n",
       "    'source_description': 'Facebook acquires team behind YC alum Caffeinated Mind',\n",
       "    'acquired_year': 2012,\n",
       "    'acquired_month': 3,\n",
       "    'acquired_day': None,\n",
       "    'company': {'name': 'Sendoid', 'permalink': 'sendoid'}},\n",
       "   {'price_amount': 1010470000,\n",
       "    'price_currency_code': 'USD',\n",
       "    'term_code': 'cash_and_stock',\n",
       "    'source_url': 'http://techcrunch.com/2012/04/09/facebook-to-acquire-instagram-for-1-billion/',\n",
       "    'source_description': 'TechCrunch: Facebook Buys Instagram For $1 Billion, Turns Budding Rival Into Its Standalone Photo App',\n",
       "    'acquired_year': 2012,\n",
       "    'acquired_month': 4,\n",
       "    'acquired_day': 9,\n",
       "    'company': {'name': 'Instagram', 'permalink': 'instagram'}},\n",
       "   {'price_amount': None,\n",
       "    'price_currency_code': 'USD',\n",
       "    'term_code': None,\n",
       "    'source_url': 'http://techcrunch.com/2012/04/13/facebook-ups-the-mobile-ante-again-buys-mobile-loyalty-rewards-startup-tagtile/',\n",
       "    'source_description': 'Facebook Ups The Mobile Ante Again; Buys Mobile Loyalty, Rewards Startup TagTile',\n",
       "    'acquired_year': 2012,\n",
       "    'acquired_month': 4,\n",
       "    'acquired_day': 13,\n",
       "    'company': {'name': 'Tagtile', 'permalink': 'tagtile'}},\n",
       "   {'price_amount': None,\n",
       "    'price_currency_code': 'USD',\n",
       "    'term_code': None,\n",
       "    'source_url': 'http://techcrunch.com/2012/05/04/facebook-buys-location-based-discovery-app-glancee/',\n",
       "    'source_description': 'Facebook Buys Location-Based Discovery App Glancee',\n",
       "    'acquired_year': 2012,\n",
       "    'acquired_month': 5,\n",
       "    'acquired_day': 4,\n",
       "    'company': {'name': 'Glancee', 'permalink': 'glancee'}},\n",
       "   {'price_amount': 50000000,\n",
       "    'price_currency_code': 'USD',\n",
       "    'term_code': 'cash_and_stock',\n",
       "    'source_url': '',\n",
       "    'source_description': '',\n",
       "    'acquired_year': 2012,\n",
       "    'acquired_month': 6,\n",
       "    'acquired_day': 21,\n",
       "    'company': {'name': 'Bolt | Peters', 'permalink': 'bolt-peters'}},\n",
       "   {'price_amount': None,\n",
       "    'price_currency_code': 'USD',\n",
       "    'term_code': None,\n",
       "    'source_url': 'http://techcrunch.com/2012/08/24/facebook-threadsy/',\n",
       "    'source_description': 'Facebook Acquires Threadsy, Maker of Social Marketing Tool Swaylo',\n",
       "    'acquired_year': 2012,\n",
       "    'acquired_month': 8,\n",
       "    'acquired_day': 24,\n",
       "    'company': {'name': 'threadsy', 'permalink': 'threadsy'}},\n",
       "   {'price_amount': None,\n",
       "    'price_currency_code': 'USD',\n",
       "    'term_code': None,\n",
       "    'source_url': 'http://techcrunch.com/2012/07/14/facebooks-latest-acqui-hire-spool-the-instapaper-on-steroids/',\n",
       "    'source_description': 'Facebook’s Latest Acqui-Hire: Spool, The “Instapaper On Steroids”',\n",
       "    'acquired_year': 2012,\n",
       "    'acquired_month': 7,\n",
       "    'acquired_day': None,\n",
       "    'company': {'name': 'Spool', 'permalink': 'spool'}},\n",
       "   {'price_amount': None,\n",
       "    'price_currency_code': 'USD',\n",
       "    'term_code': None,\n",
       "    'source_url': 'http://www.fastcompany.com/1837882/facebook-acquires-karma',\n",
       "    'source_description': 'Facebook Acquires Karma ',\n",
       "    'acquired_year': 2012,\n",
       "    'acquired_month': 5,\n",
       "    'acquired_day': 18,\n",
       "    'company': {'name': 'Karma', 'permalink': 'karma'}},\n",
       "   {'price_amount': 60000000,\n",
       "    'price_currency_code': 'USD',\n",
       "    'term_code': 'cash_and_stock',\n",
       "    'source_url': 'http://techcrunch.com/2012/06/18/facebook-scoops-up-face-com-for-100m-to-bolster-its-facial-recognition-tech/',\n",
       "    'source_description': 'Facebook Scoops Up Face.com For $55-60M To Bolster Its Facial Recognition Tech (Updated)',\n",
       "    'acquired_year': 2012,\n",
       "    'acquired_month': 6,\n",
       "    'acquired_day': 18,\n",
       "    'company': {'name': 'Face.com', 'permalink': 'face-com'}},\n",
       "   {'price_amount': None,\n",
       "    'price_currency_code': 'USD',\n",
       "    'term_code': None,\n",
       "    'source_url': 'http://techcrunch.com/2013/02/28/facebook-acquires-atlas/',\n",
       "    'source_description': 'Facebook Confirms It Will Acquire Atlas Advertiser Suite From Microsoft To Close The Ad Spend Loop',\n",
       "    'acquired_year': 2013,\n",
       "    'acquired_month': 2,\n",
       "    'acquired_day': 28,\n",
       "    'company': {'name': 'Atlas Advertiser Suite',\n",
       "     'permalink': 'atlas-advertiser-suite'}},\n",
       "   {'price_amount': None,\n",
       "    'price_currency_code': 'USD',\n",
       "    'term_code': None,\n",
       "    'source_url': 'http://mashable.com/2013/03/08/facebook-acquires-storylane/',\n",
       "    'source_description': 'Facebook Acquires Storytelling Site Storylane in Talent Grab',\n",
       "    'acquired_year': 2013,\n",
       "    'acquired_month': 3,\n",
       "    'acquired_day': 8,\n",
       "    'company': {'name': 'Storylane', 'permalink': 'storylane'}},\n",
       "   {'price_amount': None,\n",
       "    'price_currency_code': 'USD',\n",
       "    'term_code': None,\n",
       "    'source_url': 'http://www.neowin.net/news/facebook-acquires-lightbox-photo-app-team',\n",
       "    'source_description': ' Facebook acquires Lightbox photo app team',\n",
       "    'acquired_year': 2012,\n",
       "    'acquired_month': 5,\n",
       "    'acquired_day': 15,\n",
       "    'company': {'name': 'Lightbox', 'permalink': 'lightbox'}},\n",
       "   {'price_amount': 10000000,\n",
       "    'price_currency_code': 'USD',\n",
       "    'term_code': 'cash',\n",
       "    'source_url': 'http://techcrunch.com/2010/07/28/facebook-to-pay-10-million-cash-for-hot-potato-says-source/',\n",
       "    'source_description': 'Facebook To Pay $10 Million Cash For Hot Potato, Says Source',\n",
       "    'acquired_year': 2010,\n",
       "    'acquired_month': 7,\n",
       "    'acquired_day': 28,\n",
       "    'company': {'name': 'Hot Potato', 'permalink': 'hotpotato'}},\n",
       "   {'price_amount': None,\n",
       "    'price_currency_code': 'USD',\n",
       "    'term_code': None,\n",
       "    'source_url': 'http://techcrunch.com/2013/04/10/has-facebook-quietly-acquired-osmeta-a-stealth-mobile-software-startup/',\n",
       "    'source_description': 'Confirmed: Facebook Has Acquired Osmeta, A Stealth Mobile Software Startup',\n",
       "    'acquired_year': 2013,\n",
       "    'acquired_month': 4,\n",
       "    'acquired_day': 11,\n",
       "    'company': {'name': 'Osmeta', 'permalink': 'osmeta'}},\n",
       "   {'price_amount': None,\n",
       "    'price_currency_code': 'USD',\n",
       "    'term_code': None,\n",
       "    'source_url': 'http://techcrunch.com/2013/04/23/facebook-acqhires-part-of-team-from-html5-game-platform-spaceport-io-but-co-founder-will-keep-running-it/',\n",
       "    'source_description': 'Facebook Acqhires Part Of Team From HTML5 Game Platform Spaceport.io That Will Keep Running',\n",
       "    'acquired_year': 2013,\n",
       "    'acquired_month': 4,\n",
       "    'acquired_day': 23,\n",
       "    'company': {'name': 'Spaceport.io', 'permalink': 'spaceport-io'}},\n",
       "   {'price_amount': 90000000,\n",
       "    'price_currency_code': 'USD',\n",
       "    'term_code': None,\n",
       "    'source_url': 'http://techcrunch.com/2013/04/25/facebook-parse/',\n",
       "    'source_description': 'http://techcrunch.com/2013/04/25/facebook-parse/',\n",
       "    'acquired_year': 2013,\n",
       "    'acquired_month': 4,\n",
       "    'acquired_day': 25,\n",
       "    'company': {'name': 'Parse', 'permalink': 'parse'}},\n",
       "   {'price_amount': None,\n",
       "    'price_currency_code': 'USD',\n",
       "    'term_code': None,\n",
       "    'source_url': 'http://techcrunch.com/2013/07/18/facebook-monoidics/',\n",
       "    'source_description': 'Facebook Acquires Assets Of UK Mobile Bug-Checking Software Developer Monoidics',\n",
       "    'acquired_year': 2013,\n",
       "    'acquired_month': 7,\n",
       "    'acquired_day': 18,\n",
       "    'company': {'name': 'Monoidics', 'permalink': 'monoidics'}},\n",
       "   {'price_amount': None,\n",
       "    'price_currency_code': 'USD',\n",
       "    'term_code': None,\n",
       "    'source_url': 'http://techcrunch.com/2013/08/12/facebook-acquires-mobile-technologies-speech-recognition-and-jibbigo-app-developer/',\n",
       "    'source_description': 'Facebook Acquires “Mobile Technologies”, Developer Of Speech Translation App Jibbigo',\n",
       "    'acquired_year': 2013,\n",
       "    'acquired_month': 8,\n",
       "    'acquired_day': 12,\n",
       "    'company': {'name': 'Jibbigo', 'permalink': 'jibbigo'}},\n",
       "   {'price_amount': 150000000,\n",
       "    'price_currency_code': 'USD',\n",
       "    'term_code': None,\n",
       "    'source_url': 'http://techcrunch.com/2013/10/13/facebook-buys-mobile-analytics-company-onavo-and-finally-gets-its-office-in-israel/?utm_source=dlvr.it&utm_medium=twitter&utm_campaign=Feed%3A+Techcrunch+%28TechCrunch%29',\n",
       "    'source_description': 'acebook Buys Mobile Data Analytics Company Onavo, Reportedly For Up To $200M',\n",
       "    'acquired_year': 2013,\n",
       "    'acquired_month': 10,\n",
       "    'acquired_day': 14,\n",
       "    'company': {'name': 'Onavo', 'permalink': 'onavo'}},\n",
       "   {'price_amount': None,\n",
       "    'price_currency_code': 'USD',\n",
       "    'term_code': None,\n",
       "    'source_url': 'http://techcrunch.com/2013/12/17/facebook-acquires-sportstream/',\n",
       "    'source_description': 'Facebook Acquires SportStream To Increase Sports Chatter By Providing News Outlets With Cleaner Data',\n",
       "    'acquired_year': 2013,\n",
       "    'acquired_month': 12,\n",
       "    'acquired_day': 17,\n",
       "    'company': {'name': 'SportStream', 'permalink': 'sportstream'}}],\n",
       "  'offices': [{'description': 'Headquarters',\n",
       "    'address1': '1601 Willow Road',\n",
       "    'address2': '',\n",
       "    'zip_code': '94025',\n",
       "    'city': 'Menlo Park',\n",
       "    'state_code': 'CA',\n",
       "    'country_code': 'USA',\n",
       "    'latitude': 37.41605,\n",
       "    'longitude': -122.151801},\n",
       "   {'description': 'Europe HQ',\n",
       "    'address1': '',\n",
       "    'address2': '',\n",
       "    'zip_code': '',\n",
       "    'city': 'Dublin',\n",
       "    'state_code': None,\n",
       "    'country_code': 'IRL',\n",
       "    'latitude': 53.344104,\n",
       "    'longitude': -6.267494},\n",
       "   {'description': 'New York',\n",
       "    'address1': '340 Madison Ave',\n",
       "    'address2': '',\n",
       "    'zip_code': '10017',\n",
       "    'city': 'New York',\n",
       "    'state_code': 'NY',\n",
       "    'country_code': 'USA',\n",
       "    'latitude': 40.7557162,\n",
       "    'longitude': -73.9792469}],\n",
       "  'milestones': [{'id': 108,\n",
       "    'description': 'Facebook adds comments to Mini-Feed',\n",
       "    'stoned_year': 2008,\n",
       "    'stoned_month': 6,\n",
       "    'stoned_day': 25,\n",
       "    'source_url': 'http://venturebeat.com/2008/06/25/facebook-adds-comment-to-the-mini-feed-its-like-friendfeed-is-looking-in-the-mirror/',\n",
       "    'source_text': '',\n",
       "    'source_description': \"Facebook adds comments to the Mini-Feed. It's like FriendFeed is looking in the mirror\",\n",
       "    'stoneable_type': 'Company',\n",
       "    'stoned_value': None,\n",
       "    'stoned_value_type': None,\n",
       "    'stoned_acquirer': None,\n",
       "    'stoneable': {'name': 'Facebook', 'permalink': 'facebook'}},\n",
       "   {'id': 764,\n",
       "    'description': 'fbFund for Developers awards its grants.',\n",
       "    'stoned_year': 2008,\n",
       "    'stoned_month': 10,\n",
       "    'stoned_day': 15,\n",
       "    'source_url': 'http://www.techcrunch.com/2008/10/15/the-fbfund-gives-out-cash-to-25-facebook-developers/',\n",
       "    'source_text': '',\n",
       "    'source_description': 'The fbFund Gives Out Cash To 25 Facebook Developers',\n",
       "    'stoneable_type': 'Company',\n",
       "    'stoned_value': None,\n",
       "    'stoned_value_type': None,\n",
       "    'stoned_acquirer': None,\n",
       "    'stoneable': {'name': 'Facebook', 'permalink': 'facebook'}},\n",
       "   {'id': 6124,\n",
       "    'description': 'Facebook Movie Poster Announces 500 Million Facebook Users Before Facebook Does',\n",
       "    'stoned_year': 2010,\n",
       "    'stoned_month': 6,\n",
       "    'stoned_day': 19,\n",
       "    'source_url': 'http://techcrunch.com/2010/06/19/facebook-movie-poster/',\n",
       "    'source_text': '',\n",
       "    'source_description': 'Facebook Movie Poster Announces 500 Million Facebook Users Before Facebook Does',\n",
       "    'stoneable_type': 'Company',\n",
       "    'stoned_value': None,\n",
       "    'stoned_value_type': None,\n",
       "    'stoned_acquirer': None,\n",
       "    'stoneable': {'name': 'Facebook', 'permalink': 'facebook'}},\n",
       "   {'id': 6622,\n",
       "    'description': 'By the way, Facebook for iPhone has 57.8 million monthly active users. (Versus 8,810 for the Microsoft Kin.)',\n",
       "    'stoned_year': 2010,\n",
       "    'stoned_month': 7,\n",
       "    'stoned_day': 8,\n",
       "    'source_url': 'http://www.businessinsider.com/by-the-way-facebook-for-iphone-has-578-million-monthly-active-users-versus-8810-for-the-microsoft-kin-2010-7',\n",
       "    'source_text': '',\n",
       "    'source_description': 'By the way, Facebook for iPhone has 57.8 million monthly active users. (Versus 8,810 for the Microsoft Kin.)',\n",
       "    'stoneable_type': 'Company',\n",
       "    'stoned_value': None,\n",
       "    'stoned_value_type': None,\n",
       "    'stoned_acquirer': None,\n",
       "    'stoneable': {'name': 'Facebook', 'permalink': 'facebook'}},\n",
       "   {'id': 6820,\n",
       "    'description': 'Zuckerberg Makes It Official: Facebook Hits 500 Million Members',\n",
       "    'stoned_year': 2010,\n",
       "    'stoned_month': 7,\n",
       "    'stoned_day': 21,\n",
       "    'source_url': 'http://techcrunch.com/2010/07/21/facebook-500-million/',\n",
       "    'source_text': '',\n",
       "    'source_description': 'Zuckerberg Makes It Official: Facebook Hits 500 Million Members',\n",
       "    'stoneable_type': 'Company',\n",
       "    'stoned_value': None,\n",
       "    'stoned_value_type': None,\n",
       "    'stoned_acquirer': None,\n",
       "    'stoneable': {'name': 'Facebook', 'permalink': 'facebook'}},\n",
       "   {'id': 7832,\n",
       "    'description': 'Facebook partners with Y-Combinator',\n",
       "    'stoned_year': 2010,\n",
       "    'stoned_month': 8,\n",
       "    'stoned_day': 27,\n",
       "    'source_url': 'http://techcrunch.com/2010/08/26/facebook-y-combinator/',\n",
       "    'source_text': '',\n",
       "    'source_description': 'Facebook To Begin Giving Y Combinator Startups VIP Treatment',\n",
       "    'stoneable_type': 'Company',\n",
       "    'stoned_value': None,\n",
       "    'stoned_value_type': None,\n",
       "    'stoned_acquirer': None,\n",
       "    'stoneable': {'name': 'Facebook', 'permalink': 'facebook'}},\n",
       "   {'id': 8592,\n",
       "    'description': 'Facebook CEO Mark Zuckerberg Donates $100 Million To Fix Newark New Jersey Public Schools',\n",
       "    'stoned_year': 2010,\n",
       "    'stoned_month': 9,\n",
       "    'stoned_day': 22,\n",
       "    'source_url': 'http://www.businessinsider.com/mark-zuckerberg-donates-100-million-newark-public-schools-2010-9',\n",
       "    'source_text': '',\n",
       "    'source_description': 'Facebook CEO Mark Zuckerberg Donates $100 Million To Fix Newark New Jersey Public Schools',\n",
       "    'stoneable_type': 'Company',\n",
       "    'stoned_value': None,\n",
       "    'stoned_value_type': None,\n",
       "    'stoned_acquirer': None,\n",
       "    'stoneable': {'name': 'Facebook', 'permalink': 'facebook'}},\n",
       "   {'id': 9397,\n",
       "    'description': 'Facebook, KPCB Announce $250 Million Social Networking Fund',\n",
       "    'stoned_year': 2010,\n",
       "    'stoned_month': 10,\n",
       "    'stoned_day': 21,\n",
       "    'source_url': 'http://www.businessinsider.com/live-facebook-to-announce-new-vc-fund-2010-10',\n",
       "    'source_text': '',\n",
       "    'source_description': 'Facebook, KPCB Announce $250 Million Social Networking Fund',\n",
       "    'stoneable_type': 'Company',\n",
       "    'stoned_value': None,\n",
       "    'stoned_value_type': None,\n",
       "    'stoned_acquirer': None,\n",
       "    'stoneable': {'name': 'Facebook', 'permalink': 'facebook'}},\n",
       "   {'id': 9795,\n",
       "    'description': '200 Million People Use Facebook Mobile — Up 3X From Last Year',\n",
       "    'stoned_year': 2010,\n",
       "    'stoned_month': 11,\n",
       "    'stoned_day': 3,\n",
       "    'source_url': 'http://www.businessinsider.com/200-million-people-use-facebook-mobile--up-3x-from-last-year-2010-11',\n",
       "    'source_text': '',\n",
       "    'source_description': '200 Million People Use Facebook Mobile — Up 3X From Last Year',\n",
       "    'stoneable_type': 'Company',\n",
       "    'stoned_value': None,\n",
       "    'stoned_value_type': None,\n",
       "    'stoned_acquirer': None,\n",
       "    'stoneable': {'name': 'Facebook', 'permalink': 'facebook'}},\n",
       "   {'id': 10041,\n",
       "    'description': 'Facebook Acquired FB.com From The American Farm Bureau To Use Internally',\n",
       "    'stoned_year': 2010,\n",
       "    'stoned_month': 11,\n",
       "    'stoned_day': 15,\n",
       "    'source_url': 'http://techcrunch.com/2010/11/15/facebook-acquired-fb-com-from-the-american-farm-bureau/',\n",
       "    'source_text': '',\n",
       "    'source_description': 'Facebook Acquired FB.com From The American Farm Bureau To Use Internally',\n",
       "    'stoneable_type': 'Company',\n",
       "    'stoned_value': None,\n",
       "    'stoned_value_type': None,\n",
       "    'stoned_acquirer': None,\n",
       "    'stoneable': {'name': 'Facebook', 'permalink': 'facebook'}},\n",
       "   {'id': 10645,\n",
       "    'description': 'Facebook Connect: 250 million monthly users, adding 10,000 sites every day',\n",
       "    'stoned_year': 2010,\n",
       "    'stoned_month': 12,\n",
       "    'stoned_day': 8,\n",
       "    'source_url': 'http://www.bgr.com/2010/12/08/facebook-connect-250-million-monthly-users-adding-10000-sites-every-day/?utm_source=feedburner&utm_medium=twitter&utm_campaign=Feed%3A+TheBoyGeniusReport+%28BGR+|+Boy+Genius+Report%29',\n",
       "    'source_text': '',\n",
       "    'source_description': 'Facebook Connect: 250 million monthly users, adding 10,000 sites every day',\n",
       "    'stoneable_type': 'Company',\n",
       "    'stoned_value': None,\n",
       "    'stoned_value_type': None,\n",
       "    'stoned_acquirer': None,\n",
       "    'stoneable': {'name': 'Facebook', 'permalink': 'facebook'}},\n",
       "   {'id': 11506,\n",
       "    'description': \"Facebook Shares Hit $28.26 Per Share, That's a $70+ Billion Valuation\",\n",
       "    'stoned_year': 2011,\n",
       "    'stoned_month': 1,\n",
       "    'stoned_day': 14,\n",
       "    'source_url': 'http://techcrunch.com/2011/01/14/facebook-shares-hit-28-26-per-share-thats-a-70-billion-valuation/',\n",
       "    'source_text': '',\n",
       "    'source_description': \"Facebook Shares Hit $28.26 Per Share, That's a $70+ Billion Valuation\",\n",
       "    'stoneable_type': 'Company',\n",
       "    'stoned_value': None,\n",
       "    'stoned_value_type': None,\n",
       "    'stoned_acquirer': None,\n",
       "    'stoneable': {'name': 'Facebook', 'permalink': 'facebook'}},\n",
       "   {'id': 11507,\n",
       "    'description': \"Facebook Users Uploaded A Record 750 Million Photos Over New Year's\",\n",
       "    'stoned_year': 2011,\n",
       "    'stoned_month': 1,\n",
       "    'stoned_day': 3,\n",
       "    'source_url': 'http://techcrunch.com/2011/01/03/facebook-users-uploaded-a-record-750-million-photos-over-new-years/',\n",
       "    'source_text': '',\n",
       "    'source_description': \"Facebook Users Uploaded A Record 750 Million Photos Over New Year's\",\n",
       "    'stoneable_type': 'Company',\n",
       "    'stoned_value': None,\n",
       "    'stoned_value_type': None,\n",
       "    'stoned_acquirer': None,\n",
       "    'stoneable': {'name': 'Facebook', 'permalink': 'facebook'}},\n",
       "   {'id': 11509,\n",
       "    'description': 'Facebook Considering A Leaseback Deal Worth As Much As $420 Million For New HQ',\n",
       "    'stoned_year': 2011,\n",
       "    'stoned_month': 1,\n",
       "    'stoned_day': 4,\n",
       "    'source_url': 'http://techcrunch.com/2011/01/04/facebook-leaseback-420-million/',\n",
       "    'source_text': '',\n",
       "    'source_description': 'Facebook Considering A Leaseback Deal Worth As Much As $420 Million For New HQ',\n",
       "    'stoneable_type': 'Company',\n",
       "    'stoned_value': None,\n",
       "    'stoned_value_type': None,\n",
       "    'stoned_acquirer': None,\n",
       "    'stoneable': {'name': 'Facebook', 'permalink': 'facebook'}},\n",
       "   {'id': 11654,\n",
       "    'description': 'Facebook Teams With Snaptu To Launch Rich App For Feature Phones.',\n",
       "    'stoned_year': 2011,\n",
       "    'stoned_month': 1,\n",
       "    'stoned_day': 19,\n",
       "    'source_url': 'http://techcrunch.com/2011/01/19/facebook-app-feature-phone/',\n",
       "    'source_text': '',\n",
       "    'source_description': 'Facebook Teams With Snaptu To Launch Rich App For Feature Phones',\n",
       "    'stoneable_type': 'Company',\n",
       "    'stoned_value': None,\n",
       "    'stoned_value_type': None,\n",
       "    'stoned_acquirer': None,\n",
       "    'stoneable': {'name': 'Facebook', 'permalink': 'facebook'}},\n",
       "   {'id': 11947,\n",
       "    'description': 'Kevin Rose Invests In Facebook On SecondMarket',\n",
       "    'stoned_year': 2011,\n",
       "    'stoned_month': 1,\n",
       "    'stoned_day': 29,\n",
       "    'source_url': 'http://techcrunch.com/2011/01/29/kevin-rose-invests-in-facebook-on-secondmarket/',\n",
       "    'source_text': '',\n",
       "    'source_description': 'Kevin Rose Invests In Facebook On SecondMarket',\n",
       "    'stoneable_type': 'Company',\n",
       "    'stoned_value': None,\n",
       "    'stoned_value_type': None,\n",
       "    'stoned_acquirer': None,\n",
       "    'stoneable': {'name': 'Facebook', 'permalink': 'facebook'}},\n",
       "   {'id': 13046,\n",
       "    'description': 'Wow. Just...Wow: Facebook Hits Record $75 Billion Valuation On SecondMarket',\n",
       "    'stoned_year': 2011,\n",
       "    'stoned_month': 3,\n",
       "    'stoned_day': 4,\n",
       "    'source_url': 'http://techcrunch.com/2011/03/04/facebook-valuation-secondmarket/',\n",
       "    'source_text': '',\n",
       "    'source_description': 'Wow. Just...Wow: Facebook Hits Record $75 Billion Valuation On SecondMarket',\n",
       "    'stoneable_type': 'Company',\n",
       "    'stoned_value': None,\n",
       "    'stoned_value_type': None,\n",
       "    'stoned_acquirer': None,\n",
       "    'stoneable': {'name': 'Facebook', 'permalink': 'facebook'}},\n",
       "   {'id': 13888,\n",
       "    'description': 'Facebook Now Has 250 Million Mobile Users',\n",
       "    'stoned_year': 2011,\n",
       "    'stoned_month': 3,\n",
       "    'stoned_day': 31,\n",
       "    'source_url': 'http://techcrunch.com/2011/03/31/facebook-now-has-250-million-mobile-users-and-a-new-unified-mobile-website-to-match/',\n",
       "    'source_text': '',\n",
       "    'source_description': 'Facebook Now Has 250 Million Mobile Users',\n",
       "    'stoneable_type': 'Company',\n",
       "    'stoned_value': None,\n",
       "    'stoned_value_type': None,\n",
       "    'stoned_acquirer': None,\n",
       "    'stoneable': {'name': 'Facebook', 'permalink': 'facebook'}},\n",
       "   {'id': 15662,\n",
       "    'description': 'Facebook Buys Sofa, A Software Design Team That Will Help Make Facebook More Beautiful',\n",
       "    'stoned_year': 2011,\n",
       "    'stoned_month': 6,\n",
       "    'stoned_day': 9,\n",
       "    'source_url': 'http://techcrunch.com/2011/06/09/facebook-sofa/',\n",
       "    'source_text': '',\n",
       "    'source_description': 'Facebook Buys Sofa, A Software Design Team That Will Help Make Facebook More Beautiful',\n",
       "    'stoneable_type': 'Company',\n",
       "    'stoned_value': None,\n",
       "    'stoned_value_type': None,\n",
       "    'stoned_acquirer': None,\n",
       "    'stoneable': {'name': 'Facebook', 'permalink': 'facebook'}},\n",
       "   {'id': 15858,\n",
       "    'description': 'Zuck Confirms That Facebook Now Has 750 Million Active Users',\n",
       "    'stoned_year': 2011,\n",
       "    'stoned_month': 7,\n",
       "    'stoned_day': 6,\n",
       "    'source_url': 'http://techcrunch.com/2011/07/06/zuck-confirms-that-facebook-now-has-750-million-users/',\n",
       "    'source_text': '',\n",
       "    'source_description': 'Zuck Confirms That Facebook Now Has 750 Million Active Users',\n",
       "    'stoneable_type': 'Company',\n",
       "    'stoned_value': None,\n",
       "    'stoned_value_type': None,\n",
       "    'stoned_acquirer': None,\n",
       "    'stoneable': {'name': 'Facebook', 'permalink': 'facebook'}},\n",
       "   {'id': 15953,\n",
       "    'description': 'GSV Capital Buys Facebook Stock At $70 Billion Valuation; Its Own Stock Pops 21 Percent',\n",
       "    'stoned_year': 2011,\n",
       "    'stoned_month': 6,\n",
       "    'stoned_day': 27,\n",
       "    'source_url': 'http://techcrunch.com/2011/06/27/gsv-capital-facebook-70-billion-valuation/',\n",
       "    'source_text': '',\n",
       "    'source_description': 'GSV Capital Buys Facebook Stock At $70 Billion Valuation; Its Own Stock Pops 21 Percent',\n",
       "    'stoneable_type': 'Company',\n",
       "    'stoned_value': None,\n",
       "    'stoned_value_type': None,\n",
       "    'stoned_acquirer': None,\n",
       "    'stoneable': {'name': 'Facebook', 'permalink': 'facebook'}},\n",
       "   {'id': 17778,\n",
       "    'description': 'Report: Facebook Revenue Was $1.6B In First Half Of 2011, Net Income $500M',\n",
       "    'stoned_year': 2011,\n",
       "    'stoned_month': 9,\n",
       "    'stoned_day': 7,\n",
       "    'source_url': 'http://techcrunch.com/2011/09/07/report-facebook-revenue-was-1-6-b-in-first-half-of-2011-net-income-500m/',\n",
       "    'source_text': '',\n",
       "    'source_description': 'Report: Facebook Revenue Was $1.6B In First Half Of 2011, Net Income $500M',\n",
       "    'stoneable_type': 'Company',\n",
       "    'stoned_value': None,\n",
       "    'stoned_value_type': None,\n",
       "    'stoned_acquirer': None,\n",
       "    'stoneable': {'name': 'Facebook', 'permalink': 'facebook'}},\n",
       "   {'id': 21639,\n",
       "    'description': 'Facebook acquires team behind YC alum Caffeinated Mind',\n",
       "    'stoned_year': 2012,\n",
       "    'stoned_month': 2,\n",
       "    'stoned_day': 29,\n",
       "    'source_url': 'http://venturebeat.com/2012/02/29/facebook-caffeinated-mind/?utm_source=feedburner&utm_medium=feed&utm_campaign=Feed%3A+Venturebeat_deals+%28VentureBeat+%C2%BB+Deals+%26+More%29',\n",
       "    'source_text': '',\n",
       "    'source_description': 'Facebook acquires team behind YC alum Caffeinated Mind',\n",
       "    'stoneable_type': 'Company',\n",
       "    'stoned_value': None,\n",
       "    'stoned_value_type': None,\n",
       "    'stoned_acquirer': None,\n",
       "    'stoneable': {'name': 'Facebook', 'permalink': 'facebook'}},\n",
       "   {'id': 22794,\n",
       "    'description': 'Facebook Buys AOL Patents From Microsoft For $550 Million In Cash',\n",
       "    'stoned_year': 2012,\n",
       "    'stoned_month': 4,\n",
       "    'stoned_day': 23,\n",
       "    'source_url': 'http://techcrunch.com/2012/04/23/aols-new-patent-owners-facebook-in-a-550m-deal-with-microsoft/',\n",
       "    'source_text': '',\n",
       "    'source_description': 'Facebook Buys AOL Patents From Microsoft For $550 Million In Cash',\n",
       "    'stoneable_type': 'Company',\n",
       "    'stoned_value': None,\n",
       "    'stoned_value_type': None,\n",
       "    'stoned_acquirer': None,\n",
       "    'stoneable': {'name': 'Facebook', 'permalink': 'facebook'}},\n",
       "   {'id': 23387,\n",
       "    'description': 'Facebook Will Have The Biggest Tech IPO Ever, Raising $16 Billion With $38 Share Price',\n",
       "    'stoned_year': 2012,\n",
       "    'stoned_month': 5,\n",
       "    'stoned_day': 17,\n",
       "    'source_url': 'http://techcrunch.com/2012/05/17/facebook-confirms-ipo-share-price/',\n",
       "    'source_text': '',\n",
       "    'source_description': 'Facebook Will Have The Biggest Tech IPO Ever, Raising $16 Billion With $38 Share Price',\n",
       "    'stoneable_type': 'Company',\n",
       "    'stoned_value': None,\n",
       "    'stoned_value_type': None,\n",
       "    'stoned_acquirer': None,\n",
       "    'stoneable': {'name': 'Facebook', 'permalink': 'facebook'}},\n",
       "   {'id': 25248,\n",
       "    'description': 'Facebook Has 1 Million Active Advertisers',\n",
       "    'stoned_year': 2013,\n",
       "    'stoned_month': 6,\n",
       "    'stoned_day': 18,\n",
       "    'source_url': 'http://www.businessinsider.com/facebook-has-1-million-active-advertisers-2013-6',\n",
       "    'source_text': '',\n",
       "    'source_description': 'Facebook Has 1 Million Active Advertisers',\n",
       "    'stoneable_type': 'Company',\n",
       "    'stoned_value': None,\n",
       "    'stoned_value_type': None,\n",
       "    'stoned_acquirer': None,\n",
       "    'stoneable': {'name': 'Facebook', 'permalink': 'facebook'}}],\n",
       "  'ipo': {'valuation_amount': 104000000000,\n",
       "   'valuation_currency_code': 'USD',\n",
       "   'pub_year': 2012,\n",
       "   'pub_month': 5,\n",
       "   'pub_day': 18,\n",
       "   'stock_symbol': 'NASDAQ:FB'},\n",
       "  'video_embeds': [],\n",
       "  'screenshots': [{'available_sizes': [[[150, 68],\n",
       "      'assets/images/resized/0004/2816/42816v1-max-150x150.png'],\n",
       "     [[250, 114], 'assets/images/resized/0004/2816/42816v1-max-250x250.png'],\n",
       "     [[450, 205], 'assets/images/resized/0004/2816/42816v1-max-450x450.png']],\n",
       "    'attribution': None}],\n",
       "  'external_links': [{'external_url': 'http://latimesblogs.latimes.com/technology/2008/09/facebook-hire-1.html',\n",
       "    'title': 'Facebook hires general counsel as it continues to grow'},\n",
       "   {'external_url': 'http://www.sociableblog.com/2011/12/16/facebook-timeline-now-live-for-all/',\n",
       "    'title': 'Facebook Timeline Now Live for All Users'},\n",
       "   {'external_url': 'http://www.sociableblog.com/2012/02/02/facebook-ipo-value-personal-data/',\n",
       "    'title': 'Facebook IPO, The Value of Personal Data'},\n",
       "   {'external_url': 'http://www.sociableblog.com/2012/04/01/facebook-timeline-for-all-pages-goes-live/',\n",
       "    'title': 'March 31, 2012: Facebook Timeline for All Pages Goes Live'}],\n",
       "  'partners': []},\n",
       " {'_id': ObjectId('52cdef7c4bab8bd675297d9d'),\n",
       "  'name': 'Joost',\n",
       "  'permalink': 'joost',\n",
       "  'crunchbase_url': 'http://www.crunchbase.com/company/joost',\n",
       "  'homepage_url': 'http://joost.com',\n",
       "  'blog_url': 'http://blog.joost.com',\n",
       "  'blog_feed_url': 'http://blog.joost.com/atom.xml',\n",
       "  'twitter_username': None,\n",
       "  'category_code': 'games_video',\n",
       "  'number_of_employees': 0,\n",
       "  'founded_year': 2006,\n",
       "  'founded_month': 10,\n",
       "  'founded_day': 1,\n",
       "  'deadpooled_year': None,\n",
       "  'deadpooled_month': None,\n",
       "  'deadpooled_day': None,\n",
       "  'deadpooled_url': None,\n",
       "  'tag_list': 'iptv, babelgum, television, video, theveniceproject',\n",
       "  'alias_list': None,\n",
       "  'email_address': 'newyork@joost.com',\n",
       "  'phone_number': '',\n",
       "  'description': None,\n",
       "  'created_at': 'Sat Jun 09 07:05:30 UTC 2007',\n",
       "  'updated_at': 'Fri Mar 15 23:31:11 UTC 2013',\n",
       "  'overview': '<p>As their third major undertaking, <a href=\"http://crunchbase.com/company/skype\" title=\"Skype\">Skype</a> and Kazaa founders Janus Friis and Niklas Zennstrom are attempting to perfect IPTV with Joost.  Joost is a p2p on demand video player that offers professional (legal) programming much like on your television, but whenever you want.  The service is free, however, there are video advertisements interspersed between and during programs as well as small type or image ads on the sides of your screen.</p>\\n\\n<p>With very heavy backing from media giants CBS and Viacom, Joost looks good to take on competitors <a href=\"http://crunchbase.com/company/bablegum\" title=\"Bablegum\">Bablegum</a> and <a href=\"http://www.techcrunch.com/2007/07/06/first-look-at-livestation-not-much-to-report/\" title=\"Microsoft LiveStation\">Microsoft LiveStation</a>.  Currently Joost has content deals with CNN, the NHL and Sony as well as their financiers CBS and Viacom (MTV, Comedy Central etc). They have also <a href=\"http://www.joost.com/forums/p/2007/08/widget-api/\" title=\"recently\" rel=\"nofollow\">recently</a> developed a new Widget API open to third parties to make their own Joost widgets. </p>\\n\\n<p>Unlike many online video platforms, joost does require a download and cannot play video directly from users&#8217; browsers.  joost offers a desktop client that allows the user to watch on-demand TV over the internet. In addition, Joost enhances the TV experience by offering interactive tools. For example, users will be able to chat with friends while watching a show. The channels will also have interactive displays where users can discover behind-the-scene content.</p>\\n\\n<p>Joost&#8217;s peer-to-peer technology also lowers the cost of channel owners by reducing the amount of data the servers must stream out. joost only serves some selected users, while the rest of the data is distributed from user to user.  </p>\\n\\n<p>Rumor has it that Joost is in talks with hardware manufacturers to <a href=\"http://www.techcrunch.com/2007/06/15/embedded-joost-will-change-the-market/\" title=\"embed\">embed</a> its platform into TV set-top boxes. If the move were successful it could change the TV industry substantially.</p>\\n\\n<p>Joost is now fully public and open to all.</p>\\n\\n<p>UPDATE: Joost has recently deactivated it&#8217;s software client and now streams it&#8217;s entire catalog via Adobe&#8217;s Flash Player which is available for Windows, Mac OS X, and Linux.</p>',\n",
       "  'image': {'available_sizes': [[[150, 64],\n",
       "     'assets/images/resized/0000/3718/3718v1-max-150x150.png'],\n",
       "    [[199, 85], 'assets/images/resized/0000/3718/3718v1-max-250x250.png'],\n",
       "    [[199, 85], 'assets/images/resized/0000/3718/3718v1-max-450x450.png']],\n",
       "   'attribution': None},\n",
       "  'products': [{'name': 'Joost', 'permalink': 'joost'}],\n",
       "  'relationships': [{'is_past': False,\n",
       "    'title': 'CEO',\n",
       "    'person': {'first_name': 'Matt',\n",
       "     'last_name': 'Zelesko',\n",
       "     'permalink': 'matt-zelesko'}},\n",
       "   {'is_past': False,\n",
       "    'title': 'Co-founder',\n",
       "    'person': {'first_name': 'Janus',\n",
       "     'last_name': 'Friis',\n",
       "     'permalink': 'janus-friis'}},\n",
       "   {'is_past': False,\n",
       "    'title': 'Co-Founder',\n",
       "    'person': {'first_name': 'Niklas',\n",
       "     'last_name': 'Zennström',\n",
       "     'permalink': 'niklas-zennstrom'}},\n",
       "   {'is_past': True,\n",
       "    'title': 'CEO',\n",
       "    'person': {'first_name': 'Matthew',\n",
       "     'last_name': 'Zelesko',\n",
       "     'permalink': 'matthew-zelesko'}},\n",
       "   {'is_past': True,\n",
       "    'title': 'CEO',\n",
       "    'person': {'first_name': 'Mike',\n",
       "     'last_name': 'Volpi',\n",
       "     'permalink': 'mike-volpi'}},\n",
       "   {'is_past': True,\n",
       "    'title': 'CTO',\n",
       "    'person': {'first_name': 'Dirk-Willem',\n",
       "     'last_name': 'van Gulik',\n",
       "     'permalink': 'dirk-willem-van-gulik'}},\n",
       "   {'is_past': True,\n",
       "    'title': 'SVP of Sales',\n",
       "    'person': {'first_name': 'Elizabeth',\n",
       "     'last_name': 'Schiff',\n",
       "     'permalink': 'elizabeth-schiff'}},\n",
       "   {'is_past': True,\n",
       "    'title': 'VP, Business Development',\n",
       "    'person': {'first_name': 'Vipin',\n",
       "     'last_name': 'Goyal',\n",
       "     'permalink': 'vipin-goyal'}},\n",
       "   {'is_past': True,\n",
       "    'title': 'SVP Engineering',\n",
       "    'person': {'first_name': 'Matt',\n",
       "     'last_name': 'Zelesko',\n",
       "     'permalink': 'matt-zelesko'}},\n",
       "   {'is_past': True,\n",
       "    'title': 'Backend systems architect',\n",
       "    'person': {'first_name': 'Sylvain',\n",
       "     'last_name': 'Wallez',\n",
       "     'permalink': 'sylvain-wallez'}},\n",
       "   {'is_past': True,\n",
       "    'title': 'Director  of Operations',\n",
       "    'person': {'first_name': 'Sander',\n",
       "     'last_name': 'van Zoest',\n",
       "     'permalink': 'sander-van-zoest'}},\n",
       "   {'is_past': True,\n",
       "    'title': 'Director of Business Development',\n",
       "    'person': {'first_name': 'Aki',\n",
       "     'last_name': 'Tsuchiya',\n",
       "     'permalink': 'aki-tsuchiya'}},\n",
       "   {'is_past': True,\n",
       "    'title': 'Product Manager',\n",
       "    'person': {'first_name': 'Esther',\n",
       "     'last_name': 'Park',\n",
       "     'permalink': 'esther-park'}},\n",
       "   {'is_past': True,\n",
       "    'title': 'Advisor',\n",
       "    'person': {'first_name': 'Hiro',\n",
       "     'last_name': 'Tamura',\n",
       "     'permalink': 'hiro-tamura'}},\n",
       "   {'is_past': True,\n",
       "    'title': 'Board',\n",
       "    'person': {'first_name': 'Mark',\n",
       "     'last_name': 'Dyne',\n",
       "     'permalink': 'mark-dyne'}},\n",
       "   {'is_past': True,\n",
       "    'title': 'Senior P2P Software Engineer',\n",
       "    'person': {'first_name': 'Jens',\n",
       "     'last_name': 'Finkhaeuser',\n",
       "     'permalink': 'jens-finkhaeuser'}},\n",
       "   {'is_past': True,\n",
       "    'title': 'Creative Director',\n",
       "    'person': {'first_name': 'Mark',\n",
       "     'last_name': 'Webster',\n",
       "     'permalink': 'mark-webster'}},\n",
       "   {'is_past': True,\n",
       "    'title': 'Senior Manager',\n",
       "    'person': {'first_name': 'Allan',\n",
       "     'last_name': 'Beaufour',\n",
       "     'permalink': 'allan-beaufour'}},\n",
       "   {'is_past': True,\n",
       "    'title': 'Developer',\n",
       "    'person': {'first_name': 'Kaare',\n",
       "     'last_name': 'Larsen',\n",
       "     'permalink': 'kaare-larsen'}}],\n",
       "  'competitions': [{'competitor': {'name': 'Babelgum',\n",
       "     'permalink': 'babelgum'}},\n",
       "   {'competitor': {'name': 'Zattoo', 'permalink': 'zattoo'}},\n",
       "   {'competitor': {'name': 'YouTube', 'permalink': 'youtube'}},\n",
       "   {'competitor': {'name': 'Veoh', 'permalink': 'veoh'}},\n",
       "   {'competitor': {'name': 'Vudu', 'permalink': 'vudu'}},\n",
       "   {'competitor': {'name': 'Inuk Networks', 'permalink': 'inuk-networks'}},\n",
       "   {'competitor': {'name': 'Participatory Culture Foundation',\n",
       "     'permalink': 'participatory-culture-foundation'}},\n",
       "   {'competitor': {'name': 'Next New Networks',\n",
       "     'permalink': 'next-new-networks'}},\n",
       "   {'competitor': {'name': 'hulu', 'permalink': 'hulu'}},\n",
       "   {'competitor': {'name': 'hulu', 'permalink': 'hulu'}},\n",
       "   {'competitor': {'name': 'MUBI', 'permalink': 'mubi'}}],\n",
       "  'providerships': [],\n",
       "  'total_money_raised': '$45M',\n",
       "  'funding_rounds': [{'id': 19,\n",
       "    'round_code': 'a',\n",
       "    'source_url': 'http://www.lksf.org/eng/media/press/20070510.shtml',\n",
       "    'source_description': 'Joost Announces $45 million Funding',\n",
       "    'raised_amount': 45000000,\n",
       "    'raised_currency_code': 'USD',\n",
       "    'funded_year': 2007,\n",
       "    'funded_month': 5,\n",
       "    'funded_day': 9,\n",
       "    'investments': [{'company': None,\n",
       "      'financial_org': {'name': 'Sequoia Capital',\n",
       "       'permalink': 'sequoia-capital'},\n",
       "      'person': None},\n",
       "     {'company': None,\n",
       "      'financial_org': None,\n",
       "      'person': {'first_name': 'Li',\n",
       "       'last_name': 'Ka-shing',\n",
       "       'permalink': 'li-ka-shing'}},\n",
       "     {'company': None,\n",
       "      'financial_org': {'name': 'Index Ventures',\n",
       "       'permalink': 'index-ventures'},\n",
       "      'person': None}]}],\n",
       "  'investments': [],\n",
       "  'acquisition': {'price_amount': None,\n",
       "   'price_currency_code': 'USD',\n",
       "   'term_code': None,\n",
       "   'source_url': 'http://www.techcrunch.com/2009/11/24/joost-acquired-adconion/',\n",
       "   'source_description': 'Joost Is Now Officially Dead â€“ Assets Acquired By Adconion Media Group',\n",
       "   'acquired_year': 2009,\n",
       "   'acquired_month': 11,\n",
       "   'acquired_day': 24,\n",
       "   'acquiring_company': {'name': 'Adconion Media Group',\n",
       "    'permalink': 'adconion-media-group'}},\n",
       "  'acquisitions': [],\n",
       "  'offices': [{'description': '',\n",
       "    'address1': '100 5th Ave Fl 6',\n",
       "    'address2': '',\n",
       "    'zip_code': '10011-6903',\n",
       "    'city': 'New York',\n",
       "    'state_code': 'NY',\n",
       "    'country_code': 'USA',\n",
       "    'latitude': 40.7464969,\n",
       "    'longitude': -74.0094471}],\n",
       "  'milestones': [{'id': 4860,\n",
       "    'description': 'Joost Video Network Reaches 67 million Viewers/Month',\n",
       "    'stoned_year': 2010,\n",
       "    'stoned_month': 4,\n",
       "    'stoned_day': 15,\n",
       "    'source_url': 'http://techcrunch.com/2010/04/14/joost-video-network/',\n",
       "    'source_text': '',\n",
       "    'source_description': 'Joost Video Network Stuns With Big Reach: 67 Million Viewers Per Month ',\n",
       "    'stoneable_type': 'Company',\n",
       "    'stoned_value': None,\n",
       "    'stoned_value_type': None,\n",
       "    'stoned_acquirer': None,\n",
       "    'stoneable': {'name': 'Joost', 'permalink': 'joost'}}],\n",
       "  'ipo': None,\n",
       "  'video_embeds': [{'embed_code': '<object width=\"425\" height=\"344\"><param name=\"movie\" value=\"http://www.youtube.com/v/2W2AZNo_cRI&hl=en&fs=&ap=%2526fmt%3D6\"></param><param name=\"allowFullScreen\" value=\"true\"></param><param name=\"allowscriptaccess\" value=\"always\"></param><embed src=\"http://www.youtube.com/v/2W2AZNo_cRI&hl=en&fs=&ap=%2526fmt%3D6\" type=\"application/x-shockwave-flash\" allowscriptaccess=\"always\" allowfullscreen=\"true\" width=\"425\" height=\"344\"></embed></object>\\r\\n<a href=\"SITELINK\"> Joost iPhone App Review - AppVee.com</a>',\n",
       "    'description': ''},\n",
       "   {'embed_code': '<embed src=\"http://blip.tv/play/goRr3o02AA%2Em4v\" type=\"application/x-shockwave-flash\" width=\"370\" height=\"308\" allowscriptaccess=\"always\" allowfullscreen=\"true\"></embed>',\n",
       "    'description': '<p>This video was originally published on <a href=\"http://www.beet.tv/2008/12/joost-launches.html\" title=\"Beet.TV\" rel=\"nofollow\">Beet.TV</a></p>'}],\n",
       "  'screenshots': [],\n",
       "  'external_links': [],\n",
       "  'partners': []}]"
      ]
     },
     "execution_count": 215,
     "metadata": {},
     "output_type": "execute_result"
    }
   ],
   "source": [
    "new_york = {\"offices.city\": \"New York\"}\n",
    "list(companies.find(new_york).limit(3))"
   ]
  },
  {
   "cell_type": "code",
   "execution_count": 204,
   "id": "divine-chemical",
   "metadata": {},
   "outputs": [],
   "source": [
    "list(companies.find(ejemplo).limit(3));"
   ]
  },
  {
   "cell_type": "code",
   "execution_count": 205,
   "id": "compressed-kelly",
   "metadata": {},
   "outputs": [],
   "source": [
    "filtro = {\"offices.description\": \"Headquarters\"}"
   ]
  },
  {
   "cell_type": "code",
   "execution_count": 208,
   "id": "sonic-playback",
   "metadata": {},
   "outputs": [],
   "source": [
    "list(companies.find(ejemplo).limit(3));"
   ]
  },
  {
   "cell_type": "markdown",
   "id": "eight-conference",
   "metadata": {},
   "source": [
    "## Resumen\n",
    "Tu turno ¿qué hemos aprendido hoy?\n",
    "- Mongo\n",
    "- Localhost:27017 (dónde está mi servidor y en qué puerto) --> Establecemos la conexión con MongoClient\n",
    "- Utilizo comillas siempre porque dentro de mongo funcionan y en python no funciona sin comillas\n",
    "- Filtramos los datos de la base de datos (\"lte,gte,in,not in\")\n",
    "- En mongodbcompass no podemos usar variables\n",
    "- Cuidado que va TOPADENTRO\n",
    "- Proyección, para traer solo los campos que necesito\n",
    "- Regex nos flipa\n",
    "- Condiciones, and, or... y fantasías varias\n",
    "- Estructura de las MongoDB --> Base de datos (colecciones(documentos(campos:valores))\n",
    "- cuando hago un find viene un ITERADOR/CURSOR DE MONGO entonces hago list(colección.find(loquesea))"
   ]
  },
  {
   "cell_type": "markdown",
   "id": "incomplete-scotland",
   "metadata": {},
   "source": [
    "## Further Materials\n",
    "- Cursos de mongo desarrollados directamente por MongoDB (gratis y MUY COMPLETOS) [AQUÍ](https://university.mongodb.com/)\n",
    "- Artículo tutorial [primeros pasos](https://www.ionos.es/digitalguide/paginas-web/desarrollo-web/tutorial-de-mongodb-primeros-pasos/)\n",
    "\n",
    "- Qué es mongo: [conceptos interesantes avanzados no vistos en clase](https://openwebinars.net/blog/que-es-mongodb/) \n",
    "- Beginner`s guide mongo con [python](https://www.analyticsvidhya.com/blog/2020/02/mongodb-in-python-tutorial-for-beginners-using-pymongo/)"
   ]
  }
 ],
 "metadata": {
  "kernelspec": {
   "display_name": "ironhack",
   "language": "python",
   "name": "ironhack"
  },
  "language_info": {
   "codemirror_mode": {
    "name": "ipython",
    "version": 3
   },
   "file_extension": ".py",
   "mimetype": "text/x-python",
   "name": "python",
   "nbconvert_exporter": "python",
   "pygments_lexer": "ipython3",
   "version": "3.8.5"
  },
  "toc": {
   "base_numbering": 1,
   "nav_menu": {},
   "number_sections": true,
   "sideBar": true,
   "skip_h1_title": true,
   "title_cell": "Table of Contents",
   "title_sidebar": "Contents",
   "toc_cell": true,
   "toc_position": {
    "height": "calc(100% - 180px)",
    "left": "10px",
    "top": "150px",
    "width": "307px"
   },
   "toc_section_display": true,
   "toc_window_display": false
  }
 },
 "nbformat": 4,
 "nbformat_minor": 5
}
