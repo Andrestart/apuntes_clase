{
 "cells": [
  {
   "cell_type": "markdown",
   "id": "nominated-holmes",
   "metadata": {},
   "source": [
    "# Geoqueries en Mongo"
   ]
  },
  {
   "cell_type": "markdown",
   "id": "supported-dividend",
   "metadata": {
    "toc": true
   },
   "source": [
    "<h1>Table of Contents<span class=\"tocSkip\"></span></h1>\n",
    "<div class=\"toc\"><ul class=\"toc-item\"><li><span><a href=\"#¿Qué-podemos-hacer-con-las-geoqueries?\" data-toc-modified-id=\"¿Qué-podemos-hacer-con-las-geoqueries?-1\"><span class=\"toc-item-num\">1&nbsp;&nbsp;</span>¿Qué podemos hacer con las geoqueries?</a></span></li><li><span><a href=\"#Generamos-la-conexión-con-Mongo\" data-toc-modified-id=\"Generamos-la-conexión-con-Mongo-2\"><span class=\"toc-item-num\">2&nbsp;&nbsp;</span>Generamos la conexión con Mongo</a></span></li><li><span><a href=\"#Importar-colecciones\" data-toc-modified-id=\"Importar-colecciones-3\"><span class=\"toc-item-num\">3&nbsp;&nbsp;</span>Importar colecciones</a></span></li><li><span><a href=\"#Crear-indexes\" data-toc-modified-id=\"Crear-indexes-4\"><span class=\"toc-item-num\">4&nbsp;&nbsp;</span>Crear indexes</a></span></li><li><span><a href=\"#Generamos-las-conexiones-con-la-base-de-datos\" data-toc-modified-id=\"Generamos-las-conexiones-con-la-base-de-datos-5\"><span class=\"toc-item-num\">5&nbsp;&nbsp;</span>Generamos las conexiones con la base de datos</a></span></li><li><span><a href=\"#Empezamos-con-las-Geoqueries\" data-toc-modified-id=\"Empezamos-con-las-Geoqueries-6\"><span class=\"toc-item-num\">6&nbsp;&nbsp;</span>Empezamos con las Geoqueries</a></span></li><li><span><a href=\"#Intersects\" data-toc-modified-id=\"Intersects-7\"><span class=\"toc-item-num\">7&nbsp;&nbsp;</span>Intersects</a></span></li><li><span><a href=\"#GeoWithin\" data-toc-modified-id=\"GeoWithin-8\"><span class=\"toc-item-num\">8&nbsp;&nbsp;</span>GeoWithin</a></span></li><li><span><a href=\"#Near\" data-toc-modified-id=\"Near-9\"><span class=\"toc-item-num\">9&nbsp;&nbsp;</span>Near</a></span></li></ul></div>"
   ]
  },
  {
   "cell_type": "markdown",
   "id": "bridal-strategy",
   "metadata": {},
   "source": [
    "## ¿Qué podemos hacer con las geoqueries?\n",
    "Con las geoquerías podemos responder a preguntas como las siguientes\n",
    " * ¿Dónde están las farmacias más cercanas a mi ubicación?\n",
    " * ¿Qué restaurantes hay en esta poligonal?"
   ]
  },
  {
   "cell_type": "markdown",
   "id": "selective-discharge",
   "metadata": {},
   "source": [
    "Cada punto de la Tierra se caracteriza por dos números:\n",
    " * Longitud: ángulo respecto al meridiano de Greenwich. Va de -180° (antiGreenwich) a +180° (también antiGreenwich)\n",
    " * Latitud: ángulo con respecto al ecuador. Va de -90° (sur) a +90° (norte)"
   ]
  },
  {
   "cell_type": "markdown",
   "id": "signal-kuwait",
   "metadata": {},
   "source": [
    "![latierra](../images/latlon.gif)"
   ]
  },
  {
   "cell_type": "markdown",
   "id": "killing-adams",
   "metadata": {},
   "source": [
    "## Generamos la conexión con Mongo"
   ]
  },
  {
   "cell_type": "code",
   "execution_count": null,
   "id": "continuing-world",
   "metadata": {},
   "outputs": [],
   "source": []
  },
  {
   "cell_type": "code",
   "execution_count": null,
   "id": "regulation-turner",
   "metadata": {},
   "outputs": [],
   "source": []
  },
  {
   "cell_type": "markdown",
   "id": "functioning-cylinder",
   "metadata": {},
   "source": [
    "## Importar colecciones     \n",
    "Sigamos la documentación oficial de Mongo: [Mongo Geo Example](https://docs.mongodb.com/manual/tutorial/geospatial-tutorial/)\n",
    "Creamos estas dos colecciones nuevas:\n",
    " * `restaurants2`\n",
    " * `neighborhoods`"
   ]
  },
  {
   "cell_type": "markdown",
   "id": "peripheral-spelling",
   "metadata": {},
   "source": [
    "## Crear indexes\n",
    "La indexación geoespacial de MongoDB permite ejecutar eficientemente **consultas espaciales** sobre una colección que contiene formas y puntos geoespaciales.\n",
    "Vamos a crear un índice geográfico para que Mongo sepa que queremos hacer geo-consultas en esta colección.  \n",
    "Esto sólo debe hacerse una vez, y ahora la colección de Mongo está correctamente indexada para siempre."
   ]
  },
  {
   "cell_type": "code",
   "execution_count": null,
   "id": "marked-offset",
   "metadata": {},
   "outputs": [],
   "source": []
  },
  {
   "cell_type": "code",
   "execution_count": null,
   "id": "northern-tender",
   "metadata": {},
   "outputs": [],
   "source": [
    "# Creamos el  index 2dsphere desde pymongo\n"
   ]
  },
  {
   "cell_type": "markdown",
   "id": "brave-singles",
   "metadata": {},
   "source": [
    "Es importante indicarle el campo donde tenemos tanto el tipo de elemento (polígonos o  puntos (point)) como las coordenadas."
   ]
  },
  {
   "cell_type": "code",
   "execution_count": null,
   "id": "printable-shareware",
   "metadata": {},
   "outputs": [],
   "source": [
    "# Si quiero crear el de restaurants\n"
   ]
  },
  {
   "cell_type": "markdown",
   "id": "thermal-truth",
   "metadata": {},
   "source": [
    "## Generamos las conexiones con la base de datos"
   ]
  },
  {
   "cell_type": "code",
   "execution_count": null,
   "id": "loaded-billion",
   "metadata": {},
   "outputs": [],
   "source": []
  },
  {
   "cell_type": "markdown",
   "id": "auburn-sixth",
   "metadata": {},
   "source": [
    "## Empezamos con las Geoqueries   \n",
    "¿En qué barrio estoy?      \n",
    "¿Qué elementos **intersecan** el elemento dado?"
   ]
  },
  {
   "cell_type": "markdown",
   "id": "material-relationship",
   "metadata": {},
   "source": [
    "## Intersects"
   ]
  },
  {
   "cell_type": "markdown",
   "id": "positive-gregory",
   "metadata": {},
   "source": [
    "Necesitamos tener los datos  con tipo polígono en este caso tenemos una colección con barrios donde cada barrio  tiene dentro  el polígono que lo delimita. Y cada barrio es un documento, por eso cuando  intersecta me devuelve el documento y yo veo  que es el barrio  en concreto.    \n",
    "Selecciona los documentos cuyos datos geoespaciales se cruzan con un objeto GeoJSON especificado; es decir, cuando la intersección de los datos y el objeto especificado no está vacía."
   ]
  },
  {
   "cell_type": "code",
   "execution_count": null,
   "id": "distinguished-nelson",
   "metadata": {},
   "outputs": [],
   "source": []
  },
  {
   "cell_type": "code",
   "execution_count": null,
   "id": "enormous-camel",
   "metadata": {},
   "outputs": [],
   "source": []
  },
  {
   "cell_type": "code",
   "execution_count": null,
   "id": "configured-symphony",
   "metadata": {},
   "outputs": [],
   "source": []
  },
  {
   "cell_type": "code",
   "execution_count": null,
   "id": "compliant-cologne",
   "metadata": {},
   "outputs": [],
   "source": []
  },
  {
   "cell_type": "code",
   "execution_count": null,
   "id": "different-style",
   "metadata": {},
   "outputs": [],
   "source": []
  },
  {
   "cell_type": "markdown",
   "id": "outdoor-destination",
   "metadata": {},
   "source": [
    "El geometry que va sin dolar es porque vamos a buscar en la colección de barrios y donde está la información es dentro de la key geometry, se ve justo aquí arriba 👆🏻. El geometry que lleva dolar es la sintaxis de mongo para todas las queries geoespaciales. \n",
    "Para hacer una query geoespacial a Mongo tengo que pasarle las coordenadas en tipo point"
   ]
  },
  {
   "cell_type": "code",
   "execution_count": null,
   "id": "bound-blake",
   "metadata": {},
   "outputs": [],
   "source": []
  },
  {
   "cell_type": "code",
   "execution_count": null,
   "id": "urban-caribbean",
   "metadata": {},
   "outputs": [],
   "source": [
    "# LO QUE LLAMÁBAMOS FILTRO A LA HORA DE HACER LA QUERY\n"
   ]
  },
  {
   "cell_type": "code",
   "execution_count": null,
   "id": "democratic-rider",
   "metadata": {},
   "outputs": [],
   "source": []
  },
  {
   "cell_type": "code",
   "execution_count": null,
   "id": "dynamic-spending",
   "metadata": {},
   "outputs": [],
   "source": []
  },
  {
   "cell_type": "markdown",
   "id": "timely-amazon",
   "metadata": {},
   "source": [
    "## GeoWithin"
   ]
  },
  {
   "cell_type": "markdown",
   "id": "greek-regular",
   "metadata": {},
   "source": [
    "¿Qué elementos están **contenidos** en el elemento dado?     \n",
    "¿Qué restaurantes hay en este barrio (polígono)?"
   ]
  },
  {
   "cell_type": "code",
   "execution_count": null,
   "id": "registered-thirty",
   "metadata": {},
   "outputs": [],
   "source": [
    "# Vemos la estructura de los documentos sacando uno y viendo sus keys\n"
   ]
  },
  {
   "cell_type": "code",
   "execution_count": null,
   "id": "extensive-cincinnati",
   "metadata": {},
   "outputs": [],
   "source": [
    "#bUSCAMOS UN barrio en  concreto\n"
   ]
  },
  {
   "cell_type": "code",
   "execution_count": null,
   "id": "tribal-ceramic",
   "metadata": {},
   "outputs": [],
   "source": [
    "#Extraigo las coordenadas\n"
   ]
  },
  {
   "cell_type": "code",
   "execution_count": null,
   "id": "level-reception",
   "metadata": {},
   "outputs": [],
   "source": [
    "#Saco las keys de un documento de la coleccción  de restaurantes\n"
   ]
  },
  {
   "cell_type": "code",
   "execution_count": null,
   "id": "laughing-productivity",
   "metadata": {},
   "outputs": [],
   "source": [
    "# ER FIRTRO\n",
    "#Location porque la key de la colección donde están las coordenadas se llama location"
   ]
  },
  {
   "cell_type": "code",
   "execution_count": null,
   "id": "million-priest",
   "metadata": {},
   "outputs": [],
   "source": []
  },
  {
   "cell_type": "code",
   "execution_count": null,
   "id": "allied-original",
   "metadata": {},
   "outputs": [],
   "source": []
  },
  {
   "cell_type": "code",
   "execution_count": null,
   "id": "loving-third",
   "metadata": {},
   "outputs": [],
   "source": []
  },
  {
   "cell_type": "code",
   "execution_count": null,
   "id": "hungry-masters",
   "metadata": {},
   "outputs": [],
   "source": []
  },
  {
   "cell_type": "code",
   "execution_count": null,
   "id": "current-durham",
   "metadata": {},
   "outputs": [],
   "source": [
    "df.head()"
   ]
  },
  {
   "cell_type": "markdown",
   "id": "lightweight-section",
   "metadata": {},
   "source": [
    "## Near"
   ]
  },
  {
   "cell_type": "markdown",
   "id": "wound-campus",
   "metadata": {},
   "source": [
    "¿Qué elementos se encuentran a una distancia de una geometría determinada?     \n",
    "`$nearSphere`/`$near` y `$maxDistance` nos ayudan a encontrar todos los elementos dentro de `maxDistance` metros de la geometría deseada, **ordenados** de más cercano a más lejano."
   ]
  },
  {
   "cell_type": "code",
   "execution_count": null,
   "id": "dental-radar",
   "metadata": {},
   "outputs": [],
   "source": [
    "#  Mi posición, voy a buscar restaurantes cercanos a  ESTE punto\n"
   ]
  },
  {
   "cell_type": "code",
   "execution_count": null,
   "id": "digital-young",
   "metadata": {},
   "outputs": [],
   "source": [
    "# Km que quiero  caminar\n"
   ]
  },
  {
   "cell_type": "code",
   "execution_count": null,
   "id": "flying-essex",
   "metadata": {},
   "outputs": [],
   "source": []
  },
  {
   "cell_type": "code",
   "execution_count": null,
   "id": "twenty-queens",
   "metadata": {},
   "outputs": [],
   "source": []
  },
  {
   "cell_type": "code",
   "execution_count": null,
   "id": "competitive-heavy",
   "metadata": {},
   "outputs": [],
   "source": []
  },
  {
   "cell_type": "code",
   "execution_count": null,
   "id": "concrete-lambda",
   "metadata": {},
   "outputs": [],
   "source": []
  },
  {
   "cell_type": "code",
   "execution_count": null,
   "id": "saved-ethics",
   "metadata": {},
   "outputs": [],
   "source": []
  },
  {
   "cell_type": "code",
   "execution_count": null,
   "id": "sound-employer",
   "metadata": {},
   "outputs": [],
   "source": []
  },
  {
   "cell_type": "markdown",
   "id": "d9592fb0",
   "metadata": {},
   "source": [
    "Probamos geoqueries, desde el punto en el que estamos u otros puntos con las funciones que tenemos en el otro jupyter...."
   ]
  },
  {
   "cell_type": "code",
   "execution_count": null,
   "id": "a8af6baf",
   "metadata": {},
   "outputs": [],
   "source": []
  },
  {
   "cell_type": "code",
   "execution_count": null,
   "id": "448113f8",
   "metadata": {},
   "outputs": [],
   "source": []
  },
  {
   "cell_type": "code",
   "execution_count": null,
   "id": "6edaee6c",
   "metadata": {},
   "outputs": [],
   "source": []
  },
  {
   "cell_type": "code",
   "execution_count": null,
   "id": "8aab2e33",
   "metadata": {},
   "outputs": [],
   "source": []
  }
 ],
 "metadata": {
  "kernelspec": {
   "display_name": "ironhack",
   "language": "python",
   "name": "ironhack"
  },
  "language_info": {
   "codemirror_mode": {
    "name": "ipython",
    "version": 3
   },
   "file_extension": ".py",
   "mimetype": "text/x-python",
   "name": "python",
   "nbconvert_exporter": "python",
   "pygments_lexer": "ipython3",
   "version": "3.8.5"
  },
  "toc": {
   "base_numbering": 1,
   "nav_menu": {},
   "number_sections": true,
   "sideBar": true,
   "skip_h1_title": true,
   "title_cell": "Table of Contents",
   "title_sidebar": "Contents",
   "toc_cell": true,
   "toc_position": {
    "height": "calc(100% - 180px)",
    "left": "10px",
    "top": "150px",
    "width": "288px"
   },
   "toc_section_display": true,
   "toc_window_display": false
  }
 },
 "nbformat": 4,
 "nbformat_minor": 5
}
